{
 "cells": [
  {
   "cell_type": "markdown",
   "id": "4577a5d4",
   "metadata": {},
   "source": [
    "# Project 1 - Building & Evaluating ML Algorithms"
   ]
  },
  {
   "cell_type": "markdown",
   "id": "0c48d26f",
   "metadata": {},
   "source": [
    "In this project, you will work with a supermarket sales dataset. You will implement both regression and classification tasks to report on a set of questions.\n",
    "\n",
    "The goal of this assignment include:\n",
    "\n",
    "1. Carry exploratory data analysis to gather knowledge from data\n",
    "2. Apply data visualization techniques\n",
    "3. Build transformation pipelines for data preprocessing and data cleaning\n",
    "4. Select machine learning algorithms for regression and classification tasks\n",
    "5. Design pipelines for hyperparameter tuning and model selection\n",
    "6. Implement performance evaluation metrics and evaluate results\n",
    "7. Report observations, propose business-centric solutions and propose mitigating strategies"
   ]
  },
  {
   "cell_type": "markdown",
   "id": "ebb484cc",
   "metadata": {},
   "source": [
    "## Deliverables\n",
    "\n",
    "As part of this project, you should deliver the following materials:\n",
    "\n",
    "1. [**4-page IEEE-format pape**](https://www.ieee.org/conferences/publishing/templates.html). Write a paper with no more than 4 pages addressing the questions posed below. When writing this report, consider a business-oriented person as your reader (e.g. your PhD advisor, your internship manager, etc.). Tell *the story* for each datasets' goal and propose solutions by addressing (at least) the questions posed below.\n",
    "\n",
    "2. **Python Code**. Create two separate Notebooks: (1) \"training.ipynb\" used for training and hyperparameter tuning, (2) \"test.ipynb\" for evaluating the final trained model in the test set. The \"test.ipynb\" should load all trained objects and simply evaluate the performance. So don't forget to **push the trained models** to your repository to allow us to run it.\n",
    "\n",
    "All of your code should run without any errors and be well-documented. \n",
    "\n",
    "3. **README.md file**. Edit the readme.md file in your repository and how to use your code. If there are user-defined parameters, your readme.md file must clearly indicate so and demonstrate how to use your code.\n",
    "\n",
    "This is an **individual assignment**. \n",
    "\n",
    "These deliverables are **due Tuesday, October 11 @ 11:59pm**. Late submissions will not be accepted, so please plan accordingly."
   ]
  },
  {
   "cell_type": "markdown",
   "id": "04efb838",
   "metadata": {},
   "source": [
    "---"
   ]
  },
  {
   "cell_type": "markdown",
   "id": "c6af17a9",
   "metadata": {},
   "source": [
    "# About the Dataset"
   ]
  },
  {
   "cell_type": "markdown",
   "id": "86dc2f64",
   "metadata": {},
   "source": [
    "The growth of supermarkets in most populated cities are increasing and market competitions are also high. The dataset is one of the historical sales of supermarket company which has recorded in 3 different branches for 3 months data. The supermarket sales dataset is available in the ```supermarket_sales.csv``` file.\n",
    "\n",
    "### Attribute Description\n",
    "\n",
    "1. **Invoice id**: Computer generated sales slip invoice identification number.\n",
    "\n",
    "2. **Branch**: Branch of supercenter (3 branches are available identified by A, B and C).\n",
    "\n",
    "3. **City**: Location of supercenters.\n",
    "\n",
    "4. **Customer type**: Type of customers, recorded by ```Member``` for customers using member card and ```Normal``` for without member card.\n",
    "\n",
    "5. **Gender**: Gender type of customer.\n",
    "\n",
    "6. **Product line**: General item categorization groups - Electronic accessories, Fashion accessories, Food and beverages, Health and beauty, Home and lifestyle, Sports and travel.\n",
    "\n",
    "7. **Unit price**: Price of each product in US dollars.\n",
    "\n",
    "8. **Quantity**: Number of products purchased by customer.\n",
    "\n",
    "9. **Total**: Total price including tax.\n",
    "\n",
    "10. **Date**: Date of purchase (record available from January 2019 to March 2019).\n",
    "\n",
    "11. **Time**: Purchase time (10am to 9pm).\n",
    "\n",
    "12. **Payment**: Payment used by customer for purchase (3 methods are available - ```Cash```, ```Credit``` card and ```Ewallet```).\n",
    "\n",
    "13. **COGS**: Cost of goods sold.\n",
    "\n",
    "14. **Gross margin percentage**: Gross margin percentage.\n",
    "\n",
    "15. **Gross income**: supercenter gross income in US dollars.\n",
    "\n",
    "16. **Rating**: Customer stratification rating on their overall shopping experience (on a scale of 1 to 10)."
   ]
  },
  {
   "cell_type": "markdown",
   "id": "87bf5178",
   "metadata": {},
   "source": [
    "# Assignment"
   ]
  },
  {
   "cell_type": "markdown",
   "id": "5eb672b3",
   "metadata": {},
   "source": [
    "1. Apply the necessary data preprocessing using ```scikit-learn``` pipelines. Justify all choices. The only requirements regarding attribute encoding are:\n",
    "\n",
    "    1. Encode the attribute ```Date``` with the respective day of the week (Monday, Tuesday, Wednesday, Thursday, Friday, Saturday and Sunday).\n",
    "    2. Encode the attribute ```Time``` into 4 categories: Morning (10:00 - 11:59), Afternoon (12:00 - 17:00), Evening (17:01 - 19:00) and Night (19:01 - 21:00)."
   ]
  },
  {
   "cell_type": "markdown",
   "id": "43cf9b63",
   "metadata": {},
   "source": [
    "For what follows, use the coefficient of determination, $r^2$, as one of your metrics of success and report its 95% confidence interval. Carry any necessary hyperparameter tuning with pipelines. Choose the best CV strategy and report on the best hyperparameter settings."
   ]
  },
  {
   "cell_type": "markdown",
   "id": "31f321eb",
   "metadata": {},
   "source": [
    "2. Train a multiple linear regression with and without Lasso regularization to **predict ```gross income```**.\n",
    "\n",
    "    1. How is the gross income affected by unit price, quantity, and other variables like day, time slot, and product line in general?\n",
    "    \n",
    "    4. When using Lasso regularizer, which value for the hyperparameter $\\lambda$ best works for this dataset? Which features were excluded in this model, if any?"
   ]
  },
  {
   "cell_type": "markdown",
   "id": "13ca4d79",
   "metadata": {},
   "source": [
    "3. Train a multiple linear regression with and without Lasso regularization to **predict ```Unit price```**.\n",
    "\n",
    "    1. How is the unit price affected by gross income, quantity, and other variables like day, timeslot, and product line in general?\n",
    "    \n",
    "    4. When using Lasso regularizer, which value for the hyperparameter $\\lambda$ best works for this dataset? Which features were excluded in this model, if any?"
   ]
  },
  {
   "cell_type": "markdown",
   "id": "3c067002",
   "metadata": {},
   "source": [
    "---"
   ]
  },
  {
   "cell_type": "markdown",
   "id": "ac064127",
   "metadata": {},
   "source": [
    "#### Question 4 and 5 are required for completion for the EEL 5934 section only. Individuals in EEL 4930 are welcome to solve these tasks but no extra credit will be credited."
   ]
  },
  {
   "cell_type": "markdown",
   "id": "5cc21d6b",
   "metadata": {},
   "source": [
    "4. Train a logistic regression to **classify gender** and study the relationship between attributes. Namely, explain the relationship between gender, product line, payment and gross income for branch C. To study this relationship, consider all the interaction attribution of degree 2. (See ```interaction_only``` variable in [```PolynomialFeatures```](https://scikit-learn.org/stable/modules/generated/sklearn.preprocessing.PolynomialFeatures.html)).\n",
    "\n",
    "    1. For ```Gender=male``` customers, plot the parameters values for all attributes (and its 2nd-order interactions).\n",
    "    2. Which attributes are the most informative?"
   ]
  },
  {
   "cell_type": "markdown",
   "id": "87242373",
   "metadata": {},
   "source": [
    "5. Train a logistic regression to **classify customer type** and study the relationship between attributes. Namely, explain the relationship between customer type, gender, day and timeslot for branch C. To study this relationship, consider all the interaction attribution of degree 2. (See ```interaction_only``` variable in [```PolynomialFeatures```](https://scikit-learn.org/stable/modules/generated/sklearn.preprocessing.PolynomialFeatures.html)).\n",
    "\n",
    "    1. For ```Customer type = Normal``` customers, plot the parameters values for all attributes (and its 2nd-order interactions).\n",
    "    2. Which attributes are the most informative?"
   ]
  },
  {
   "cell_type": "markdown",
   "id": "edc69f43",
   "metadata": {},
   "source": [
    "---"
   ]
  },
  {
   "cell_type": "markdown",
   "id": "3c4aebd1",
   "metadata": {},
   "source": [
    "For what follows, use accuracy as one of your metrics of success and report its 95% confidence interval. Carry any necessary hyperparameter tuning with pipelines. Choose the best CV strategy and report on the best hyperparameter settings."
   ]
  },
  {
   "cell_type": "markdown",
   "id": "bad630a4",
   "metadata": {},
   "source": [
    "6. Train a classifier to **predict the day of purchase** (Monday, Tuesday, etc.).\n",
    "\n",
    "    1. Select at least 2 classifiers."
   ]
  },
  {
   "cell_type": "markdown",
   "id": "a24bc40d",
   "metadata": {},
   "source": [
    "---"
   ]
  },
  {
   "cell_type": "markdown",
   "id": "66027c2c",
   "metadata": {},
   "source": [
    "# Submit Your Solution\n",
    "\n",
    "Confirm that you've successfully completed the assignment.\n",
    "\n",
    "Along with the Notebook, include a PDF of the notebook with your solutions.\n",
    "\n",
    "```add``` and ```commit``` the final version of your work, and ```push``` your code to your GitHub repository.\n",
    "\n",
    "Submit the URL of your GitHub Repository as your assignment submission on Canvas."
   ]
  },
  {
   "cell_type": "markdown",
   "id": "1aa2d31e",
   "metadata": {},
   "source": [
    "---"
   ]
  }
 ],
 "metadata": {
  "kernelspec": {
   "display_name": "Python 3 (ipykernel)",
   "language": "python",
   "name": "python3"
  },
  "language_info": {
   "codemirror_mode": {
    "name": "ipython",
    "version": 3
   },
   "file_extension": ".py",
   "mimetype": "text/x-python",
   "name": "python",
   "nbconvert_exporter": "python",
   "pygments_lexer": "ipython3",
   "version": "3.9.12"
  },
  "latex_envs": {
   "LaTeX_envs_menu_present": true,
   "autoclose": false,
   "autocomplete": true,
   "bibliofile": "biblio.bib",
   "cite_by": "apalike",
   "current_citInitial": 1,
   "eqLabelWithNumbers": true,
   "eqNumInitial": 1,
   "hotkeys": {
    "equation": "Ctrl-E",
    "itemize": "Ctrl-I"
   },
   "labels_anchors": false,
   "latex_user_defs": false,
   "report_style_numbering": false,
   "user_envs_cfg": false
  },
  "varInspector": {
   "cols": {
    "lenName": 16,
    "lenType": 16,
    "lenVar": 40
   },
   "kernels_config": {
    "python": {
     "delete_cmd_postfix": "",
     "delete_cmd_prefix": "del ",
     "library": "var_list.py",
     "varRefreshCmd": "print(var_dic_list())"
    },
    "r": {
     "delete_cmd_postfix": ") ",
     "delete_cmd_prefix": "rm(",
     "library": "var_list.r",
     "varRefreshCmd": "cat(var_dic_list()) "
    }
   },
   "types_to_exclude": [
    "module",
    "function",
    "builtin_function_or_method",
    "instance",
    "_Feature"
   ],
   "window_display": false
  }
 },
 "nbformat": 4,
 "nbformat_minor": 5
}
