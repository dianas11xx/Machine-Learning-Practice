{
 "cells": [
  {
   "cell_type": "markdown",
   "id": "97b8bebd",
   "metadata": {},
   "source": [
    "# Testing models trained "
   ]
  },
  {
   "cell_type": "markdown",
   "id": "69b1e149",
   "metadata": {},
   "source": [
    "## Problem 2 \n",
    "### Part 1: Predict gross income using multiple linear regression with Lasso regularization"
   ]
  },
  {
   "cell_type": "code",
   "execution_count": 25,
   "id": "4e4c551a",
   "metadata": {},
   "outputs": [
    {
     "data": {
      "text/html": [
       "<div>\n",
       "<style scoped>\n",
       "    .dataframe tbody tr th:only-of-type {\n",
       "        vertical-align: middle;\n",
       "    }\n",
       "\n",
       "    .dataframe tbody tr th {\n",
       "        vertical-align: top;\n",
       "    }\n",
       "\n",
       "    .dataframe thead th {\n",
       "        text-align: right;\n",
       "    }\n",
       "</style>\n",
       "<table border=\"1\" class=\"dataframe\">\n",
       "  <thead>\n",
       "    <tr style=\"text-align: right;\">\n",
       "      <th></th>\n",
       "      <th>Product line</th>\n",
       "      <th>Unit price</th>\n",
       "      <th>Quantity</th>\n",
       "      <th>Day of Week</th>\n",
       "      <th>Time</th>\n",
       "    </tr>\n",
       "  </thead>\n",
       "  <tbody>\n",
       "    <tr>\n",
       "      <th>686</th>\n",
       "      <td>Sports and travel</td>\n",
       "      <td>64.83</td>\n",
       "      <td>2</td>\n",
       "      <td>1</td>\n",
       "      <td>1</td>\n",
       "    </tr>\n",
       "    <tr>\n",
       "      <th>195</th>\n",
       "      <td>Fashion accessories</td>\n",
       "      <td>74.29</td>\n",
       "      <td>1</td>\n",
       "      <td>6</td>\n",
       "      <td>4</td>\n",
       "    </tr>\n",
       "    <tr>\n",
       "      <th>374</th>\n",
       "      <td>Home and lifestyle</td>\n",
       "      <td>67.09</td>\n",
       "      <td>5</td>\n",
       "      <td>3</td>\n",
       "      <td>2</td>\n",
       "    </tr>\n",
       "    <tr>\n",
       "      <th>86</th>\n",
       "      <td>Fashion accessories</td>\n",
       "      <td>76.52</td>\n",
       "      <td>5</td>\n",
       "      <td>0</td>\n",
       "      <td>1</td>\n",
       "    </tr>\n",
       "    <tr>\n",
       "      <th>40</th>\n",
       "      <td>Home and lifestyle</td>\n",
       "      <td>86.72</td>\n",
       "      <td>1</td>\n",
       "      <td>3</td>\n",
       "      <td>3</td>\n",
       "    </tr>\n",
       "    <tr>\n",
       "      <th>...</th>\n",
       "      <td>...</td>\n",
       "      <td>...</td>\n",
       "      <td>...</td>\n",
       "      <td>...</td>\n",
       "      <td>...</td>\n",
       "    </tr>\n",
       "    <tr>\n",
       "      <th>609</th>\n",
       "      <td>Food and beverages</td>\n",
       "      <td>57.89</td>\n",
       "      <td>2</td>\n",
       "      <td>3</td>\n",
       "      <td>1</td>\n",
       "    </tr>\n",
       "    <tr>\n",
       "      <th>54</th>\n",
       "      <td>Home and lifestyle</td>\n",
       "      <td>16.16</td>\n",
       "      <td>2</td>\n",
       "      <td>3</td>\n",
       "      <td>1</td>\n",
       "    </tr>\n",
       "    <tr>\n",
       "      <th>580</th>\n",
       "      <td>Food and beverages</td>\n",
       "      <td>27.22</td>\n",
       "      <td>3</td>\n",
       "      <td>0</td>\n",
       "      <td>1</td>\n",
       "    </tr>\n",
       "    <tr>\n",
       "      <th>988</th>\n",
       "      <td>Electronic accessories</td>\n",
       "      <td>82.34</td>\n",
       "      <td>10</td>\n",
       "      <td>4</td>\n",
       "      <td>4</td>\n",
       "    </tr>\n",
       "    <tr>\n",
       "      <th>743</th>\n",
       "      <td>Home and lifestyle</td>\n",
       "      <td>37.69</td>\n",
       "      <td>2</td>\n",
       "      <td>2</td>\n",
       "      <td>2</td>\n",
       "    </tr>\n",
       "  </tbody>\n",
       "</table>\n",
       "<p>200 rows × 5 columns</p>\n",
       "</div>"
      ],
      "text/plain": [
       "               Product line  Unit price  Quantity  Day of Week  Time\n",
       "686       Sports and travel       64.83         2            1     1\n",
       "195     Fashion accessories       74.29         1            6     4\n",
       "374      Home and lifestyle       67.09         5            3     2\n",
       "86      Fashion accessories       76.52         5            0     1\n",
       "40       Home and lifestyle       86.72         1            3     3\n",
       "..                      ...         ...       ...          ...   ...\n",
       "609      Food and beverages       57.89         2            3     1\n",
       "54       Home and lifestyle       16.16         2            3     1\n",
       "580      Food and beverages       27.22         3            0     1\n",
       "988  Electronic accessories       82.34        10            4     4\n",
       "743      Home and lifestyle       37.69         2            2     2\n",
       "\n",
       "[200 rows x 5 columns]"
      ]
     },
     "execution_count": 25,
     "metadata": {},
     "output_type": "execute_result"
    }
   ],
   "source": [
    "import joblib \n",
    "\n",
    "# Import test sets for model 1\n",
    "\n",
    "X_test_M1 = joblib.load('test_sets/X_test_M1.pkl')\n",
    "X_test_M1"
   ]
  },
  {
   "cell_type": "code",
   "execution_count": 28,
   "id": "a5c0d4e6",
   "metadata": {},
   "outputs": [
    {
     "data": {
      "text/plain": [
       "686     6.4830\n",
       "195     3.7145\n",
       "374    16.7725\n",
       "86     19.1300\n",
       "40      4.3360\n",
       "        ...   \n",
       "609     5.7890\n",
       "54      1.6160\n",
       "580     4.0830\n",
       "988    41.1700\n",
       "743     3.7690\n",
       "Name: gross income, Length: 200, dtype: float64"
      ]
     },
     "execution_count": 28,
     "metadata": {},
     "output_type": "execute_result"
    }
   ],
   "source": [
    "t_test_M1 = joblib.load('test_sets/t_test_M1.pkl')\n",
    "t_test_M1"
   ]
  },
  {
   "cell_type": "code",
   "execution_count": 30,
   "id": "9a9103a6",
   "metadata": {},
   "outputs": [
    {
     "data": {
      "text/plain": [
       "Pipeline(steps=[('preprocess',\n",
       "                 ColumnTransformer(transformers=[('num',\n",
       "                                                  Pipeline(steps=[('scaler',\n",
       "                                                                   MinMaxScaler())]),\n",
       "                                                  ['Unit price', 'Quantity']),\n",
       "                                                 ('cat',\n",
       "                                                  Pipeline(steps=[('one_hot',\n",
       "                                                                   OneHotEncoder())]),\n",
       "                                                  ['Product line',\n",
       "                                                   'Day of Week', 'Time'])])),\n",
       "                ('lasso_reg', Lasso(alpha=0.07581981981981982))])"
      ]
     },
     "execution_count": 30,
     "metadata": {},
     "output_type": "execute_result"
    }
   ],
   "source": [
    "# Import pipeline \n",
    "\n",
    "pipeline_M1_lasso = joblib.load('pipelines/pipeline_problem2_lasso.pkl')\n",
    "pipeline_M1_lasso"
   ]
  },
  {
   "cell_type": "code",
   "execution_count": 5,
   "id": "729d7ee0",
   "metadata": {},
   "outputs": [
    {
     "data": {
      "text/plain": [
       "0.8762544491843862"
      ]
     },
     "execution_count": 5,
     "metadata": {},
     "output_type": "execute_result"
    }
   ],
   "source": [
    "from sklearn.metrics import r2_score\n",
    "\n",
    "# find coefficient of determination using test set\n",
    "r2_score(t_test_M1, pipeline_M1_lasso.predict(X_test_M1))"
   ]
  },
  {
   "cell_type": "code",
   "execution_count": 32,
   "id": "699266b2",
   "metadata": {},
   "outputs": [
    {
     "data": {
      "text/plain": [
       "array([0.83039798, 0.6730198 , 0.89708989, 0.87412847, 0.87158382,\n",
       "       0.72770541, 0.92813058, 0.81338891, 0.91059734, 0.87875687])"
      ]
     },
     "execution_count": 32,
     "metadata": {},
     "output_type": "execute_result"
    }
   ],
   "source": [
    "from sklearn.model_selection import cross_val_score\n",
    "\n",
    "# To compute 95% CI\n",
    "scores_1 = cross_val_score(pipeline_M1_lasso, X_test_M1, t_test_M1,\n",
    "                        cv=10,\n",
    "                        scoring='r2')\n",
    "\n",
    "scores_1"
   ]
  },
  {
   "cell_type": "code",
   "execution_count": 33,
   "id": "994047c5",
   "metadata": {},
   "outputs": [
    {
     "name": "stdout",
     "output_type": "stream",
     "text": [
      "95% CI:  (0.7816033670686401, 0.8993564445512715)\n"
     ]
    }
   ],
   "source": [
    "from scipy import stats\n",
    "import numpy as np\n",
    "# confidence interval for scores\n",
    "confidence = 0.95\n",
    "\n",
    "print('95% CI: ', stats.t.interval(confidence, len(scores_1) - 1,\n",
    "                 loc=scores_1.mean(),\n",
    "                 scale=scores_1.std(ddof=1)/np.sqrt(len(scores_1))))"
   ]
  },
  {
   "cell_type": "markdown",
   "id": "ad0c3bd4",
   "metadata": {},
   "source": [
    "### Part 2: Predict gross income using multiple linear regression without Lasso regularization"
   ]
  },
  {
   "cell_type": "code",
   "execution_count": 9,
   "id": "1d253b18",
   "metadata": {},
   "outputs": [
    {
     "data": {
      "text/plain": [
       "Pipeline(steps=[('preprocess',\n",
       "                 ColumnTransformer(transformers=[('num',\n",
       "                                                  Pipeline(steps=[('scaler',\n",
       "                                                                   MinMaxScaler())]),\n",
       "                                                  ['Unit price', 'Quantity']),\n",
       "                                                 ('cat',\n",
       "                                                  Pipeline(steps=[('one_hot',\n",
       "                                                                   OneHotEncoder())]),\n",
       "                                                  ['Product line',\n",
       "                                                   'Day of Week', 'Time'])])),\n",
       "                ('lin_reg', LinearRegression(fit_intercept=False))])"
      ]
     },
     "execution_count": 9,
     "metadata": {},
     "output_type": "execute_result"
    }
   ],
   "source": [
    "# Import pipeline \n",
    "\n",
    "pipeline_M1_noLasso = joblib.load('pipelines/pipeline_problem2_noLasso.pkl')\n",
    "pipeline_M1_noLasso"
   ]
  },
  {
   "cell_type": "code",
   "execution_count": 10,
   "id": "2c48da1d",
   "metadata": {},
   "outputs": [
    {
     "data": {
      "text/plain": [
       "0.8767654460097892"
      ]
     },
     "execution_count": 10,
     "metadata": {},
     "output_type": "execute_result"
    }
   ],
   "source": [
    "# find coefficient of determination using test set\n",
    "r2_score(t_test_M1, pipeline_M1_noLasso.predict(X_test_M1))"
   ]
  },
  {
   "cell_type": "code",
   "execution_count": 11,
   "id": "add7432e",
   "metadata": {},
   "outputs": [
    {
     "data": {
      "text/plain": [
       "array([0.83519447, 0.66135093, 0.90034951, 0.87620638, 0.87235645,\n",
       "       0.64192114, 0.91118906, 0.77767678, 0.91237427, 0.86237491])"
      ]
     },
     "execution_count": 11,
     "metadata": {},
     "output_type": "execute_result"
    }
   ],
   "source": [
    "# To compute 95% CI\n",
    "scores_2 = cross_val_score(pipeline_M1_noLasso, X_test_M1, t_test_M1,\n",
    "                        cv=10,\n",
    "                        scoring='r2')\n",
    "\n",
    "scores_2"
   ]
  },
  {
   "cell_type": "code",
   "execution_count": 12,
   "id": "9b8c124e",
   "metadata": {},
   "outputs": [
    {
     "name": "stdout",
     "output_type": "stream",
     "text": [
      "95% CI:  (0.7537052484687681, 0.8964935272226313)\n"
     ]
    }
   ],
   "source": [
    "# confidence interval for scores\n",
    "confidence = 0.95\n",
    "\n",
    "print('95% CI: ', stats.t.interval(confidence, len(scores_2) - 1,\n",
    "                 loc=scores_2.mean(),\n",
    "                 scale=scores_2.std(ddof=1)/np.sqrt(len(scores_2))))"
   ]
  },
  {
   "cell_type": "markdown",
   "id": "42699698",
   "metadata": {},
   "source": [
    "Based on these results, the second model where lasso regularization is not used, would be the most optimal choice considering it has a higher r2 score and produces a 95% CI with smalller possible errors."
   ]
  },
  {
   "cell_type": "markdown",
   "id": "031e3f86",
   "metadata": {},
   "source": [
    "## Problem 3\n",
    "### Part 1: Predict Unit price using multiple linear regression with Lasso Regularization"
   ]
  },
  {
   "cell_type": "code",
   "execution_count": 34,
   "id": "20b27320",
   "metadata": {},
   "outputs": [
    {
     "data": {
      "text/html": [
       "<div>\n",
       "<style scoped>\n",
       "    .dataframe tbody tr th:only-of-type {\n",
       "        vertical-align: middle;\n",
       "    }\n",
       "\n",
       "    .dataframe tbody tr th {\n",
       "        vertical-align: top;\n",
       "    }\n",
       "\n",
       "    .dataframe thead th {\n",
       "        text-align: right;\n",
       "    }\n",
       "</style>\n",
       "<table border=\"1\" class=\"dataframe\">\n",
       "  <thead>\n",
       "    <tr style=\"text-align: right;\">\n",
       "      <th></th>\n",
       "      <th>Product line</th>\n",
       "      <th>Quantity</th>\n",
       "      <th>gross income</th>\n",
       "      <th>Day of Week</th>\n",
       "      <th>Time</th>\n",
       "    </tr>\n",
       "  </thead>\n",
       "  <tbody>\n",
       "    <tr>\n",
       "      <th>479</th>\n",
       "      <td>Electronic accessories</td>\n",
       "      <td>1</td>\n",
       "      <td>1.9300</td>\n",
       "      <td>1</td>\n",
       "      <td>1</td>\n",
       "    </tr>\n",
       "    <tr>\n",
       "      <th>876</th>\n",
       "      <td>Fashion accessories</td>\n",
       "      <td>1</td>\n",
       "      <td>2.6175</td>\n",
       "      <td>1</td>\n",
       "      <td>3</td>\n",
       "    </tr>\n",
       "    <tr>\n",
       "      <th>285</th>\n",
       "      <td>Health and beauty</td>\n",
       "      <td>5</td>\n",
       "      <td>16.6700</td>\n",
       "      <td>2</td>\n",
       "      <td>3</td>\n",
       "    </tr>\n",
       "    <tr>\n",
       "      <th>419</th>\n",
       "      <td>Electronic accessories</td>\n",
       "      <td>7</td>\n",
       "      <td>8.8270</td>\n",
       "      <td>0</td>\n",
       "      <td>1</td>\n",
       "    </tr>\n",
       "    <tr>\n",
       "      <th>825</th>\n",
       "      <td>Sports and travel</td>\n",
       "      <td>4</td>\n",
       "      <td>4.4020</td>\n",
       "      <td>1</td>\n",
       "      <td>3</td>\n",
       "    </tr>\n",
       "    <tr>\n",
       "      <th>...</th>\n",
       "      <td>...</td>\n",
       "      <td>...</td>\n",
       "      <td>...</td>\n",
       "      <td>...</td>\n",
       "      <td>...</td>\n",
       "    </tr>\n",
       "    <tr>\n",
       "      <th>841</th>\n",
       "      <td>Electronic accessories</td>\n",
       "      <td>1</td>\n",
       "      <td>3.0150</td>\n",
       "      <td>3</td>\n",
       "      <td>3</td>\n",
       "    </tr>\n",
       "    <tr>\n",
       "      <th>132</th>\n",
       "      <td>Sports and travel</td>\n",
       "      <td>4</td>\n",
       "      <td>6.9680</td>\n",
       "      <td>6</td>\n",
       "      <td>3</td>\n",
       "    </tr>\n",
       "    <tr>\n",
       "      <th>438</th>\n",
       "      <td>Food and beverages</td>\n",
       "      <td>4</td>\n",
       "      <td>3.4080</td>\n",
       "      <td>4</td>\n",
       "      <td>4</td>\n",
       "    </tr>\n",
       "    <tr>\n",
       "      <th>129</th>\n",
       "      <td>Sports and travel</td>\n",
       "      <td>9</td>\n",
       "      <td>40.6260</td>\n",
       "      <td>4</td>\n",
       "      <td>1</td>\n",
       "    </tr>\n",
       "    <tr>\n",
       "      <th>632</th>\n",
       "      <td>Food and beverages</td>\n",
       "      <td>2</td>\n",
       "      <td>8.3770</td>\n",
       "      <td>1</td>\n",
       "      <td>1</td>\n",
       "    </tr>\n",
       "  </tbody>\n",
       "</table>\n",
       "<p>200 rows × 5 columns</p>\n",
       "</div>"
      ],
      "text/plain": [
       "               Product line  Quantity  gross income  Day of Week  Time\n",
       "479  Electronic accessories         1        1.9300            1     1\n",
       "876     Fashion accessories         1        2.6175            1     3\n",
       "285       Health and beauty         5       16.6700            2     3\n",
       "419  Electronic accessories         7        8.8270            0     1\n",
       "825       Sports and travel         4        4.4020            1     3\n",
       "..                      ...       ...           ...          ...   ...\n",
       "841  Electronic accessories         1        3.0150            3     3\n",
       "132       Sports and travel         4        6.9680            6     3\n",
       "438      Food and beverages         4        3.4080            4     4\n",
       "129       Sports and travel         9       40.6260            4     1\n",
       "632      Food and beverages         2        8.3770            1     1\n",
       "\n",
       "[200 rows x 5 columns]"
      ]
     },
     "execution_count": 34,
     "metadata": {},
     "output_type": "execute_result"
    }
   ],
   "source": [
    "# Import test sets for model 2\n",
    "\n",
    "X_test_M2 = joblib.load('test_sets/X_test_M2.pkl')\n",
    "X_test_M2"
   ]
  },
  {
   "cell_type": "code",
   "execution_count": 35,
   "id": "bb475a66",
   "metadata": {},
   "outputs": [
    {
     "data": {
      "text/plain": [
       "479    38.60\n",
       "876    52.35\n",
       "285    66.68\n",
       "419    25.22\n",
       "825    22.01\n",
       "       ...  \n",
       "841    60.30\n",
       "132    34.84\n",
       "438    17.04\n",
       "129    90.28\n",
       "632    83.77\n",
       "Name: Unit price, Length: 200, dtype: float64"
      ]
     },
     "execution_count": 35,
     "metadata": {},
     "output_type": "execute_result"
    }
   ],
   "source": [
    "t_test_M2 = joblib.load('test_sets/t_test_M2.pkl')\n",
    "t_test_M2"
   ]
  },
  {
   "cell_type": "code",
   "execution_count": 38,
   "id": "7dd0bee2",
   "metadata": {},
   "outputs": [
    {
     "data": {
      "text/plain": [
       "Pipeline(steps=[('preprocess',\n",
       "                 ColumnTransformer(transformers=[('num',\n",
       "                                                  Pipeline(steps=[('scaler',\n",
       "                                                                   MinMaxScaler())]),\n",
       "                                                  ['gross income', 'Quantity']),\n",
       "                                                 ('cat',\n",
       "                                                  Pipeline(steps=[('one_hot',\n",
       "                                                                   OneHotEncoder())]),\n",
       "                                                  ['Product line',\n",
       "                                                   'Day of Week', 'Time'])])),\n",
       "                ('lasso_reg', Lasso(alpha=0.1))])"
      ]
     },
     "execution_count": 38,
     "metadata": {},
     "output_type": "execute_result"
    }
   ],
   "source": [
    "# Import pipeline \n",
    "\n",
    "pipeline_M2_lasso = joblib.load('pipelines/pipeline_problem3_lasso.pkl')\n",
    "pipeline_M2_lasso"
   ]
  },
  {
   "cell_type": "code",
   "execution_count": 39,
   "id": "8cc67576",
   "metadata": {},
   "outputs": [
    {
     "data": {
      "text/plain": [
       "0.7841479066711223"
      ]
     },
     "execution_count": 39,
     "metadata": {},
     "output_type": "execute_result"
    }
   ],
   "source": [
    "# find coefficient of determination using test set\n",
    "r2_score(t_test_M2, pipeline_M2_lasso.predict(X_test_M2))"
   ]
  },
  {
   "cell_type": "code",
   "execution_count": 40,
   "id": "597956a8",
   "metadata": {},
   "outputs": [
    {
     "data": {
      "text/plain": [
       "array([0.86950075, 0.8031451 , 0.73594587, 0.85515594, 0.93647798,\n",
       "       0.53195232, 0.83182797, 0.60362848, 0.87909811, 0.8164887 ])"
      ]
     },
     "execution_count": 40,
     "metadata": {},
     "output_type": "execute_result"
    }
   ],
   "source": [
    "# To compute 95% CI\n",
    "scores_3 = cross_val_score(pipeline_M2_lasso, X_test_M2, t_test_M2,\n",
    "                        cv=10,\n",
    "                        scoring='r2')\n",
    "\n",
    "scores_3"
   ]
  },
  {
   "cell_type": "code",
   "execution_count": 41,
   "id": "39289607",
   "metadata": {},
   "outputs": [
    {
     "name": "stdout",
     "output_type": "stream",
     "text": [
      "95% CI:  (0.6949934932240026, 0.8776507514097328)\n"
     ]
    }
   ],
   "source": [
    "# confidence interval for scores\n",
    "confidence = 0.95\n",
    "\n",
    "print('95% CI: ', stats.t.interval(confidence, len(scores_3) - 1,\n",
    "                 loc=scores_3.mean(),\n",
    "                 scale=scores_3.std(ddof=1)/np.sqrt(len(scores_3))))"
   ]
  },
  {
   "cell_type": "markdown",
   "id": "252ad4aa",
   "metadata": {},
   "source": [
    "### Part 2: Predict Unit price using Multiple Linear Regression without Lasso Regularization"
   ]
  },
  {
   "cell_type": "code",
   "execution_count": 42,
   "id": "25c97b4f",
   "metadata": {},
   "outputs": [
    {
     "data": {
      "text/plain": [
       "Pipeline(steps=[('preprocess',\n",
       "                 ColumnTransformer(transformers=[('num',\n",
       "                                                  Pipeline(steps=[('scaler',\n",
       "                                                                   MinMaxScaler())]),\n",
       "                                                  ['gross income', 'Quantity']),\n",
       "                                                 ('cat',\n",
       "                                                  Pipeline(steps=[('one_hot',\n",
       "                                                                   OneHotEncoder())]),\n",
       "                                                  ['Product line',\n",
       "                                                   'Day of Week', 'Time'])])),\n",
       "                ('lin_reg', LinearRegression(fit_intercept=False))])"
      ]
     },
     "execution_count": 42,
     "metadata": {},
     "output_type": "execute_result"
    }
   ],
   "source": [
    "# Import pipeline \n",
    "\n",
    "pipeline_M2_noLasso = joblib.load('pipelines/pipeline_problem3_noLasso.pkl')\n",
    "pipeline_M2_noLasso"
   ]
  },
  {
   "cell_type": "code",
   "execution_count": 43,
   "id": "6c9723bc",
   "metadata": {},
   "outputs": [
    {
     "data": {
      "text/plain": [
       "0.778630710608738"
      ]
     },
     "execution_count": 43,
     "metadata": {},
     "output_type": "execute_result"
    }
   ],
   "source": [
    "# find coefficient of determination using test set\n",
    "r2_score(t_test_M2, pipeline_M2_noLasso.predict(X_test_M2))"
   ]
  },
  {
   "cell_type": "code",
   "execution_count": 44,
   "id": "cbbf2a79",
   "metadata": {},
   "outputs": [
    {
     "data": {
      "text/plain": [
       "array([0.87010075, 0.79054475, 0.72368755, 0.85453321, 0.92904932,\n",
       "       0.51938385, 0.81663286, 0.60859172, 0.86151834, 0.80724193])"
      ]
     },
     "execution_count": 44,
     "metadata": {},
     "output_type": "execute_result"
    }
   ],
   "source": [
    "# To compute 95% CI\n",
    "scores_4 = cross_val_score(pipeline_M2_noLasso, X_test_M2, t_test_M2,\n",
    "                        cv=10,\n",
    "                        scoring='r2')\n",
    "\n",
    "scores_4"
   ]
  },
  {
   "cell_type": "code",
   "execution_count": 45,
   "id": "548053cb",
   "metadata": {},
   "outputs": [
    {
     "name": "stdout",
     "output_type": "stream",
     "text": [
      "95% CI:  (0.6872761590283674, 0.8689806978946246)\n"
     ]
    }
   ],
   "source": [
    "# confidence interval for scores\n",
    "confidence = 0.95\n",
    "\n",
    "print('95% CI: ', stats.t.interval(confidence, len(scores_4) - 1,\n",
    "                 loc=scores_4.mean(),\n",
    "                 scale=scores_4.std(ddof=1)/np.sqrt(len(scores_4))))"
   ]
  },
  {
   "cell_type": "markdown",
   "id": "ba2b6df4",
   "metadata": {},
   "source": [
    "Since the first model, where Lasso regularization is used, has a higher r2 score and  produces a 95% CI with smalller possible errors, it is the most optimal"
   ]
  },
  {
   "cell_type": "markdown",
   "id": "3cf9cc53",
   "metadata": {},
   "source": [
    "## Problem 6\n",
    "### Part 1: Predict the day of purchase using a Decision Tree Classifier"
   ]
  },
  {
   "cell_type": "code",
   "execution_count": 51,
   "id": "6c246b46",
   "metadata": {},
   "outputs": [
    {
     "data": {
      "text/html": [
       "<div>\n",
       "<style scoped>\n",
       "    .dataframe tbody tr th:only-of-type {\n",
       "        vertical-align: middle;\n",
       "    }\n",
       "\n",
       "    .dataframe tbody tr th {\n",
       "        vertical-align: top;\n",
       "    }\n",
       "\n",
       "    .dataframe thead th {\n",
       "        text-align: right;\n",
       "    }\n",
       "</style>\n",
       "<table border=\"1\" class=\"dataframe\">\n",
       "  <thead>\n",
       "    <tr style=\"text-align: right;\">\n",
       "      <th></th>\n",
       "      <th>Product line</th>\n",
       "      <th>Unit price</th>\n",
       "      <th>Quantity</th>\n",
       "      <th>gross income</th>\n",
       "      <th>Time</th>\n",
       "    </tr>\n",
       "  </thead>\n",
       "  <tbody>\n",
       "    <tr>\n",
       "      <th>686</th>\n",
       "      <td>Sports and travel</td>\n",
       "      <td>64.83</td>\n",
       "      <td>2</td>\n",
       "      <td>6.4830</td>\n",
       "      <td>1</td>\n",
       "    </tr>\n",
       "    <tr>\n",
       "      <th>195</th>\n",
       "      <td>Fashion accessories</td>\n",
       "      <td>74.29</td>\n",
       "      <td>1</td>\n",
       "      <td>3.7145</td>\n",
       "      <td>4</td>\n",
       "    </tr>\n",
       "    <tr>\n",
       "      <th>374</th>\n",
       "      <td>Home and lifestyle</td>\n",
       "      <td>67.09</td>\n",
       "      <td>5</td>\n",
       "      <td>16.7725</td>\n",
       "      <td>2</td>\n",
       "    </tr>\n",
       "    <tr>\n",
       "      <th>86</th>\n",
       "      <td>Fashion accessories</td>\n",
       "      <td>76.52</td>\n",
       "      <td>5</td>\n",
       "      <td>19.1300</td>\n",
       "      <td>1</td>\n",
       "    </tr>\n",
       "    <tr>\n",
       "      <th>40</th>\n",
       "      <td>Home and lifestyle</td>\n",
       "      <td>86.72</td>\n",
       "      <td>1</td>\n",
       "      <td>4.3360</td>\n",
       "      <td>3</td>\n",
       "    </tr>\n",
       "    <tr>\n",
       "      <th>...</th>\n",
       "      <td>...</td>\n",
       "      <td>...</td>\n",
       "      <td>...</td>\n",
       "      <td>...</td>\n",
       "      <td>...</td>\n",
       "    </tr>\n",
       "    <tr>\n",
       "      <th>609</th>\n",
       "      <td>Food and beverages</td>\n",
       "      <td>57.89</td>\n",
       "      <td>2</td>\n",
       "      <td>5.7890</td>\n",
       "      <td>1</td>\n",
       "    </tr>\n",
       "    <tr>\n",
       "      <th>54</th>\n",
       "      <td>Home and lifestyle</td>\n",
       "      <td>16.16</td>\n",
       "      <td>2</td>\n",
       "      <td>1.6160</td>\n",
       "      <td>1</td>\n",
       "    </tr>\n",
       "    <tr>\n",
       "      <th>580</th>\n",
       "      <td>Food and beverages</td>\n",
       "      <td>27.22</td>\n",
       "      <td>3</td>\n",
       "      <td>4.0830</td>\n",
       "      <td>1</td>\n",
       "    </tr>\n",
       "    <tr>\n",
       "      <th>988</th>\n",
       "      <td>Electronic accessories</td>\n",
       "      <td>82.34</td>\n",
       "      <td>10</td>\n",
       "      <td>41.1700</td>\n",
       "      <td>4</td>\n",
       "    </tr>\n",
       "    <tr>\n",
       "      <th>743</th>\n",
       "      <td>Home and lifestyle</td>\n",
       "      <td>37.69</td>\n",
       "      <td>2</td>\n",
       "      <td>3.7690</td>\n",
       "      <td>2</td>\n",
       "    </tr>\n",
       "  </tbody>\n",
       "</table>\n",
       "<p>200 rows × 5 columns</p>\n",
       "</div>"
      ],
      "text/plain": [
       "               Product line  Unit price  Quantity  gross income  Time\n",
       "686       Sports and travel       64.83         2        6.4830     1\n",
       "195     Fashion accessories       74.29         1        3.7145     4\n",
       "374      Home and lifestyle       67.09         5       16.7725     2\n",
       "86      Fashion accessories       76.52         5       19.1300     1\n",
       "40       Home and lifestyle       86.72         1        4.3360     3\n",
       "..                      ...         ...       ...           ...   ...\n",
       "609      Food and beverages       57.89         2        5.7890     1\n",
       "54       Home and lifestyle       16.16         2        1.6160     1\n",
       "580      Food and beverages       27.22         3        4.0830     1\n",
       "988  Electronic accessories       82.34        10       41.1700     4\n",
       "743      Home and lifestyle       37.69         2        3.7690     2\n",
       "\n",
       "[200 rows x 5 columns]"
      ]
     },
     "execution_count": 51,
     "metadata": {},
     "output_type": "execute_result"
    }
   ],
   "source": [
    "# Import test sets for model 3\n",
    "\n",
    "X_test_M3 = joblib.load('test_sets/X_test_M3.pkl')\n",
    "X_test_M3"
   ]
  },
  {
   "cell_type": "code",
   "execution_count": 52,
   "id": "8179960a",
   "metadata": {},
   "outputs": [
    {
     "data": {
      "text/plain": [
       "686    1\n",
       "195    6\n",
       "374    3\n",
       "86     0\n",
       "40     3\n",
       "      ..\n",
       "609    3\n",
       "54     3\n",
       "580    0\n",
       "988    4\n",
       "743    2\n",
       "Name: Day of Week, Length: 200, dtype: int64"
      ]
     },
     "execution_count": 52,
     "metadata": {},
     "output_type": "execute_result"
    }
   ],
   "source": [
    "t_test_M3 = joblib.load('test_sets/t_test_M3.pkl')\n",
    "t_test_M3"
   ]
  },
  {
   "cell_type": "code",
   "execution_count": 53,
   "id": "b7063e23",
   "metadata": {},
   "outputs": [
    {
     "data": {
      "text/plain": [
       "Pipeline(steps=[('preprocess',\n",
       "                 ColumnTransformer(transformers=[('num',\n",
       "                                                  Pipeline(steps=[('scaler',\n",
       "                                                                   MinMaxScaler())]),\n",
       "                                                  ['Unit price', 'Quantity',\n",
       "                                                   'gross income']),\n",
       "                                                 ('cat',\n",
       "                                                  Pipeline(steps=[('one_hot',\n",
       "                                                                   OneHotEncoder())]),\n",
       "                                                  ['Product line', 'Time'])])),\n",
       "                ('DT',\n",
       "                 DecisionTreeClassifier(criterion='entropy', max_depth=9,\n",
       "                                        min_samples_leaf=4, random_state=0))])"
      ]
     },
     "execution_count": 53,
     "metadata": {},
     "output_type": "execute_result"
    }
   ],
   "source": [
    "# Import pipeline \n",
    "\n",
    "pipeline_M3_DT = joblib.load('pipelines/pipeline_problem6_DT.pkl')\n",
    "pipeline_M3_DT"
   ]
  },
  {
   "cell_type": "code",
   "execution_count": 54,
   "id": "f4448434",
   "metadata": {},
   "outputs": [
    {
     "data": {
      "text/plain": [
       "0.16"
      ]
     },
     "execution_count": 54,
     "metadata": {},
     "output_type": "execute_result"
    }
   ],
   "source": [
    "# Get the accuracy score \n",
    "from sklearn.metrics import accuracy_score\n",
    "\n",
    "accuracy_score(t_test_M3, pipeline_M3_DT.predict(X_test_M3))"
   ]
  },
  {
   "cell_type": "code",
   "execution_count": 55,
   "id": "ddd0445f",
   "metadata": {},
   "outputs": [
    {
     "data": {
      "text/plain": [
       "array([0.15, 0.25, 0.2 , 0.3 , 0.1 , 0.1 , 0.05, 0.2 , 0.1 , 0.05])"
      ]
     },
     "execution_count": 55,
     "metadata": {},
     "output_type": "execute_result"
    }
   ],
   "source": [
    "from sklearn.model_selection import cross_val_score\n",
    "\n",
    "# To compute 95% CI\n",
    "\n",
    "scores_5 = cross_val_score(pipeline_M3_DT, X_test_M3, t_test_M3,\n",
    "                        cv=10,\n",
    "                        scoring='accuracy')\n",
    "\n",
    "scores_5"
   ]
  },
  {
   "cell_type": "code",
   "execution_count": 56,
   "id": "8d3a8ece",
   "metadata": {},
   "outputs": [
    {
     "name": "stdout",
     "output_type": "stream",
     "text": [
      "95% CI:  (0.08920635295607461, 0.21079364704392545)\n"
     ]
    }
   ],
   "source": [
    "confidence = 0.95\n",
    "\n",
    "print('95% CI: ', stats.t.interval(confidence, len(scores_5) - 1,\n",
    "                 loc=scores_5.mean(),\n",
    "                 scale=scores_5.std(ddof=1)/np.sqrt(len(scores_5))))"
   ]
  },
  {
   "cell_type": "markdown",
   "id": "923236ac",
   "metadata": {},
   "source": [
    "### Part 2: Predict the day of purchase using a Random Forest Classifier"
   ]
  },
  {
   "cell_type": "code",
   "execution_count": 66,
   "id": "d0964e20",
   "metadata": {},
   "outputs": [
    {
     "data": {
      "text/plain": [
       "Pipeline(steps=[('preprocess',\n",
       "                 ColumnTransformer(transformers=[('num',\n",
       "                                                  Pipeline(steps=[('scaler',\n",
       "                                                                   MinMaxScaler())]),\n",
       "                                                  ['Unit price', 'Quantity',\n",
       "                                                   'gross income']),\n",
       "                                                 ('cat',\n",
       "                                                  Pipeline(steps=[('one_hot',\n",
       "                                                                   OneHotEncoder())]),\n",
       "                                                  ['Product line', 'Time'])])),\n",
       "                ('RF',\n",
       "                 RandomForestClassifier(max_depth=9, min_samples_split=3,\n",
       "                                        n_estimators=50, random_state=0))])"
      ]
     },
     "execution_count": 66,
     "metadata": {},
     "output_type": "execute_result"
    }
   ],
   "source": [
    "# Import pipeline \n",
    "\n",
    "pipeline_M3_RF = joblib.load('pipelines/pipeline_problem6_rf.pkl')\n",
    "pipeline_M3_RF"
   ]
  },
  {
   "cell_type": "code",
   "execution_count": 67,
   "id": "837b3a59",
   "metadata": {},
   "outputs": [
    {
     "data": {
      "text/plain": [
       "0.155"
      ]
     },
     "execution_count": 67,
     "metadata": {},
     "output_type": "execute_result"
    }
   ],
   "source": [
    "# Get the accuracy score \n",
    "\n",
    "accuracy_score(t_test_M3, pipeline_M3_RF.predict(X_test_M3))"
   ]
  },
  {
   "cell_type": "code",
   "execution_count": 68,
   "id": "663ed6b1",
   "metadata": {},
   "outputs": [
    {
     "data": {
      "text/plain": [
       "array([0.3 , 0.1 , 0.05, 0.2 , 0.05, 0.1 , 0.15, 0.  , 0.1 , 0.15])"
      ]
     },
     "execution_count": 68,
     "metadata": {},
     "output_type": "execute_result"
    }
   ],
   "source": [
    "# To compute 95% CI\n",
    "\n",
    "scores_6 = cross_val_score(pipeline_M3_RF, X_test_M3, t_test_M3,\n",
    "                        cv=10,\n",
    "                        scoring='accuracy')\n",
    "\n",
    "scores_6"
   ]
  },
  {
   "cell_type": "code",
   "execution_count": 69,
   "id": "50a0b87d",
   "metadata": {},
   "outputs": [
    {
     "name": "stdout",
     "output_type": "stream",
     "text": [
      "95% CI:  (0.058740494441899556, 0.18125950555810044)\n"
     ]
    }
   ],
   "source": [
    "confidence = 0.95\n",
    "\n",
    "print('95% CI: ', stats.t.interval(confidence, len(scores_6) - 1,\n",
    "                 loc=scores_6.mean(),\n",
    "                 scale=scores_6.std(ddof=1)/np.sqrt(len(scores_6))))"
   ]
  },
  {
   "cell_type": "markdown",
   "id": "e95d4b43",
   "metadata": {},
   "source": [
    "Both the classifiers have a similar accuracy score of around 0.16, but the random forest classifier model produces a 95% CI with smalller possible errors, so I would chose the random forest classifier"
   ]
  }
 ],
 "metadata": {
  "kernelspec": {
   "display_name": "Python 3 (ipykernel)",
   "language": "python",
   "name": "python3"
  },
  "language_info": {
   "codemirror_mode": {
    "name": "ipython",
    "version": 3
   },
   "file_extension": ".py",
   "mimetype": "text/x-python",
   "name": "python",
   "nbconvert_exporter": "python",
   "pygments_lexer": "ipython3",
   "version": "3.9.12"
  }
 },
 "nbformat": 4,
 "nbformat_minor": 5
}
