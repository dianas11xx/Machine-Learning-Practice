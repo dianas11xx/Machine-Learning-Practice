{
 "cells": [
  {
   "cell_type": "markdown",
   "id": "710fcd42",
   "metadata": {},
   "source": [
    "# Training supermarket_sales.csv"
   ]
  },
  {
   "cell_type": "markdown",
   "id": "1e41bfa4",
   "metadata": {},
   "source": [
    "1. Apply the necessary data preprocessing using ```scikit-learn``` pipelines. Justify all choices. The only requirements regarding attribute encoding are:\n",
    "\n",
    "    2. Encode the attribute ```Time``` into 4 categories: Morning (10:00 - 11:59), Afternoon (12:00 - 17:00), Evening (17:01 - 19:00) and Night (19:01 - 21:00)."
   ]
  },
  {
   "cell_type": "markdown",
   "id": "7158818a",
   "metadata": {},
   "source": [
    "Load dataset"
   ]
  },
  {
   "cell_type": "code",
   "execution_count": 574,
   "id": "d866a588",
   "metadata": {},
   "outputs": [
    {
     "data": {
      "text/html": [
       "<div>\n",
       "<style scoped>\n",
       "    .dataframe tbody tr th:only-of-type {\n",
       "        vertical-align: middle;\n",
       "    }\n",
       "\n",
       "    .dataframe tbody tr th {\n",
       "        vertical-align: top;\n",
       "    }\n",
       "\n",
       "    .dataframe thead th {\n",
       "        text-align: right;\n",
       "    }\n",
       "</style>\n",
       "<table border=\"1\" class=\"dataframe\">\n",
       "  <thead>\n",
       "    <tr style=\"text-align: right;\">\n",
       "      <th></th>\n",
       "      <th>Invoice ID</th>\n",
       "      <th>Branch</th>\n",
       "      <th>City</th>\n",
       "      <th>Customer type</th>\n",
       "      <th>Gender</th>\n",
       "      <th>Product line</th>\n",
       "      <th>Unit price</th>\n",
       "      <th>Quantity</th>\n",
       "      <th>Total</th>\n",
       "      <th>Date</th>\n",
       "      <th>Time</th>\n",
       "      <th>Payment</th>\n",
       "      <th>cogs</th>\n",
       "      <th>gross margin percentage</th>\n",
       "      <th>gross income</th>\n",
       "      <th>Rating</th>\n",
       "    </tr>\n",
       "  </thead>\n",
       "  <tbody>\n",
       "    <tr>\n",
       "      <th>0</th>\n",
       "      <td>750-67-8428</td>\n",
       "      <td>A</td>\n",
       "      <td>Yangon</td>\n",
       "      <td>Member</td>\n",
       "      <td>Female</td>\n",
       "      <td>Health and beauty</td>\n",
       "      <td>74.69</td>\n",
       "      <td>7</td>\n",
       "      <td>548.9715</td>\n",
       "      <td>1/5/2019</td>\n",
       "      <td>13:08</td>\n",
       "      <td>Ewallet</td>\n",
       "      <td>522.83</td>\n",
       "      <td>4.761905</td>\n",
       "      <td>26.1415</td>\n",
       "      <td>9.1</td>\n",
       "    </tr>\n",
       "    <tr>\n",
       "      <th>1</th>\n",
       "      <td>226-31-3081</td>\n",
       "      <td>C</td>\n",
       "      <td>Naypyitaw</td>\n",
       "      <td>Normal</td>\n",
       "      <td>Female</td>\n",
       "      <td>Electronic accessories</td>\n",
       "      <td>15.28</td>\n",
       "      <td>5</td>\n",
       "      <td>80.2200</td>\n",
       "      <td>3/8/2019</td>\n",
       "      <td>10:29</td>\n",
       "      <td>Cash</td>\n",
       "      <td>76.40</td>\n",
       "      <td>4.761905</td>\n",
       "      <td>3.8200</td>\n",
       "      <td>9.6</td>\n",
       "    </tr>\n",
       "    <tr>\n",
       "      <th>2</th>\n",
       "      <td>631-41-3108</td>\n",
       "      <td>A</td>\n",
       "      <td>Yangon</td>\n",
       "      <td>Normal</td>\n",
       "      <td>Male</td>\n",
       "      <td>Home and lifestyle</td>\n",
       "      <td>46.33</td>\n",
       "      <td>7</td>\n",
       "      <td>340.5255</td>\n",
       "      <td>3/3/2019</td>\n",
       "      <td>13:23</td>\n",
       "      <td>Credit card</td>\n",
       "      <td>324.31</td>\n",
       "      <td>4.761905</td>\n",
       "      <td>16.2155</td>\n",
       "      <td>7.4</td>\n",
       "    </tr>\n",
       "    <tr>\n",
       "      <th>3</th>\n",
       "      <td>123-19-1176</td>\n",
       "      <td>A</td>\n",
       "      <td>Yangon</td>\n",
       "      <td>Member</td>\n",
       "      <td>Male</td>\n",
       "      <td>Health and beauty</td>\n",
       "      <td>58.22</td>\n",
       "      <td>8</td>\n",
       "      <td>489.0480</td>\n",
       "      <td>1/27/2019</td>\n",
       "      <td>20:33</td>\n",
       "      <td>Ewallet</td>\n",
       "      <td>465.76</td>\n",
       "      <td>4.761905</td>\n",
       "      <td>23.2880</td>\n",
       "      <td>8.4</td>\n",
       "    </tr>\n",
       "    <tr>\n",
       "      <th>4</th>\n",
       "      <td>373-73-7910</td>\n",
       "      <td>A</td>\n",
       "      <td>Yangon</td>\n",
       "      <td>Normal</td>\n",
       "      <td>Male</td>\n",
       "      <td>Sports and travel</td>\n",
       "      <td>86.31</td>\n",
       "      <td>7</td>\n",
       "      <td>634.3785</td>\n",
       "      <td>2/8/2019</td>\n",
       "      <td>10:37</td>\n",
       "      <td>Ewallet</td>\n",
       "      <td>604.17</td>\n",
       "      <td>4.761905</td>\n",
       "      <td>30.2085</td>\n",
       "      <td>5.3</td>\n",
       "    </tr>\n",
       "    <tr>\n",
       "      <th>...</th>\n",
       "      <td>...</td>\n",
       "      <td>...</td>\n",
       "      <td>...</td>\n",
       "      <td>...</td>\n",
       "      <td>...</td>\n",
       "      <td>...</td>\n",
       "      <td>...</td>\n",
       "      <td>...</td>\n",
       "      <td>...</td>\n",
       "      <td>...</td>\n",
       "      <td>...</td>\n",
       "      <td>...</td>\n",
       "      <td>...</td>\n",
       "      <td>...</td>\n",
       "      <td>...</td>\n",
       "      <td>...</td>\n",
       "    </tr>\n",
       "    <tr>\n",
       "      <th>995</th>\n",
       "      <td>233-67-5758</td>\n",
       "      <td>C</td>\n",
       "      <td>Naypyitaw</td>\n",
       "      <td>Normal</td>\n",
       "      <td>Male</td>\n",
       "      <td>Health and beauty</td>\n",
       "      <td>40.35</td>\n",
       "      <td>1</td>\n",
       "      <td>42.3675</td>\n",
       "      <td>1/29/2019</td>\n",
       "      <td>13:46</td>\n",
       "      <td>Ewallet</td>\n",
       "      <td>40.35</td>\n",
       "      <td>4.761905</td>\n",
       "      <td>2.0175</td>\n",
       "      <td>6.2</td>\n",
       "    </tr>\n",
       "    <tr>\n",
       "      <th>996</th>\n",
       "      <td>303-96-2227</td>\n",
       "      <td>B</td>\n",
       "      <td>Mandalay</td>\n",
       "      <td>Normal</td>\n",
       "      <td>Female</td>\n",
       "      <td>Home and lifestyle</td>\n",
       "      <td>97.38</td>\n",
       "      <td>10</td>\n",
       "      <td>1022.4900</td>\n",
       "      <td>3/2/2019</td>\n",
       "      <td>17:16</td>\n",
       "      <td>Ewallet</td>\n",
       "      <td>973.80</td>\n",
       "      <td>4.761905</td>\n",
       "      <td>48.6900</td>\n",
       "      <td>4.4</td>\n",
       "    </tr>\n",
       "    <tr>\n",
       "      <th>997</th>\n",
       "      <td>727-02-1313</td>\n",
       "      <td>A</td>\n",
       "      <td>Yangon</td>\n",
       "      <td>Member</td>\n",
       "      <td>Male</td>\n",
       "      <td>Food and beverages</td>\n",
       "      <td>31.84</td>\n",
       "      <td>1</td>\n",
       "      <td>33.4320</td>\n",
       "      <td>2/9/2019</td>\n",
       "      <td>13:22</td>\n",
       "      <td>Cash</td>\n",
       "      <td>31.84</td>\n",
       "      <td>4.761905</td>\n",
       "      <td>1.5920</td>\n",
       "      <td>7.7</td>\n",
       "    </tr>\n",
       "    <tr>\n",
       "      <th>998</th>\n",
       "      <td>347-56-2442</td>\n",
       "      <td>A</td>\n",
       "      <td>Yangon</td>\n",
       "      <td>Normal</td>\n",
       "      <td>Male</td>\n",
       "      <td>Home and lifestyle</td>\n",
       "      <td>65.82</td>\n",
       "      <td>1</td>\n",
       "      <td>69.1110</td>\n",
       "      <td>2/22/2019</td>\n",
       "      <td>15:33</td>\n",
       "      <td>Cash</td>\n",
       "      <td>65.82</td>\n",
       "      <td>4.761905</td>\n",
       "      <td>3.2910</td>\n",
       "      <td>4.1</td>\n",
       "    </tr>\n",
       "    <tr>\n",
       "      <th>999</th>\n",
       "      <td>849-09-3807</td>\n",
       "      <td>A</td>\n",
       "      <td>Yangon</td>\n",
       "      <td>Member</td>\n",
       "      <td>Female</td>\n",
       "      <td>Fashion accessories</td>\n",
       "      <td>88.34</td>\n",
       "      <td>7</td>\n",
       "      <td>649.2990</td>\n",
       "      <td>2/18/2019</td>\n",
       "      <td>13:28</td>\n",
       "      <td>Cash</td>\n",
       "      <td>618.38</td>\n",
       "      <td>4.761905</td>\n",
       "      <td>30.9190</td>\n",
       "      <td>6.6</td>\n",
       "    </tr>\n",
       "  </tbody>\n",
       "</table>\n",
       "<p>1000 rows × 16 columns</p>\n",
       "</div>"
      ],
      "text/plain": [
       "      Invoice ID Branch       City Customer type  Gender  \\\n",
       "0    750-67-8428      A     Yangon        Member  Female   \n",
       "1    226-31-3081      C  Naypyitaw        Normal  Female   \n",
       "2    631-41-3108      A     Yangon        Normal    Male   \n",
       "3    123-19-1176      A     Yangon        Member    Male   \n",
       "4    373-73-7910      A     Yangon        Normal    Male   \n",
       "..           ...    ...        ...           ...     ...   \n",
       "995  233-67-5758      C  Naypyitaw        Normal    Male   \n",
       "996  303-96-2227      B   Mandalay        Normal  Female   \n",
       "997  727-02-1313      A     Yangon        Member    Male   \n",
       "998  347-56-2442      A     Yangon        Normal    Male   \n",
       "999  849-09-3807      A     Yangon        Member  Female   \n",
       "\n",
       "               Product line  Unit price  Quantity      Total       Date  \\\n",
       "0         Health and beauty       74.69         7   548.9715   1/5/2019   \n",
       "1    Electronic accessories       15.28         5    80.2200   3/8/2019   \n",
       "2        Home and lifestyle       46.33         7   340.5255   3/3/2019   \n",
       "3         Health and beauty       58.22         8   489.0480  1/27/2019   \n",
       "4         Sports and travel       86.31         7   634.3785   2/8/2019   \n",
       "..                      ...         ...       ...        ...        ...   \n",
       "995       Health and beauty       40.35         1    42.3675  1/29/2019   \n",
       "996      Home and lifestyle       97.38        10  1022.4900   3/2/2019   \n",
       "997      Food and beverages       31.84         1    33.4320   2/9/2019   \n",
       "998      Home and lifestyle       65.82         1    69.1110  2/22/2019   \n",
       "999     Fashion accessories       88.34         7   649.2990  2/18/2019   \n",
       "\n",
       "      Time      Payment    cogs  gross margin percentage  gross income  Rating  \n",
       "0    13:08      Ewallet  522.83                 4.761905       26.1415     9.1  \n",
       "1    10:29         Cash   76.40                 4.761905        3.8200     9.6  \n",
       "2    13:23  Credit card  324.31                 4.761905       16.2155     7.4  \n",
       "3    20:33      Ewallet  465.76                 4.761905       23.2880     8.4  \n",
       "4    10:37      Ewallet  604.17                 4.761905       30.2085     5.3  \n",
       "..     ...          ...     ...                      ...           ...     ...  \n",
       "995  13:46      Ewallet   40.35                 4.761905        2.0175     6.2  \n",
       "996  17:16      Ewallet  973.80                 4.761905       48.6900     4.4  \n",
       "997  13:22         Cash   31.84                 4.761905        1.5920     7.7  \n",
       "998  15:33         Cash   65.82                 4.761905        3.2910     4.1  \n",
       "999  13:28         Cash  618.38                 4.761905       30.9190     6.6  \n",
       "\n",
       "[1000 rows x 16 columns]"
      ]
     },
     "execution_count": 574,
     "metadata": {},
     "output_type": "execute_result"
    }
   ],
   "source": [
    "import pandas as pd\n",
    "import numpy as np\n",
    "import matplotlib.pyplot as plt\n",
    "from sklearn.metrics import classification_report\n",
    "\n",
    "sales = pd.read_csv('supermarket_sales.csv');\n",
    "sales"
   ]
  },
  {
   "cell_type": "markdown",
   "id": "bd4765d6",
   "metadata": {},
   "source": [
    "## Pre-process data"
   ]
  },
  {
   "cell_type": "code",
   "execution_count": 575,
   "id": "18fdc44d",
   "metadata": {},
   "outputs": [
    {
     "name": "stdout",
     "output_type": "stream",
     "text": [
      "<class 'pandas.core.frame.DataFrame'>\n",
      "RangeIndex: 1000 entries, 0 to 999\n",
      "Data columns (total 16 columns):\n",
      " #   Column                   Non-Null Count  Dtype  \n",
      "---  ------                   --------------  -----  \n",
      " 0   Invoice ID               1000 non-null   object \n",
      " 1   Branch                   1000 non-null   object \n",
      " 2   City                     1000 non-null   object \n",
      " 3   Customer type            1000 non-null   object \n",
      " 4   Gender                   1000 non-null   object \n",
      " 5   Product line             1000 non-null   object \n",
      " 6   Unit price               1000 non-null   float64\n",
      " 7   Quantity                 1000 non-null   int64  \n",
      " 8   Total                    1000 non-null   float64\n",
      " 9   Date                     1000 non-null   object \n",
      " 10  Time                     1000 non-null   object \n",
      " 11  Payment                  1000 non-null   object \n",
      " 12  cogs                     1000 non-null   float64\n",
      " 13  gross margin percentage  1000 non-null   float64\n",
      " 14  gross income             1000 non-null   float64\n",
      " 15  Rating                   1000 non-null   float64\n",
      "dtypes: float64(6), int64(1), object(9)\n",
      "memory usage: 125.1+ KB\n"
     ]
    }
   ],
   "source": [
    "# check for null items\n",
    "sales.info()"
   ]
  },
  {
   "cell_type": "markdown",
   "id": "7f6caf60",
   "metadata": {},
   "source": [
    "Since the inputs for training the prediction for gross income are unit price, quantity, day, time slot, and product line, the other attributes could be dropped."
   ]
  },
  {
   "cell_type": "code",
   "execution_count": 576,
   "id": "1d81a19b",
   "metadata": {},
   "outputs": [
    {
     "data": {
      "text/html": [
       "<div>\n",
       "<style scoped>\n",
       "    .dataframe tbody tr th:only-of-type {\n",
       "        vertical-align: middle;\n",
       "    }\n",
       "\n",
       "    .dataframe tbody tr th {\n",
       "        vertical-align: top;\n",
       "    }\n",
       "\n",
       "    .dataframe thead th {\n",
       "        text-align: right;\n",
       "    }\n",
       "</style>\n",
       "<table border=\"1\" class=\"dataframe\">\n",
       "  <thead>\n",
       "    <tr style=\"text-align: right;\">\n",
       "      <th></th>\n",
       "      <th>Product line</th>\n",
       "      <th>Unit price</th>\n",
       "      <th>Quantity</th>\n",
       "      <th>Date</th>\n",
       "      <th>Time</th>\n",
       "      <th>gross income</th>\n",
       "    </tr>\n",
       "  </thead>\n",
       "  <tbody>\n",
       "    <tr>\n",
       "      <th>0</th>\n",
       "      <td>Health and beauty</td>\n",
       "      <td>74.69</td>\n",
       "      <td>7</td>\n",
       "      <td>1/5/2019</td>\n",
       "      <td>13:08</td>\n",
       "      <td>26.1415</td>\n",
       "    </tr>\n",
       "    <tr>\n",
       "      <th>1</th>\n",
       "      <td>Electronic accessories</td>\n",
       "      <td>15.28</td>\n",
       "      <td>5</td>\n",
       "      <td>3/8/2019</td>\n",
       "      <td>10:29</td>\n",
       "      <td>3.8200</td>\n",
       "    </tr>\n",
       "    <tr>\n",
       "      <th>2</th>\n",
       "      <td>Home and lifestyle</td>\n",
       "      <td>46.33</td>\n",
       "      <td>7</td>\n",
       "      <td>3/3/2019</td>\n",
       "      <td>13:23</td>\n",
       "      <td>16.2155</td>\n",
       "    </tr>\n",
       "    <tr>\n",
       "      <th>3</th>\n",
       "      <td>Health and beauty</td>\n",
       "      <td>58.22</td>\n",
       "      <td>8</td>\n",
       "      <td>1/27/2019</td>\n",
       "      <td>20:33</td>\n",
       "      <td>23.2880</td>\n",
       "    </tr>\n",
       "    <tr>\n",
       "      <th>4</th>\n",
       "      <td>Sports and travel</td>\n",
       "      <td>86.31</td>\n",
       "      <td>7</td>\n",
       "      <td>2/8/2019</td>\n",
       "      <td>10:37</td>\n",
       "      <td>30.2085</td>\n",
       "    </tr>\n",
       "    <tr>\n",
       "      <th>...</th>\n",
       "      <td>...</td>\n",
       "      <td>...</td>\n",
       "      <td>...</td>\n",
       "      <td>...</td>\n",
       "      <td>...</td>\n",
       "      <td>...</td>\n",
       "    </tr>\n",
       "    <tr>\n",
       "      <th>995</th>\n",
       "      <td>Health and beauty</td>\n",
       "      <td>40.35</td>\n",
       "      <td>1</td>\n",
       "      <td>1/29/2019</td>\n",
       "      <td>13:46</td>\n",
       "      <td>2.0175</td>\n",
       "    </tr>\n",
       "    <tr>\n",
       "      <th>996</th>\n",
       "      <td>Home and lifestyle</td>\n",
       "      <td>97.38</td>\n",
       "      <td>10</td>\n",
       "      <td>3/2/2019</td>\n",
       "      <td>17:16</td>\n",
       "      <td>48.6900</td>\n",
       "    </tr>\n",
       "    <tr>\n",
       "      <th>997</th>\n",
       "      <td>Food and beverages</td>\n",
       "      <td>31.84</td>\n",
       "      <td>1</td>\n",
       "      <td>2/9/2019</td>\n",
       "      <td>13:22</td>\n",
       "      <td>1.5920</td>\n",
       "    </tr>\n",
       "    <tr>\n",
       "      <th>998</th>\n",
       "      <td>Home and lifestyle</td>\n",
       "      <td>65.82</td>\n",
       "      <td>1</td>\n",
       "      <td>2/22/2019</td>\n",
       "      <td>15:33</td>\n",
       "      <td>3.2910</td>\n",
       "    </tr>\n",
       "    <tr>\n",
       "      <th>999</th>\n",
       "      <td>Fashion accessories</td>\n",
       "      <td>88.34</td>\n",
       "      <td>7</td>\n",
       "      <td>2/18/2019</td>\n",
       "      <td>13:28</td>\n",
       "      <td>30.9190</td>\n",
       "    </tr>\n",
       "  </tbody>\n",
       "</table>\n",
       "<p>1000 rows × 6 columns</p>\n",
       "</div>"
      ],
      "text/plain": [
       "               Product line  Unit price  Quantity       Date   Time  \\\n",
       "0         Health and beauty       74.69         7   1/5/2019  13:08   \n",
       "1    Electronic accessories       15.28         5   3/8/2019  10:29   \n",
       "2        Home and lifestyle       46.33         7   3/3/2019  13:23   \n",
       "3         Health and beauty       58.22         8  1/27/2019  20:33   \n",
       "4         Sports and travel       86.31         7   2/8/2019  10:37   \n",
       "..                      ...         ...       ...        ...    ...   \n",
       "995       Health and beauty       40.35         1  1/29/2019  13:46   \n",
       "996      Home and lifestyle       97.38        10   3/2/2019  17:16   \n",
       "997      Food and beverages       31.84         1   2/9/2019  13:22   \n",
       "998      Home and lifestyle       65.82         1  2/22/2019  15:33   \n",
       "999     Fashion accessories       88.34         7  2/18/2019  13:28   \n",
       "\n",
       "     gross income  \n",
       "0         26.1415  \n",
       "1          3.8200  \n",
       "2         16.2155  \n",
       "3         23.2880  \n",
       "4         30.2085  \n",
       "..            ...  \n",
       "995        2.0175  \n",
       "996       48.6900  \n",
       "997        1.5920  \n",
       "998        3.2910  \n",
       "999       30.9190  \n",
       "\n",
       "[1000 rows x 6 columns]"
      ]
     },
     "execution_count": 576,
     "metadata": {},
     "output_type": "execute_result"
    }
   ],
   "source": [
    "sales = sales.drop(['Invoice ID', 'Branch', 'City', 'Customer type',\n",
    "           'Gender', 'Total', 'Payment', 'cogs', \n",
    "           'gross margin percentage', 'Rating'], axis=1);\n",
    "sales"
   ]
  },
  {
   "cell_type": "markdown",
   "id": "808e9e22",
   "metadata": {},
   "source": [
    "1. Encode the attribute ```Date``` with the respective day of the week (Monday, Tuesday, Wednesday, Thursday, Friday, Saturday and Sunday)."
   ]
  },
  {
   "cell_type": "code",
   "execution_count": 577,
   "id": "1dec8a8d",
   "metadata": {},
   "outputs": [
    {
     "data": {
      "text/plain": [
       "0       1/5/2019\n",
       "1       3/8/2019\n",
       "2       3/3/2019\n",
       "3      1/27/2019\n",
       "4       2/8/2019\n",
       "         ...    \n",
       "995    1/29/2019\n",
       "996     3/2/2019\n",
       "997     2/9/2019\n",
       "998    2/22/2019\n",
       "999    2/18/2019\n",
       "Name: Date, Length: 1000, dtype: object"
      ]
     },
     "execution_count": 577,
     "metadata": {},
     "output_type": "execute_result"
    }
   ],
   "source": [
    "from pandas import DatetimeIndex as dt\n",
    "sales['Date']"
   ]
  },
  {
   "cell_type": "markdown",
   "id": "cc2175c7",
   "metadata": {},
   "source": [
    "Map numbers to day of the week \n",
    "(0=Monday, 1=Tuesday, 2=Wednesday, 3=Thursday,\n",
    "4=Friday, 5=Saturday, 6=Sunday)"
   ]
  },
  {
   "cell_type": "code",
   "execution_count": 578,
   "id": "e152ff47",
   "metadata": {},
   "outputs": [
    {
     "data": {
      "text/plain": [
       "0      5\n",
       "1      4\n",
       "2      6\n",
       "3      6\n",
       "4      4\n",
       "      ..\n",
       "995    1\n",
       "996    5\n",
       "997    5\n",
       "998    4\n",
       "999    0\n",
       "Name: Date, Length: 1000, dtype: int64"
      ]
     },
     "execution_count": 578,
     "metadata": {},
     "output_type": "execute_result"
    }
   ],
   "source": [
    "day_of_week = pd.to_datetime(sales['Date']).dt.dayofweek\n",
    "day_of_week"
   ]
  },
  {
   "cell_type": "code",
   "execution_count": 579,
   "id": "d039d360",
   "metadata": {},
   "outputs": [
    {
     "data": {
      "text/html": [
       "<div>\n",
       "<style scoped>\n",
       "    .dataframe tbody tr th:only-of-type {\n",
       "        vertical-align: middle;\n",
       "    }\n",
       "\n",
       "    .dataframe tbody tr th {\n",
       "        vertical-align: top;\n",
       "    }\n",
       "\n",
       "    .dataframe thead th {\n",
       "        text-align: right;\n",
       "    }\n",
       "</style>\n",
       "<table border=\"1\" class=\"dataframe\">\n",
       "  <thead>\n",
       "    <tr style=\"text-align: right;\">\n",
       "      <th></th>\n",
       "      <th>Product line</th>\n",
       "      <th>Unit price</th>\n",
       "      <th>Quantity</th>\n",
       "      <th>Time</th>\n",
       "      <th>gross income</th>\n",
       "      <th>Day of Week</th>\n",
       "    </tr>\n",
       "  </thead>\n",
       "  <tbody>\n",
       "    <tr>\n",
       "      <th>0</th>\n",
       "      <td>Health and beauty</td>\n",
       "      <td>74.69</td>\n",
       "      <td>7</td>\n",
       "      <td>13:08</td>\n",
       "      <td>26.1415</td>\n",
       "      <td>5</td>\n",
       "    </tr>\n",
       "    <tr>\n",
       "      <th>1</th>\n",
       "      <td>Electronic accessories</td>\n",
       "      <td>15.28</td>\n",
       "      <td>5</td>\n",
       "      <td>10:29</td>\n",
       "      <td>3.8200</td>\n",
       "      <td>4</td>\n",
       "    </tr>\n",
       "    <tr>\n",
       "      <th>2</th>\n",
       "      <td>Home and lifestyle</td>\n",
       "      <td>46.33</td>\n",
       "      <td>7</td>\n",
       "      <td>13:23</td>\n",
       "      <td>16.2155</td>\n",
       "      <td>6</td>\n",
       "    </tr>\n",
       "    <tr>\n",
       "      <th>3</th>\n",
       "      <td>Health and beauty</td>\n",
       "      <td>58.22</td>\n",
       "      <td>8</td>\n",
       "      <td>20:33</td>\n",
       "      <td>23.2880</td>\n",
       "      <td>6</td>\n",
       "    </tr>\n",
       "    <tr>\n",
       "      <th>4</th>\n",
       "      <td>Sports and travel</td>\n",
       "      <td>86.31</td>\n",
       "      <td>7</td>\n",
       "      <td>10:37</td>\n",
       "      <td>30.2085</td>\n",
       "      <td>4</td>\n",
       "    </tr>\n",
       "    <tr>\n",
       "      <th>...</th>\n",
       "      <td>...</td>\n",
       "      <td>...</td>\n",
       "      <td>...</td>\n",
       "      <td>...</td>\n",
       "      <td>...</td>\n",
       "      <td>...</td>\n",
       "    </tr>\n",
       "    <tr>\n",
       "      <th>995</th>\n",
       "      <td>Health and beauty</td>\n",
       "      <td>40.35</td>\n",
       "      <td>1</td>\n",
       "      <td>13:46</td>\n",
       "      <td>2.0175</td>\n",
       "      <td>1</td>\n",
       "    </tr>\n",
       "    <tr>\n",
       "      <th>996</th>\n",
       "      <td>Home and lifestyle</td>\n",
       "      <td>97.38</td>\n",
       "      <td>10</td>\n",
       "      <td>17:16</td>\n",
       "      <td>48.6900</td>\n",
       "      <td>5</td>\n",
       "    </tr>\n",
       "    <tr>\n",
       "      <th>997</th>\n",
       "      <td>Food and beverages</td>\n",
       "      <td>31.84</td>\n",
       "      <td>1</td>\n",
       "      <td>13:22</td>\n",
       "      <td>1.5920</td>\n",
       "      <td>5</td>\n",
       "    </tr>\n",
       "    <tr>\n",
       "      <th>998</th>\n",
       "      <td>Home and lifestyle</td>\n",
       "      <td>65.82</td>\n",
       "      <td>1</td>\n",
       "      <td>15:33</td>\n",
       "      <td>3.2910</td>\n",
       "      <td>4</td>\n",
       "    </tr>\n",
       "    <tr>\n",
       "      <th>999</th>\n",
       "      <td>Fashion accessories</td>\n",
       "      <td>88.34</td>\n",
       "      <td>7</td>\n",
       "      <td>13:28</td>\n",
       "      <td>30.9190</td>\n",
       "      <td>0</td>\n",
       "    </tr>\n",
       "  </tbody>\n",
       "</table>\n",
       "<p>1000 rows × 6 columns</p>\n",
       "</div>"
      ],
      "text/plain": [
       "               Product line  Unit price  Quantity   Time  gross income  \\\n",
       "0         Health and beauty       74.69         7  13:08       26.1415   \n",
       "1    Electronic accessories       15.28         5  10:29        3.8200   \n",
       "2        Home and lifestyle       46.33         7  13:23       16.2155   \n",
       "3         Health and beauty       58.22         8  20:33       23.2880   \n",
       "4         Sports and travel       86.31         7  10:37       30.2085   \n",
       "..                      ...         ...       ...    ...           ...   \n",
       "995       Health and beauty       40.35         1  13:46        2.0175   \n",
       "996      Home and lifestyle       97.38        10  17:16       48.6900   \n",
       "997      Food and beverages       31.84         1  13:22        1.5920   \n",
       "998      Home and lifestyle       65.82         1  15:33        3.2910   \n",
       "999     Fashion accessories       88.34         7  13:28       30.9190   \n",
       "\n",
       "     Day of Week  \n",
       "0              5  \n",
       "1              4  \n",
       "2              6  \n",
       "3              6  \n",
       "4              4  \n",
       "..           ...  \n",
       "995            1  \n",
       "996            5  \n",
       "997            5  \n",
       "998            4  \n",
       "999            0  \n",
       "\n",
       "[1000 rows x 6 columns]"
      ]
     },
     "execution_count": 579,
     "metadata": {},
     "output_type": "execute_result"
    }
   ],
   "source": [
    "# Use integer encoding to replace date with day of week\n",
    "sales = sales.drop('Date', axis =1)\n",
    "sales['Day of Week'] = day_of_week;\n",
    "sales"
   ]
  },
  {
   "cell_type": "markdown",
   "id": "11ee3e14",
   "metadata": {},
   "source": [
    "2. Encode the attribute ```Time``` into 4 categories: Morning (10:00 - 11:59), Afternoon (12:00 - 17:00), Evening (17:01 - 19:00) and Night (19:01 - 21:00)."
   ]
  },
  {
   "cell_type": "code",
   "execution_count": 580,
   "id": "48bc93e0",
   "metadata": {},
   "outputs": [
    {
     "data": {
      "text/plain": [
       "0      13.0\n",
       "1      10.0\n",
       "2      13.0\n",
       "3      20.0\n",
       "4      10.0\n",
       "       ... \n",
       "995    13.0\n",
       "996    17.0\n",
       "997    13.0\n",
       "998    15.0\n",
       "999    13.0\n",
       "Name: Time, Length: 1000, dtype: float64"
      ]
     },
     "execution_count": 580,
     "metadata": {},
     "output_type": "execute_result"
    }
   ],
   "source": [
    "pd.to_datetime(sales['Time']).dt.strftime('%H').astype('float')"
   ]
  },
  {
   "cell_type": "markdown",
   "id": "5d3e1637",
   "metadata": {},
   "source": [
    "Map time of day into categories\n",
    "1 = Morning (10:00 - 11:59), 2 = Afternoon (12:00 - 16:59),\n",
    "3 = Evening (17:00 - 18:59), 4 = Night (19:00 - 20:59)"
   ]
  },
  {
   "cell_type": "code",
   "execution_count": 581,
   "id": "23d98fb4",
   "metadata": {},
   "outputs": [
    {
     "data": {
      "text/plain": [
       "0      2\n",
       "1      1\n",
       "2      2\n",
       "3      4\n",
       "4      1\n",
       "      ..\n",
       "995    2\n",
       "996    3\n",
       "997    2\n",
       "998    2\n",
       "999    2\n",
       "Name: Time, Length: 1000, dtype: category\n",
       "Categories (4, int64): [1 < 2 < 3 < 4]"
      ]
     },
     "execution_count": 581,
     "metadata": {},
     "output_type": "execute_result"
    }
   ],
   "source": [
    "hour = pd.to_datetime(sales['Time']).dt.strftime('%H').astype('float')\n",
    "hour_cat = pd.cut(hour, bins=[0., 12.0, 16.0, 18.0, np.inf], labels=[1, 2, 3, 4])\n",
    "hour_cat"
   ]
  },
  {
   "cell_type": "code",
   "execution_count": 582,
   "id": "1f8b4178",
   "metadata": {},
   "outputs": [
    {
     "data": {
      "text/html": [
       "<div>\n",
       "<style scoped>\n",
       "    .dataframe tbody tr th:only-of-type {\n",
       "        vertical-align: middle;\n",
       "    }\n",
       "\n",
       "    .dataframe tbody tr th {\n",
       "        vertical-align: top;\n",
       "    }\n",
       "\n",
       "    .dataframe thead th {\n",
       "        text-align: right;\n",
       "    }\n",
       "</style>\n",
       "<table border=\"1\" class=\"dataframe\">\n",
       "  <thead>\n",
       "    <tr style=\"text-align: right;\">\n",
       "      <th></th>\n",
       "      <th>Product line</th>\n",
       "      <th>Unit price</th>\n",
       "      <th>Quantity</th>\n",
       "      <th>gross income</th>\n",
       "      <th>Day of Week</th>\n",
       "      <th>Time</th>\n",
       "    </tr>\n",
       "  </thead>\n",
       "  <tbody>\n",
       "    <tr>\n",
       "      <th>0</th>\n",
       "      <td>Health and beauty</td>\n",
       "      <td>74.69</td>\n",
       "      <td>7</td>\n",
       "      <td>26.1415</td>\n",
       "      <td>5</td>\n",
       "      <td>2</td>\n",
       "    </tr>\n",
       "    <tr>\n",
       "      <th>1</th>\n",
       "      <td>Electronic accessories</td>\n",
       "      <td>15.28</td>\n",
       "      <td>5</td>\n",
       "      <td>3.8200</td>\n",
       "      <td>4</td>\n",
       "      <td>1</td>\n",
       "    </tr>\n",
       "    <tr>\n",
       "      <th>2</th>\n",
       "      <td>Home and lifestyle</td>\n",
       "      <td>46.33</td>\n",
       "      <td>7</td>\n",
       "      <td>16.2155</td>\n",
       "      <td>6</td>\n",
       "      <td>2</td>\n",
       "    </tr>\n",
       "    <tr>\n",
       "      <th>3</th>\n",
       "      <td>Health and beauty</td>\n",
       "      <td>58.22</td>\n",
       "      <td>8</td>\n",
       "      <td>23.2880</td>\n",
       "      <td>6</td>\n",
       "      <td>4</td>\n",
       "    </tr>\n",
       "    <tr>\n",
       "      <th>4</th>\n",
       "      <td>Sports and travel</td>\n",
       "      <td>86.31</td>\n",
       "      <td>7</td>\n",
       "      <td>30.2085</td>\n",
       "      <td>4</td>\n",
       "      <td>1</td>\n",
       "    </tr>\n",
       "    <tr>\n",
       "      <th>...</th>\n",
       "      <td>...</td>\n",
       "      <td>...</td>\n",
       "      <td>...</td>\n",
       "      <td>...</td>\n",
       "      <td>...</td>\n",
       "      <td>...</td>\n",
       "    </tr>\n",
       "    <tr>\n",
       "      <th>995</th>\n",
       "      <td>Health and beauty</td>\n",
       "      <td>40.35</td>\n",
       "      <td>1</td>\n",
       "      <td>2.0175</td>\n",
       "      <td>1</td>\n",
       "      <td>2</td>\n",
       "    </tr>\n",
       "    <tr>\n",
       "      <th>996</th>\n",
       "      <td>Home and lifestyle</td>\n",
       "      <td>97.38</td>\n",
       "      <td>10</td>\n",
       "      <td>48.6900</td>\n",
       "      <td>5</td>\n",
       "      <td>3</td>\n",
       "    </tr>\n",
       "    <tr>\n",
       "      <th>997</th>\n",
       "      <td>Food and beverages</td>\n",
       "      <td>31.84</td>\n",
       "      <td>1</td>\n",
       "      <td>1.5920</td>\n",
       "      <td>5</td>\n",
       "      <td>2</td>\n",
       "    </tr>\n",
       "    <tr>\n",
       "      <th>998</th>\n",
       "      <td>Home and lifestyle</td>\n",
       "      <td>65.82</td>\n",
       "      <td>1</td>\n",
       "      <td>3.2910</td>\n",
       "      <td>4</td>\n",
       "      <td>2</td>\n",
       "    </tr>\n",
       "    <tr>\n",
       "      <th>999</th>\n",
       "      <td>Fashion accessories</td>\n",
       "      <td>88.34</td>\n",
       "      <td>7</td>\n",
       "      <td>30.9190</td>\n",
       "      <td>0</td>\n",
       "      <td>2</td>\n",
       "    </tr>\n",
       "  </tbody>\n",
       "</table>\n",
       "<p>1000 rows × 6 columns</p>\n",
       "</div>"
      ],
      "text/plain": [
       "               Product line  Unit price  Quantity  gross income  Day of Week  \\\n",
       "0         Health and beauty       74.69         7       26.1415            5   \n",
       "1    Electronic accessories       15.28         5        3.8200            4   \n",
       "2        Home and lifestyle       46.33         7       16.2155            6   \n",
       "3         Health and beauty       58.22         8       23.2880            6   \n",
       "4         Sports and travel       86.31         7       30.2085            4   \n",
       "..                      ...         ...       ...           ...          ...   \n",
       "995       Health and beauty       40.35         1        2.0175            1   \n",
       "996      Home and lifestyle       97.38        10       48.6900            5   \n",
       "997      Food and beverages       31.84         1        1.5920            5   \n",
       "998      Home and lifestyle       65.82         1        3.2910            4   \n",
       "999     Fashion accessories       88.34         7       30.9190            0   \n",
       "\n",
       "     Time  \n",
       "0       2  \n",
       "1       1  \n",
       "2       2  \n",
       "3       4  \n",
       "4       1  \n",
       "..    ...  \n",
       "995     2  \n",
       "996     3  \n",
       "997     2  \n",
       "998     2  \n",
       "999     2  \n",
       "\n",
       "[1000 rows x 6 columns]"
      ]
     },
     "execution_count": 582,
     "metadata": {},
     "output_type": "execute_result"
    }
   ],
   "source": [
    "# Use integer encoding to replace time with time of day\n",
    "sales = sales.drop('Time', axis =1)\n",
    "sales['Time'] = hour_cat.astype(int);\n",
    "sales"
   ]
  },
  {
   "cell_type": "markdown",
   "id": "001712cf",
   "metadata": {},
   "source": [
    "Plot histogram of numerical attributes to determine which\n",
    "feature scaling method to use."
   ]
  },
  {
   "cell_type": "code",
   "execution_count": 583,
   "id": "cfd0b747",
   "metadata": {},
   "outputs": [
    {
     "data": {
      "image/png": "[encoded data removed]",
      "text/plain": [
       "<Figure size 432x288 with 1 Axes>"
      ]
     },
     "metadata": {
      "needs_background": "light"
     },
     "output_type": "display_data"
    }
   ],
   "source": [
    "plt.hist(sales['Unit price']);"
   ]
  },
  {
   "cell_type": "code",
   "execution_count": 584,
   "id": "9409e364",
   "metadata": {},
   "outputs": [
    {
     "data": {
      "image/png": "[encoded data removed]",
      "text/plain": [
       "<Figure size 432x288 with 1 Axes>"
      ]
     },
     "metadata": {
      "needs_background": "light"
     },
     "output_type": "display_data"
    }
   ],
   "source": [
    "plt.hist(sales['Quantity']);"
   ]
  },
  {
   "cell_type": "code",
   "execution_count": 585,
   "id": "82e02ea8",
   "metadata": {},
   "outputs": [
    {
     "data": {
      "image/png": "[encoded data removed]",
      "text/plain": [
       "<Figure size 432x288 with 1 Axes>"
      ]
     },
     "metadata": {
      "needs_background": "light"
     },
     "output_type": "display_data"
    }
   ],
   "source": [
    "plt.hist(sales['gross income']);"
   ]
  },
  {
   "cell_type": "code",
   "execution_count": 586,
   "id": "42c27138",
   "metadata": {},
   "outputs": [
    {
     "data": {
      "image/png": "[encoded data removed]",
      "text/plain": [
       "<Figure size 432x288 with 1 Axes>"
      ]
     },
     "metadata": {
      "needs_background": "light"
     },
     "output_type": "display_data"
    }
   ],
   "source": [
    "plt.hist(sales['Day of Week']);"
   ]
  },
  {
   "cell_type": "code",
   "execution_count": 587,
   "id": "9d081af0",
   "metadata": {},
   "outputs": [
    {
     "data": {
      "image/png": "[encoded data removed]",
      "text/plain": [
       "<Figure size 432x288 with 1 Axes>"
      ]
     },
     "metadata": {
      "needs_background": "light"
     },
     "output_type": "display_data"
    }
   ],
   "source": [
    "plt.hist(sales['Time']);"
   ]
  },
  {
   "cell_type": "markdown",
   "id": "e8b91002",
   "metadata": {},
   "source": [
    "Since the data isnt Gaussian and there are minimal outliers\n",
    "MinMax Scaling would be the most suited method for the\n",
    "numerical attributes"
   ]
  },
  {
   "cell_type": "markdown",
   "id": "fb3be925",
   "metadata": {},
   "source": [
    "### Model 1 (Predict Gross Income)  preprocessed data"
   ]
  },
  {
   "cell_type": "code",
   "execution_count": 588,
   "id": "69e165c9",
   "metadata": {},
   "outputs": [
    {
     "data": {
      "text/plain": [
       "gross income    1.000000\n",
       "Quantity        0.705510\n",
       "Unit price      0.633962\n",
       "Day of Week     0.038809\n",
       "Time            0.011517\n",
       "Name: gross income, dtype: float64"
      ]
     },
     "execution_count": 588,
     "metadata": {},
     "output_type": "execute_result"
    }
   ],
   "source": [
    "from sklearn.pipeline import Pipeline\n",
    "from sklearn.preprocessing import OneHotEncoder, MinMaxScaler\n",
    "from sklearn.compose import ColumnTransformer\n",
    "# Find most predictive attibute for gross income\n",
    "sales.corr(method='pearson')['gross income'].sort_values(ascending=False)"
   ]
  },
  {
   "cell_type": "markdown",
   "id": "bf3347e4",
   "metadata": {},
   "source": [
    "Since quantity is the most predictive attibute, stratify Quantity."
   ]
  },
  {
   "cell_type": "code",
   "execution_count": 589,
   "id": "f3c9e3b8",
   "metadata": {},
   "outputs": [
    {
     "data": {
      "image/png": "[encoded data removed]",
      "text/plain": [
       "<Figure size 432x288 with 1 Axes>"
      ]
     },
     "metadata": {
      "needs_background": "light"
     },
     "output_type": "display_data"
    }
   ],
   "source": [
    "# Stratify Quantity \n",
    "quantity_cat = pd.cut(sales['Quantity'],\n",
    "                     bins=[0.,1.5,3.5,7.0,9.0,np.inf],\n",
    "                     labels=[1,2,3,4,5])\n",
    "plt.hist(quantity_cat);"
   ]
  },
  {
   "cell_type": "code",
   "execution_count": 590,
   "id": "dc6869dc",
   "metadata": {},
   "outputs": [],
   "source": [
    "# Partition data into training and test using a 80/20 partition\n",
    "train_set_M1, test_set_M1, q_cat_train, q_cat_test = train_test_split(sales, quantity_cat,\n",
    "                                                                  test_size=0.2,\n",
    "                                                                  stratify=quantity_cat,\n",
    "                                                                  random_state=42,\n",
    "                                                                 shuffle=True)"
   ]
  },
  {
   "cell_type": "markdown",
   "id": "f8815fcc",
   "metadata": {},
   "source": [
    "Prepare data for ML algorithms"
   ]
  },
  {
   "cell_type": "code",
   "execution_count": 667,
   "id": "dcd25045",
   "metadata": {},
   "outputs": [
    {
     "data": {
      "text/plain": [
       "['t_test_M1.pkl']"
      ]
     },
     "execution_count": 667,
     "metadata": {},
     "output_type": "execute_result"
    }
   ],
   "source": [
    "t_train_M1 = train_set_M1['gross income'].copy()\n",
    "X_train_M1 = train_set_M1.drop(labels='gross income', axis=1)\n",
    "t_test_M1 = test_set_M1['gross income'].copy()\n",
    "X_test_M1 = test_set_M1.drop(labels='gross income', axis=1)\n",
    "\n",
    "# Export test sets \n",
    "import joblib\n",
    "\n",
    "joblib.dump(X_test_M1, 'X_test_M1.pkl')\n",
    "joblib.dump(t_test_M1, 't_test_M1.pkl')"
   ]
  },
  {
   "cell_type": "markdown",
   "id": "94524242",
   "metadata": {},
   "source": [
    "Apply OneHotEncoder for categorical attributes \n",
    "(Product line, day of week, Time) and MinMax scaler for\n",
    "the numerical attributes "
   ]
  },
  {
   "cell_type": "code",
   "execution_count": 592,
   "id": "2f3240db",
   "metadata": {},
   "outputs": [],
   "source": [
    "from sklearn.pipeline import Pipeline\n",
    "from sklearn.preprocessing import OneHotEncoder, MinMaxScaler\n",
    "from sklearn.compose import ColumnTransformer\n",
    "\n",
    "\n",
    "cat_attribs_M1 = ['Product line', 'Day of Week', 'Time']\n",
    "num_attribs_M1 = ['Unit price', 'Quantity']\n",
    "\n",
    "# Pipeline for the categorical attributes\n",
    "cat_pipeline = Pipeline([('one_hot', OneHotEncoder())])\n",
    "\n",
    "# Pipeline for numerical attributes\n",
    "num_pipeline = Pipeline([('scaler', MinMaxScaler())])\n",
    "\n",
    "# preprocessed pipeline for gross income prediction\n",
    "pre_process_pipe_m1 = ColumnTransformer([('num', num_pipeline, num_attribs_M1),\n",
    "                                     ('cat', cat_pipeline, cat_attribs_M1)])"
   ]
  },
  {
   "cell_type": "markdown",
   "id": "53ad5d05",
   "metadata": {},
   "source": [
    "### Model 2 (Predict Unit Price)  preprocessed data"
   ]
  },
  {
   "cell_type": "code",
   "execution_count": 593,
   "id": "e4868cec",
   "metadata": {},
   "outputs": [
    {
     "data": {
      "text/plain": [
       "Unit price      1.000000\n",
       "gross income    0.633962\n",
       "Time            0.016391\n",
       "Quantity        0.010778\n",
       "Day of Week    -0.007040\n",
       "Name: Unit price, dtype: float64"
      ]
     },
     "execution_count": 593,
     "metadata": {},
     "output_type": "execute_result"
    }
   ],
   "source": [
    "# Find most predictive attribute for Unit price\n",
    "sales.corr(method='pearson')['Unit price'].sort_values(ascending=False)"
   ]
  },
  {
   "cell_type": "markdown",
   "id": "47a3a87e",
   "metadata": {},
   "source": [
    "The most predictive attribute for Unit price is gross income "
   ]
  },
  {
   "cell_type": "code",
   "execution_count": 594,
   "id": "930e3868",
   "metadata": {},
   "outputs": [
    {
     "data": {
      "image/png": "[encoded data removed]",
      "text/plain": [
       "<Figure size 432x288 with 1 Axes>"
      ]
     },
     "metadata": {
      "needs_background": "light"
     },
     "output_type": "display_data"
    }
   ],
   "source": [
    "plt.hist(sales['gross income']);"
   ]
  },
  {
   "cell_type": "code",
   "execution_count": 595,
   "id": "780db89e",
   "metadata": {},
   "outputs": [
    {
     "data": {
      "image/png": "[encoded data removed]",
      "text/plain": [
       "<Figure size 432x288 with 1 Axes>"
      ]
     },
     "metadata": {
      "needs_background": "light"
     },
     "output_type": "display_data"
    }
   ],
   "source": [
    "# Stratify gross income\n",
    "gi_cat = pd.cut(sales['gross income'],\n",
    "                     bins=[0.,5., 15.,30.,np.inf],\n",
    "                     labels=[1,2,3,4])\n",
    "plt.hist(gi_cat);"
   ]
  },
  {
   "cell_type": "code",
   "execution_count": 596,
   "id": "4166db6e",
   "metadata": {},
   "outputs": [],
   "source": [
    "# Partition data into training and test using a 80/20 partition\n",
    "train_set_M2, test_set_M2, g_cat_train, g_cat_test = train_test_split(sales, gi_cat,\n",
    "                                                                  test_size=0.2,\n",
    "                                                                  stratify=gi_cat,\n",
    "                                                                  random_state=42,\n",
    "                                                                 shuffle=True)"
   ]
  },
  {
   "cell_type": "markdown",
   "id": "2f46d02e",
   "metadata": {},
   "source": [
    "Prepare data for ML algorithms"
   ]
  },
  {
   "cell_type": "code",
   "execution_count": 665,
   "id": "a4276bf2",
   "metadata": {},
   "outputs": [
    {
     "data": {
      "text/plain": [
       "['t_test_M2.pkl']"
      ]
     },
     "execution_count": 665,
     "metadata": {},
     "output_type": "execute_result"
    }
   ],
   "source": [
    "t_train_M2 = train_set_M2['Unit price'].copy()\n",
    "X_train_M2 = train_set_M2.drop(labels='Unit price', axis=1)\n",
    "t_test_M2 = test_set_M2['Unit price'].copy()\n",
    "X_test_M2 = test_set_M2.drop(labels='Unit price', axis=1)\n",
    "\n",
    "# Export test sets \n",
    "\n",
    "joblib.dump(X_test_M2, 'X_test_M2.pkl')\n",
    "joblib.dump(t_test_M2, 't_test_M2.pkl')"
   ]
  },
  {
   "cell_type": "raw",
   "id": "f4638e55",
   "metadata": {},
   "source": [
    "Apply OneHotEncoder for categorical attributes (Product line, day of week, Time) and MinMax scaler for the numerical attributes"
   ]
  },
  {
   "cell_type": "code",
   "execution_count": 598,
   "id": "132b2ed5",
   "metadata": {},
   "outputs": [],
   "source": [
    "cat_attribs_M2 = ['Product line', 'Day of Week', 'Time']\n",
    "num_attribs_M2 = ['gross income', 'Quantity']\n",
    "\n",
    "# Pipeline for the categorical attributes\n",
    "cat_pipeline = Pipeline([('one_hot', OneHotEncoder())])\n",
    "\n",
    "# Pipeline for numerical attributes\n",
    "num_pipeline = Pipeline([('scaler', MinMaxScaler())])\n",
    "\n",
    "# preprocessed pipeline for unit price prediction\n",
    "pre_process_pipe_m2 = ColumnTransformer([('num', num_pipeline, num_attribs_M2),\n",
    "                                     ('cat', cat_pipeline, cat_attribs_M2)])"
   ]
  },
  {
   "cell_type": "markdown",
   "id": "d0b1fb91",
   "metadata": {},
   "source": [
    "### Model 3 (Predict Day of Purchase)  preprocessed data"
   ]
  },
  {
   "cell_type": "code",
   "execution_count": 599,
   "id": "8448b3f1",
   "metadata": {},
   "outputs": [
    {
     "data": {
      "text/plain": [
       "Day of Week     1.000000\n",
       "Quantity        0.054770\n",
       "gross income    0.038809\n",
       "Time            0.028895\n",
       "Unit price     -0.007040\n",
       "Name: Day of Week, dtype: float64"
      ]
     },
     "execution_count": 599,
     "metadata": {},
     "output_type": "execute_result"
    }
   ],
   "source": [
    "# Find most predictive attibute for day of week \n",
    "sales.corr(method='pearson')['Day of Week'].sort_values(ascending=False)"
   ]
  },
  {
   "cell_type": "markdown",
   "id": "fa2dd8dc",
   "metadata": {},
   "source": [
    "Since quantity is the most predictive attribute, statify quantity"
   ]
  },
  {
   "cell_type": "code",
   "execution_count": 600,
   "id": "caa1a007",
   "metadata": {},
   "outputs": [
    {
     "data": {
      "image/png": "[encoded data removed]",
      "text/plain": [
       "<Figure size 432x288 with 1 Axes>"
      ]
     },
     "metadata": {
      "needs_background": "light"
     },
     "output_type": "display_data"
    }
   ],
   "source": [
    "# Stratify \n",
    "quantity_cat2 = pd.cut(sales['Quantity'],\n",
    "                     bins=[0.,1.5,3.5,7.0,9.0,np.inf],\n",
    "                     labels=[1,2,3,4,5])\n",
    "plt.hist(quantity_cat2);"
   ]
  },
  {
   "cell_type": "code",
   "execution_count": 601,
   "id": "3b8201ea",
   "metadata": {},
   "outputs": [],
   "source": [
    "# Partition data into training and test using a 80/20 partition\n",
    "train_set_M3, test_set_M3, quan_cat_train, quan_cat_test = train_test_split(sales, quantity_cat2,\n",
    "                                                                  test_size=0.2,\n",
    "                                                                  stratify=quantity_cat2,\n",
    "                                                                  random_state=42,\n",
    "                                                                 shuffle=True)"
   ]
  },
  {
   "cell_type": "markdown",
   "id": "41b7db16",
   "metadata": {},
   "source": [
    "Prepare data for ML algorithms"
   ]
  },
  {
   "cell_type": "code",
   "execution_count": 666,
   "id": "e0aec811",
   "metadata": {},
   "outputs": [
    {
     "data": {
      "text/plain": [
       "['t_test_M3.pkl']"
      ]
     },
     "execution_count": 666,
     "metadata": {},
     "output_type": "execute_result"
    }
   ],
   "source": [
    "t_train_M3 = train_set_M3['Day of Week'].copy()\n",
    "X_train_M3 = train_set_M3.drop(labels='Day of Week', axis=1)\n",
    "t_test_M3 = test_set_M3['Day of Week'].copy()\n",
    "X_test_M3 = test_set_M3.drop(labels='Day of Week', axis=1)\n",
    "\n",
    "# Export test sets\n",
    "joblib.dump(X_test_M3, 'X_test_M3.pkl')\n",
    "joblib.dump(t_test_M3, 't_test_M3.pkl')"
   ]
  },
  {
   "cell_type": "markdown",
   "id": "33a1da4a",
   "metadata": {},
   "source": [
    "Apply OneHotEncoder for categorical attributes (Product line, Time) and MinMax scaler for the numerical attributes"
   ]
  },
  {
   "cell_type": "code",
   "execution_count": 603,
   "id": "fb55fadd",
   "metadata": {},
   "outputs": [],
   "source": [
    "cat_attribs_M3 = ['Product line', 'Time']\n",
    "num_attribs_M3 = ['Unit price', 'Quantity', 'gross income']\n",
    "\n",
    "# Pipeline for the categorical attributes\n",
    "cat_pipeline = Pipeline([('one_hot', OneHotEncoder())])\n",
    "\n",
    "# Pipeline for numerical attributes\n",
    "num_pipeline = Pipeline([('scaler', MinMaxScaler())])\n",
    "\n",
    "# preprocessed pipeline for day of week prediction\n",
    "pre_process_pipe_m3 = ColumnTransformer([('num', num_pipeline, num_attribs_M3),\n",
    "                                     ('cat', cat_pipeline, cat_attribs_M3)])"
   ]
  },
  {
   "cell_type": "markdown",
   "id": "726ebf04",
   "metadata": {},
   "source": [
    "For what follows, use the coefficient of determination, $r^2$, as one of your metrics of success and report its 95% confidence interval. Carry any necessary hyperparameter tuning with pipelines. Choose the best CV strategy and report on the best hyperparameter settings."
   ]
  },
  {
   "cell_type": "markdown",
   "id": "afc9bd90",
   "metadata": {},
   "source": [
    "2. Train a multiple linear regression with and without Lasso regularization to **predict ```gross income```**.\n",
    "\n",
    "    1. How is the gross income affected by unit price, quantity, and other variables like day, time slot, and product line in general?\n",
    "    \n",
    "    4. When using Lasso regularizer, which value for the hyperparameter $\\lambda$ best works for this dataset? Which features were excluded in this model, if any?"
   ]
  },
  {
   "cell_type": "markdown",
   "id": "194fd486",
   "metadata": {},
   "source": [
    "## Multiple linear regression with Lasso regularization to predict gross income (Model 1)"
   ]
  },
  {
   "cell_type": "markdown",
   "id": "7fdf90d5",
   "metadata": {},
   "source": [
    "Carry hyperparameter tuning"
   ]
  },
  {
   "cell_type": "code",
   "execution_count": 615,
   "id": "3e3dd0c4",
   "metadata": {},
   "outputs": [
    {
     "data": {
      "text/plain": [
       "{'lasso_reg__alpha': 0.07581981981981982}"
      ]
     },
     "execution_count": 615,
     "metadata": {},
     "output_type": "execute_result"
    }
   ],
   "source": [
    "from sklearn.linear_model import Lasso\n",
    "\n",
    "# Final pipeline for model 1 using preprocessed data\n",
    "model_pipe1 = Pipeline([('preprocess', pre_process_pipe_m1),\n",
    "                          ('lasso_reg', Lasso())])\n",
    "# Parameter grid for linear regression\n",
    "param_grid_m1 = {'lasso_reg__alpha': np.linspace(0.001, 0.1, 1000)}\n",
    "\n",
    "grid_search_model_1 = GridSearchCV(model_pipe1, \n",
    "                                   param_grid=param_grid_m1,\n",
    "                                   cv=2,\n",
    "                                   refit=True)\n",
    "grid_search_model_1.fit(X_train_M1, t_train_M1)\n",
    "grid_search_model_1.best_params_"
   ]
  },
  {
   "cell_type": "markdown",
   "id": "160c347b",
   "metadata": {},
   "source": [
    "Save the final model for multiple linear regression with lasso regularization\n",
    "that is used to predict gross income"
   ]
  },
  {
   "cell_type": "code",
   "execution_count": 657,
   "id": "b2f1e3c4",
   "metadata": {},
   "outputs": [
    {
     "data": {
      "text/plain": [
       "['pipeline_problem2_lasso.pkl']"
      ]
     },
     "execution_count": 657,
     "metadata": {},
     "output_type": "execute_result"
    }
   ],
   "source": [
    "import joblib\n",
    "model_1_lasso = grid_search_model_1.best_estimator_\n",
    "\n",
    "\n",
    "joblib.dump(model_1_lasso, 'pipeline_problem2_lasso.pkl')"
   ]
  },
  {
   "cell_type": "code",
   "execution_count": 617,
   "id": "758e75f0",
   "metadata": {},
   "outputs": [
    {
     "data": {
      "text/plain": [
       "0.8924590563967238"
      ]
     },
     "execution_count": 617,
     "metadata": {},
     "output_type": "execute_result"
    }
   ],
   "source": [
    "from sklearn.metrics import r2_score\n",
    "\n",
    "# find coefficient of determination\n",
    "r2_score(t_train_M1, model_1_lasso.predict(X_train_M1))"
   ]
  },
  {
   "cell_type": "code",
   "execution_count": 618,
   "id": "3a576798",
   "metadata": {},
   "outputs": [
    {
     "data": {
      "text/plain": [
       "array([0.90784531, 0.88113536, 0.90401883, 0.85987938, 0.89568321,\n",
       "       0.85916892, 0.90677405, 0.8926232 , 0.88169991, 0.90016989])"
      ]
     },
     "execution_count": 618,
     "metadata": {},
     "output_type": "execute_result"
    }
   ],
   "source": [
    "from sklearn.model_selection import cross_val_score\n",
    "\n",
    "# To compute 95% CI\n",
    "scores_1 = cross_val_score(model_1_lasso, X_train_M1, t_train_M1,\n",
    "                        cv=10,\n",
    "                        scoring='r2')\n",
    "\n",
    "scores_1"
   ]
  },
  {
   "cell_type": "code",
   "execution_count": 619,
   "id": "64f5ab14",
   "metadata": {},
   "outputs": [
    {
     "name": "stdout",
     "output_type": "stream",
     "text": [
      "95% CI:  (0.8759878067536555, 0.9018118038411966)\n"
     ]
    }
   ],
   "source": [
    "from scipy import stats\n",
    "# confidence interval for scores\n",
    "confidence = 0.95\n",
    "\n",
    "print('95% CI: ', stats.t.interval(confidence, len(scores_1) - 1,\n",
    "                 loc=scores_1.mean(),\n",
    "                 scale=scores_1.std(ddof=1)/np.sqrt(len(scores_1))))"
   ]
  },
  {
   "cell_type": "markdown",
   "id": "40687309",
   "metadata": {},
   "source": [
    "## Multiple linear regression without Lasso regularization to predict gross income (Model 1)"
   ]
  },
  {
   "cell_type": "code",
   "execution_count": 620,
   "id": "eb995fc2",
   "metadata": {},
   "outputs": [
    {
     "data": {
      "text/plain": [
       "{'lin_reg__fit_intercept': False}"
      ]
     },
     "execution_count": 620,
     "metadata": {},
     "output_type": "execute_result"
    }
   ],
   "source": [
    "from sklearn.linear_model import LinearRegression\n",
    "\n",
    "# Final pipeline for model 1 using preprocessed data\n",
    "model_pipe1_noLasso = Pipeline([('preprocess', pre_process_pipe_m1),\n",
    "                          ('lin_reg', LinearRegression())])\n",
    "\n",
    "# Parameter grid for linear regression\n",
    "param_grid_m1_nl = {'lin_reg__fit_intercept': [True, False]}\n",
    "\n",
    "grid_search_model_n1 = GridSearchCV(model_pipe1_noLasso, \n",
    "                                    param_grid=param_grid_m1_nl,\n",
    "                                   cv=2,\n",
    "                                   refit=True)\n",
    "\n",
    "grid_search_model_n1.fit(X_train_M1, t_train_M1)\n",
    "grid_search_model_n1.best_params_"
   ]
  },
  {
   "cell_type": "markdown",
   "id": "3c0d055a",
   "metadata": {},
   "source": [
    "Save the final model for multiple linear regression without lasso regularization that is used to predict gross income"
   ]
  },
  {
   "cell_type": "code",
   "execution_count": 658,
   "id": "f74d06a6",
   "metadata": {},
   "outputs": [
    {
     "data": {
      "text/plain": [
       "['pipeline_problem2_noLasso.pkl']"
      ]
     },
     "execution_count": 658,
     "metadata": {},
     "output_type": "execute_result"
    }
   ],
   "source": [
    "model_1_noLasso = grid_search_model_n1.best_estimator_\n",
    "\n",
    "joblib.dump(model_1_noLasso, 'pipeline_problem2_noLasso.pkl')"
   ]
  },
  {
   "cell_type": "code",
   "execution_count": 622,
   "id": "5b3bdd83",
   "metadata": {},
   "outputs": [
    {
     "data": {
      "text/plain": [
       "0.8945457424192502"
      ]
     },
     "execution_count": 622,
     "metadata": {},
     "output_type": "execute_result"
    }
   ],
   "source": [
    "# find coefficient of determination\n",
    "r2_score(t_train_M1, model_1_noLasso.predict(X_train_M1))"
   ]
  },
  {
   "cell_type": "code",
   "execution_count": 623,
   "id": "51463693",
   "metadata": {},
   "outputs": [
    {
     "data": {
      "text/plain": [
       "array([0.90678818, 0.88283876, 0.89959424, 0.85500263, 0.88835694,\n",
       "       0.85156337, 0.90678588, 0.89630531, 0.88211585, 0.9023688 ])"
      ]
     },
     "execution_count": 623,
     "metadata": {},
     "output_type": "execute_result"
    }
   ],
   "source": [
    "# To compute 95% CI\n",
    "scores_n1 = cross_val_score(model_1_noLasso, X_train_M1, t_train_M1,\n",
    "                        cv=10,\n",
    "                        scoring='r2')\n",
    "\n",
    "scores_n1"
   ]
  },
  {
   "cell_type": "code",
   "execution_count": 624,
   "id": "3e4f0b15",
   "metadata": {},
   "outputs": [
    {
     "name": "stdout",
     "output_type": "stream",
     "text": [
      "95% CI:  (0.8728911921611149, 0.901452800385383)\n"
     ]
    }
   ],
   "source": [
    "# confidence interval for scores\n",
    "confidence = 0.95\n",
    "\n",
    "print('95% CI: ', stats.t.interval(confidence, len(scores_n1) - 1,\n",
    "                 loc=scores_n1.mean(),\n",
    "                 scale=scores_n1.std(ddof=1)/np.sqrt(len(scores_n1))))"
   ]
  },
  {
   "cell_type": "markdown",
   "id": "0a5c2849",
   "metadata": {},
   "source": [
    "3. Train a multiple linear regression with and without Lasso regularization to **predict ```Unit price```**.\n",
    "\n",
    "    1. How is the unit price affected by gross income, quantity, and other variables like day, timeslot, and product line in general?\n",
    "    \n",
    "    4. When using Lasso regularizer, which value for the hyperparameter $\\lambda$ best works for this dataset? Which features were excluded in this model, if any?"
   ]
  },
  {
   "cell_type": "markdown",
   "id": "d0164170",
   "metadata": {},
   "source": [
    "## Multiple linear regression with Lasso regularization to predict Unit price (Model 2)"
   ]
  },
  {
   "cell_type": "code",
   "execution_count": 636,
   "id": "d38207ed",
   "metadata": {},
   "outputs": [
    {
     "data": {
      "text/plain": [
       "{'lasso_reg__alpha': 0.1}"
      ]
     },
     "execution_count": 636,
     "metadata": {},
     "output_type": "execute_result"
    }
   ],
   "source": [
    "# Final pipeline for model 2 using preprocessed data\n",
    "model_pipe2 = Pipeline([('preprocess', pre_process_pipe_m2),\n",
    "                          ('lasso_reg', Lasso())])\n",
    "# Parameter grid for linear regression\n",
    "param_grid_m2 = {'lasso_reg__alpha': np.linspace(0.001, 0.1, 1000)}\n",
    "\n",
    "grid_search_model_2 = GridSearchCV(model_pipe2, \n",
    "                                   param_grid=param_grid_m2,\n",
    "                                   cv=2,\n",
    "                                   refit=True)\n",
    "grid_search_model_2.fit(X_train_M2, t_train_M2)\n",
    "grid_search_model_2.best_params_"
   ]
  },
  {
   "cell_type": "markdown",
   "id": "d748e766",
   "metadata": {},
   "source": [
    "Save the final model for multiple linear regression with lasso regularization that is used to predict Unit price"
   ]
  },
  {
   "cell_type": "code",
   "execution_count": 659,
   "id": "ee5894d9",
   "metadata": {},
   "outputs": [
    {
     "data": {
      "text/plain": [
       "['pipeline_problem3_lasso.pkl']"
      ]
     },
     "execution_count": 659,
     "metadata": {},
     "output_type": "execute_result"
    }
   ],
   "source": [
    "model2_lasso = grid_search_model_2.best_estimator_\n",
    "\n",
    "joblib.dump(model2_lasso, 'pipeline_problem3_lasso.pkl')"
   ]
  },
  {
   "cell_type": "code",
   "execution_count": 638,
   "id": "3c0f7c21",
   "metadata": {},
   "outputs": [
    {
     "data": {
      "text/plain": [
       "0.779884530114984"
      ]
     },
     "execution_count": 638,
     "metadata": {},
     "output_type": "execute_result"
    }
   ],
   "source": [
    "# find coefficient of determination\n",
    "r2_score(t_train_M2, model2_lasso.predict(X_train_M2))"
   ]
  },
  {
   "cell_type": "code",
   "execution_count": 639,
   "id": "bb823701",
   "metadata": {},
   "outputs": [
    {
     "data": {
      "text/plain": [
       "array([0.81909082, 0.8259114 , 0.73246087, 0.74250409, 0.82884725,\n",
       "       0.74477846, 0.76918821, 0.6931288 , 0.77955455, 0.78462786])"
      ]
     },
     "execution_count": 639,
     "metadata": {},
     "output_type": "execute_result"
    }
   ],
   "source": [
    "# To compute 95% CI\n",
    "scores_l_2 = cross_val_score(model2_lasso, X_train_M2, t_train_M2,\n",
    "                        cv=10,\n",
    "                        scoring='r2')\n",
    "\n",
    "scores_l_2"
   ]
  },
  {
   "cell_type": "code",
   "execution_count": 640,
   "id": "95359a1e",
   "metadata": {},
   "outputs": [
    {
     "name": "stdout",
     "output_type": "stream",
     "text": [
      "95% CI:  (0.7400396657899634, 0.8039787947854989)\n"
     ]
    }
   ],
   "source": [
    "# confidence interval for scores\n",
    "confidence = 0.95\n",
    "\n",
    "print('95% CI: ', stats.t.interval(confidence, len(scores_l_2) - 1,\n",
    "                 loc=scores_l_2.mean(),\n",
    "                 scale=scores_l_2.std(ddof=1)/np.sqrt(len(scores_l_2))))"
   ]
  },
  {
   "cell_type": "markdown",
   "id": "33dd819c",
   "metadata": {},
   "source": [
    "## Multiple linear regression without Lasso regularization to predict Unit price (Model 2)"
   ]
  },
  {
   "cell_type": "code",
   "execution_count": 641,
   "id": "799f618d",
   "metadata": {},
   "outputs": [
    {
     "data": {
      "text/plain": [
       "{'lin_reg__fit_intercept': False}"
      ]
     },
     "execution_count": 641,
     "metadata": {},
     "output_type": "execute_result"
    }
   ],
   "source": [
    "# Final pipeline for model 1 using preprocessed data\n",
    "model_pipe2_noLasso = Pipeline([('preprocess', pre_process_pipe_m2),\n",
    "                          ('lin_reg', LinearRegression())])\n",
    "\n",
    "# Parameter grid for linear regression\n",
    "param_grid_m2_nl = {'lin_reg__fit_intercept': [True, False]}\n",
    "\n",
    "grid_search_model_n2 = GridSearchCV(model_pipe2_noLasso, \n",
    "                                    param_grid=param_grid_m2_nl,\n",
    "                                   cv=2,\n",
    "                                   refit=True)\n",
    "\n",
    "grid_search_model_n2.fit(X_train_M2, t_train_M2)\n",
    "grid_search_model_n2.best_params_"
   ]
  },
  {
   "cell_type": "markdown",
   "id": "a8d764d6",
   "metadata": {},
   "source": [
    "Save the final model for multiple linear regression without lasso regularization that is used to predict Unit price"
   ]
  },
  {
   "cell_type": "code",
   "execution_count": 660,
   "id": "e2611164",
   "metadata": {},
   "outputs": [
    {
     "data": {
      "text/plain": [
       "['pipeline_problem3_noLasso.pkl']"
      ]
     },
     "execution_count": 660,
     "metadata": {},
     "output_type": "execute_result"
    }
   ],
   "source": [
    "model2_nlasso = grid_search_model_n2.best_estimator_\n",
    "\n",
    "joblib.dump(model2_nlasso, 'pipeline_problem3_noLasso.pkl')"
   ]
  },
  {
   "cell_type": "code",
   "execution_count": 644,
   "id": "f5717f48",
   "metadata": {},
   "outputs": [
    {
     "data": {
      "text/plain": [
       "0.7824751239044847"
      ]
     },
     "execution_count": 644,
     "metadata": {},
     "output_type": "execute_result"
    }
   ],
   "source": [
    "# find coefficient of determination\n",
    "r2_score(t_train_M2, model2_nlasso.predict(X_train_M2))"
   ]
  },
  {
   "cell_type": "code",
   "execution_count": 645,
   "id": "a43f063d",
   "metadata": {},
   "outputs": [
    {
     "data": {
      "text/plain": [
       "array([0.81679077, 0.82078863, 0.72853813, 0.73757509, 0.82777201,\n",
       "       0.74233286, 0.76941599, 0.69863952, 0.78145298, 0.78238472])"
      ]
     },
     "execution_count": 645,
     "metadata": {},
     "output_type": "execute_result"
    }
   ],
   "source": [
    "# To compute 95% CI\n",
    "scores_nl_2 = cross_val_score(model2_nlasso, X_train_M2, t_train_M2,\n",
    "                        cv=10,\n",
    "                        scoring='r2')\n",
    "\n",
    "scores_nl_2"
   ]
  },
  {
   "cell_type": "code",
   "execution_count": 646,
   "id": "12ad5cb2",
   "metadata": {},
   "outputs": [
    {
     "name": "stdout",
     "output_type": "stream",
     "text": [
      "95% CI:  (0.739463726099451, 0.8016744132168245)\n"
     ]
    }
   ],
   "source": [
    "# confidence interval for scores\n",
    "confidence = 0.95\n",
    "\n",
    "print('95% CI: ', stats.t.interval(confidence, len(scores_nl_2) - 1,\n",
    "                 loc=scores_nl_2.mean(),\n",
    "                 scale=scores_nl_2.std(ddof=1)/np.sqrt(len(scores_nl_2))))"
   ]
  },
  {
   "cell_type": "markdown",
   "id": "800ed743",
   "metadata": {},
   "source": [
    "For what follows, use accuracy as one of your metrics of success and report its 95% confidence interval. Carry any necessary hyperparameter tuning with pipelines. Choose the best CV strategy and report on the best hyperparameter settings."
   ]
  },
  {
   "cell_type": "markdown",
   "id": "62495ecb",
   "metadata": {},
   "source": [
    "6. Train a classifier to **predict the day of purchase** (Monday, Tuesday, etc.).\n",
    "\n",
    "    1. Select at least 2 classifiers."
   ]
  },
  {
   "cell_type": "markdown",
   "id": "c9968a4f",
   "metadata": {},
   "source": [
    "## Decision tree classifier to predict Day of Purchase (Model 3)"
   ]
  },
  {
   "cell_type": "code",
   "execution_count": 648,
   "id": "e598f9d7",
   "metadata": {},
   "outputs": [
    {
     "data": {
      "text/plain": [
       "{'DT__criterion': 'entropy',\n",
       " 'DT__max_depth': 9,\n",
       " 'DT__min_samples_leaf': 4,\n",
       " 'DT__min_samples_split': 2}"
      ]
     },
     "execution_count": 648,
     "metadata": {},
     "output_type": "execute_result"
    }
   ],
   "source": [
    "from sklearn.tree import DecisionTreeClassifier, plot_tree\n",
    "# Final Pipeline\n",
    "model3_pipe_dt= Pipeline([('preprocess', pre_process_pipe_m3),\n",
    "                          ('DT', DecisionTreeClassifier(random_state=0))])\n",
    "\n",
    "# Parameter grid for decision tree\n",
    "param_grid_dt = {'DT__criterion': ['gini', 'entropy'],\n",
    "             'DT__max_depth': np.arange(1,15),\n",
    "             'DT__min_samples_split': np.arange(2,8),\n",
    "             'DT__min_samples_leaf':np.arange(1,5)}\n",
    "\n",
    "grid_search_dt = GridSearchCV(model3_pipe_dt, param_grid_dt, \n",
    "                           cv=5, scoring='accuracy', refit=True)\n",
    "\n",
    "grid_search_dt.fit(X_train_M3, t_train_M3)\n",
    "grid_search_dt.best_params_"
   ]
  },
  {
   "cell_type": "markdown",
   "id": "3eafcfce",
   "metadata": {},
   "source": [
    "Save the final model for Decision tree classifier to predict day of purchase"
   ]
  },
  {
   "cell_type": "code",
   "execution_count": 661,
   "id": "101001dc",
   "metadata": {},
   "outputs": [
    {
     "data": {
      "text/plain": [
       "['pipeline_problem6_DT.pkl']"
      ]
     },
     "execution_count": 661,
     "metadata": {},
     "output_type": "execute_result"
    }
   ],
   "source": [
    "final_model_3_dt = grid_search_dt.best_estimator_\n",
    "\n",
    "joblib.dump(final_model_3_dt, 'pipeline_problem6_DT.pkl')"
   ]
  },
  {
   "cell_type": "code",
   "execution_count": 650,
   "id": "dca73b87",
   "metadata": {},
   "outputs": [
    {
     "data": {
      "image/png": "[encoded data removed]",
      "text/plain": [
       "<Figure size 1080x720 with 1 Axes>"
      ]
     },
     "metadata": {
      "needs_background": "light"
     },
     "output_type": "display_data"
    }
   ],
   "source": [
    "plt.figure(figsize=(15,10))\n",
    "plot_tree(final_model_3_dt.named_steps['DT']);"
   ]
  },
  {
   "cell_type": "code",
   "execution_count": 651,
   "id": "32d2745e",
   "metadata": {},
   "outputs": [
    {
     "data": {
      "text/plain": [
       "0.3025"
      ]
     },
     "execution_count": 651,
     "metadata": {},
     "output_type": "execute_result"
    }
   ],
   "source": [
    "# Get the accuracy score \n",
    "from sklearn.metrics import accuracy_score\n",
    "\n",
    "accuracy_score(t_train_M3, final_model_3_dt.predict(X_train_M3))"
   ]
  },
  {
   "cell_type": "code",
   "execution_count": 653,
   "id": "a6af4ccc",
   "metadata": {},
   "outputs": [
    {
     "data": {
      "text/plain": [
       "array([0.1875, 0.1625, 0.1625, 0.2   , 0.1625, 0.1375, 0.125 , 0.125 ,\n",
       "       0.1125, 0.15  ])"
      ]
     },
     "execution_count": 653,
     "metadata": {},
     "output_type": "execute_result"
    }
   ],
   "source": [
    "from sklearn.model_selection import cross_val_score\n",
    "\n",
    "# To compute 95% CI\n",
    "\n",
    "scores = cross_val_score(final_model_3_dt, X_train_M3, t_train_M3,\n",
    "                        cv=10,\n",
    "                        scoring='accuracy')\n",
    "\n",
    "scores"
   ]
  },
  {
   "cell_type": "code",
   "execution_count": 654,
   "id": "b5354a2e",
   "metadata": {},
   "outputs": [
    {
     "name": "stdout",
     "output_type": "stream",
     "text": [
      "95% CI:  (0.13237230912918443, 0.17262769087081561)\n"
     ]
    }
   ],
   "source": [
    "from scipy import stats\n",
    "\n",
    "confidence = 0.95\n",
    "\n",
    "print('95% CI: ', stats.t.interval(confidence, len(scores) - 1,\n",
    "                 loc=scores.mean(),\n",
    "                 scale=scores.std(ddof=1)/np.sqrt(len(scores))))"
   ]
  },
  {
   "cell_type": "markdown",
   "id": "d1980c25",
   "metadata": {},
   "source": [
    "### Random Forest classifier to predict Day of Purchase (Model 3)"
   ]
  },
  {
   "cell_type": "code",
   "execution_count": 562,
   "id": "1da136e1",
   "metadata": {},
   "outputs": [
    {
     "data": {
      "text/plain": [
       "{'RF__criterion': 'gini',\n",
       " 'RF__max_depth': 9,\n",
       " 'RF__min_samples_leaf': 1,\n",
       " 'RF__min_samples_split': 3,\n",
       " 'RF__n_estimators': 50}"
      ]
     },
     "execution_count": 562,
     "metadata": {},
     "output_type": "execute_result"
    }
   ],
   "source": [
    "from sklearn.ensemble import RandomForestClassifier\n",
    "\n",
    "# Model Pipeline\n",
    "model_3_rf = Pipeline([('preprocess', pre_process_pipe_m3),\n",
    "                          ('RF', RandomForestClassifier(random_state=0))])\n",
    "\n",
    "# Parameter grid for decision tree\n",
    "param_grid_rf = {'RF__n_estimators': [50,100,200,300,400],\n",
    "              'RF__criterion': ['gini', 'entropy'],\n",
    "              'RF__max_depth': np.arange(1,10),\n",
    "              'RF__min_samples_split': np.arange(2,5),\n",
    "              'RF__min_samples_leaf':np.arange(1,5)}\n",
    "\n",
    "grid_search_rf = GridSearchCV(model_3_rf, param_grid_rf, \n",
    "                           cv=5, scoring='accuracy', refit=True)\n",
    "\n",
    "grid_search_rf.fit(X_train_M3, t_train_M3)\n",
    "grid_search_rf.best_params_"
   ]
  },
  {
   "cell_type": "markdown",
   "id": "80ed105e",
   "metadata": {},
   "source": [
    "Save the final model for Random Forest Classifier to predict day of purchase"
   ]
  },
  {
   "cell_type": "code",
   "execution_count": 662,
   "id": "d404d6a9",
   "metadata": {},
   "outputs": [
    {
     "data": {
      "text/plain": [
       "['pipeline_problem6_rf.pkl']"
      ]
     },
     "execution_count": 662,
     "metadata": {},
     "output_type": "execute_result"
    }
   ],
   "source": [
    "final_model_3_rf = grid_search_rf.best_estimator_\n",
    "\n",
    "joblib.dump(final_model_3_rf, 'pipeline_problem6_rf.pkl')"
   ]
  },
  {
   "cell_type": "code",
   "execution_count": 564,
   "id": "fbab82b4",
   "metadata": {},
   "outputs": [
    {
     "data": {
      "text/plain": [
       "0.86125"
      ]
     },
     "execution_count": 564,
     "metadata": {},
     "output_type": "execute_result"
    }
   ],
   "source": [
    "# Get the accuracy score \n",
    "accuracy_score(t_train_M3, final_model_3_rf.predict(X_train_M3))"
   ]
  },
  {
   "cell_type": "code",
   "execution_count": 565,
   "id": "23ed37a9",
   "metadata": {},
   "outputs": [
    {
     "data": {
      "text/plain": [
       "array([0.175 , 0.075 , 0.1625, 0.15  , 0.1625, 0.1   , 0.25  , 0.125 ,\n",
       "       0.1625, 0.175 ])"
      ]
     },
     "execution_count": 565,
     "metadata": {},
     "output_type": "execute_result"
    }
   ],
   "source": [
    "# To compute 95% CI\n",
    "scores2 = cross_val_score(final_model_3_rf, X_train_M3, t_train_M3,\n",
    "                        cv=10,\n",
    "                        scoring='accuracy')\n",
    "\n",
    "scores2"
   ]
  },
  {
   "cell_type": "code",
   "execution_count": 566,
   "id": "b8d31edc",
   "metadata": {},
   "outputs": [
    {
     "name": "stdout",
     "output_type": "stream",
     "text": [
      "95% CI:  (0.13237230912918443, 0.17262769087081561)\n"
     ]
    }
   ],
   "source": [
    "print('95% CI: ', stats.t.interval(confidence, len(scores) - 1,\n",
    "                 loc=scores.mean(),\n",
    "                 scale=scores.std(ddof=1)/np.sqrt(len(scores))))"
   ]
  }
 ],
 "metadata": {
  "kernelspec": {
   "display_name": "Python 3 (ipykernel)",
   "language": "python",
   "name": "python3"
  },
  "language_info": {
   "codemirror_mode": {
    "name": "ipython",
    "version": 3
   },
   "file_extension": ".py",
   "mimetype": "text/x-python",
   "name": "python",
   "nbconvert_exporter": "python",
   "pygments_lexer": "ipython3",
   "version": "3.9.12"
  }
 },
 "nbformat": 4,
 "nbformat_minor": 5
}
