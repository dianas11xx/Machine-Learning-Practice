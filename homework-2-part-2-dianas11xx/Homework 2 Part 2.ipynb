{
 "cells": [
  {
   "cell_type": "markdown",
   "id": "9e28646b",
   "metadata": {},
   "source": [
    "# Homework 2 Part 2 "
   ]
  },
  {
   "cell_type": "code",
   "execution_count": null,
   "id": "c8ea7112",
   "metadata": {},
   "outputs": [],
   "source": []
  },
  {
   "cell_type": "markdown",
   "id": "4044de76",
   "metadata": {},
   "source": [
    "**Due: Wednesday, October 5 @ 11:59pm**"
   ]
  },
  {
   "cell_type": "markdown",
   "id": "c38723f8",
   "metadata": {},
   "source": [
    "### I strongly recommend you to use HiPerGator to solve this assignment"
   ]
  },
  {
   "cell_type": "markdown",
   "id": "d4b776c0",
   "metadata": {},
   "source": [
    "Open On-Demand: [ood.rc.ufl.edu](https://ood.rc.ufl.edu/)"
   ]
  },
  {
   "cell_type": "markdown",
   "id": "40ffae9f",
   "metadata": {},
   "source": [
    "### Import Libraries and magics"
   ]
  },
  {
   "cell_type": "code",
   "execution_count": 20,
   "id": "70213c53",
   "metadata": {},
   "outputs": [],
   "source": [
    "# load libraries and magics\n",
    "import pandas as pd\n",
    "import numpy as np\n",
    "from sklearn.model_selection import train_test_split\n",
    "from sklearn.preprocessing import StandardScaler\n",
    "from sklearn.compose import ColumnTransformer\n",
    "from sklearn.pipeline import Pipeline\n",
    "import matplotlib.pyplot as plt\n"
   ]
  },
  {
   "cell_type": "markdown",
   "id": "41c19a54",
   "metadata": {},
   "source": [
    "---"
   ]
  },
  {
   "cell_type": "markdown",
   "id": "071c1233",
   "metadata": {},
   "source": [
    "# Question 1\n",
    "\n",
    "Consider the [breast cancer dataset](https://scikit-learn.org/stable/modules/generated/sklearn.datasets.load_breast_cancer.html) with 30 numerical attributes described below and a total of 569 samples. Each sample is labeled as malignant (class 0) or benign (class 1). This is a **binary classification task**."
   ]
  },
  {
   "cell_type": "code",
   "execution_count": 3,
   "id": "a16b536f",
   "metadata": {
    "scrolled": false
   },
   "outputs": [
    {
     "name": "stdout",
     "output_type": "stream",
     "text": [
      ".. _breast_cancer_dataset:\n",
      "\n",
      "Breast cancer wisconsin (diagnostic) dataset\n",
      "--------------------------------------------\n",
      "\n",
      "**Data Set Characteristics:**\n",
      "\n",
      "    :Number of Instances: 569\n",
      "\n",
      "    :Number of Attributes: 30 numeric, predictive attributes and the class\n",
      "\n",
      "    :Attribute Information:\n",
      "        - radius (mean of distances from center to points on the perimeter)\n",
      "        - texture (standard deviation of gray-scale values)\n",
      "        - perimeter\n",
      "        - area\n",
      "        - smoothness (local variation in radius lengths)\n",
      "        - compactness (perimeter^2 / area - 1.0)\n",
      "        - concavity (severity of concave portions of the contour)\n",
      "        - concave points (number of concave portions of the contour)\n",
      "        - symmetry\n",
      "        - fractal dimension (\"coastline approximation\" - 1)\n",
      "\n",
      "        The mean, standard error, and \"worst\" or largest (mean of the three\n",
      "        worst/largest values) of these features were computed for each image,\n",
      "        resulting in 30 features.  For instance, field 0 is Mean Radius, field\n",
      "        10 is Radius SE, field 20 is Worst Radius.\n",
      "\n",
      "        - class:\n",
      "                - WDBC-Malignant\n",
      "                - WDBC-Benign\n",
      "\n",
      "    :Summary Statistics:\n",
      "\n",
      "    ===================================== ====== ======\n",
      "                                           Min    Max\n",
      "    ===================================== ====== ======\n",
      "    radius (mean):                        6.981  28.11\n",
      "    texture (mean):                       9.71   39.28\n",
      "    perimeter (mean):                     43.79  188.5\n",
      "    area (mean):                          143.5  2501.0\n",
      "    smoothness (mean):                    0.053  0.163\n",
      "    compactness (mean):                   0.019  0.345\n",
      "    concavity (mean):                     0.0    0.427\n",
      "    concave points (mean):                0.0    0.201\n",
      "    symmetry (mean):                      0.106  0.304\n",
      "    fractal dimension (mean):             0.05   0.097\n",
      "    radius (standard error):              0.112  2.873\n",
      "    texture (standard error):             0.36   4.885\n",
      "    perimeter (standard error):           0.757  21.98\n",
      "    area (standard error):                6.802  542.2\n",
      "    smoothness (standard error):          0.002  0.031\n",
      "    compactness (standard error):         0.002  0.135\n",
      "    concavity (standard error):           0.0    0.396\n",
      "    concave points (standard error):      0.0    0.053\n",
      "    symmetry (standard error):            0.008  0.079\n",
      "    fractal dimension (standard error):   0.001  0.03\n",
      "    radius (worst):                       7.93   36.04\n",
      "    texture (worst):                      12.02  49.54\n",
      "    perimeter (worst):                    50.41  251.2\n",
      "    area (worst):                         185.2  4254.0\n",
      "    smoothness (worst):                   0.071  0.223\n",
      "    compactness (worst):                  0.027  1.058\n",
      "    concavity (worst):                    0.0    1.252\n",
      "    concave points (worst):               0.0    0.291\n",
      "    symmetry (worst):                     0.156  0.664\n",
      "    fractal dimension (worst):            0.055  0.208\n",
      "    ===================================== ====== ======\n",
      "\n",
      "    :Missing Attribute Values: None\n",
      "\n",
      "    :Class Distribution: 212 - Malignant, 357 - Benign\n",
      "\n",
      "    :Creator:  Dr. William H. Wolberg, W. Nick Street, Olvi L. Mangasarian\n",
      "\n",
      "    :Donor: Nick Street\n",
      "\n",
      "    :Date: November, 1995\n",
      "\n",
      "This is a copy of UCI ML Breast Cancer Wisconsin (Diagnostic) datasets.\n",
      "https://goo.gl/U2Uwz2\n",
      "\n",
      "Features are computed from a digitized image of a fine needle\n",
      "aspirate (FNA) of a breast mass.  They describe\n",
      "characteristics of the cell nuclei present in the image.\n",
      "\n",
      "Separating plane described above was obtained using\n",
      "Multisurface Method-Tree (MSM-T) [K. P. Bennett, \"Decision Tree\n",
      "Construction Via Linear Programming.\" Proceedings of the 4th\n",
      "Midwest Artificial Intelligence and Cognitive Science Society,\n",
      "pp. 97-101, 1992], a classification method which uses linear\n",
      "programming to construct a decision tree.  Relevant features\n",
      "were selected using an exhaustive search in the space of 1-4\n",
      "features and 1-3 separating planes.\n",
      "\n",
      "The actual linear program used to obtain the separating plane\n",
      "in the 3-dimensional space is that described in:\n",
      "[K. P. Bennett and O. L. Mangasarian: \"Robust Linear\n",
      "Programming Discrimination of Two Linearly Inseparable Sets\",\n",
      "Optimization Methods and Software 1, 1992, 23-34].\n",
      "\n",
      "This database is also available through the UW CS ftp server:\n",
      "\n",
      "ftp ftp.cs.wisc.edu\n",
      "cd math-prog/cpo-dataset/machine-learn/WDBC/\n",
      "\n",
      ".. topic:: References\n",
      "\n",
      "   - W.N. Street, W.H. Wolberg and O.L. Mangasarian. Nuclear feature extraction \n",
      "     for breast tumor diagnosis. IS&T/SPIE 1993 International Symposium on \n",
      "     Electronic Imaging: Science and Technology, volume 1905, pages 861-870,\n",
      "     San Jose, CA, 1993.\n",
      "   - O.L. Mangasarian, W.N. Street and W.H. Wolberg. Breast cancer diagnosis and \n",
      "     prognosis via linear programming. Operations Research, 43(4), pages 570-577, \n",
      "     July-August 1995.\n",
      "   - W.H. Wolberg, W.N. Street, and O.L. Mangasarian. Machine learning techniques\n",
      "     to diagnose breast cancer from fine-needle aspirates. Cancer Letters 77 (1994) \n",
      "     163-171.\n"
     ]
    }
   ],
   "source": [
    "from sklearn.datasets import load_breast_cancer\n",
    "\n",
    "cancer = load_breast_cancer(return_X_y=False, as_frame=True)\n",
    "\n",
    "print(cancer.DESCR)"
   ]
  },
  {
   "cell_type": "code",
   "execution_count": 4,
   "id": "1db912c0",
   "metadata": {},
   "outputs": [
    {
     "data": {
      "text/plain": [
       "dict_keys(['data', 'target', 'frame', 'target_names', 'DESCR', 'feature_names', 'filename', 'data_module'])"
      ]
     },
     "execution_count": 4,
     "metadata": {},
     "output_type": "execute_result"
    }
   ],
   "source": [
    "cancer.keys()"
   ]
  },
  {
   "cell_type": "code",
   "execution_count": 5,
   "id": "6f9617f7",
   "metadata": {},
   "outputs": [
    {
     "data": {
      "text/html": [
       "<div>\n",
       "<style scoped>\n",
       "    .dataframe tbody tr th:only-of-type {\n",
       "        vertical-align: middle;\n",
       "    }\n",
       "\n",
       "    .dataframe tbody tr th {\n",
       "        vertical-align: top;\n",
       "    }\n",
       "\n",
       "    .dataframe thead th {\n",
       "        text-align: right;\n",
       "    }\n",
       "</style>\n",
       "<table border=\"1\" class=\"dataframe\">\n",
       "  <thead>\n",
       "    <tr style=\"text-align: right;\">\n",
       "      <th></th>\n",
       "      <th>mean radius</th>\n",
       "      <th>mean texture</th>\n",
       "      <th>mean perimeter</th>\n",
       "      <th>mean area</th>\n",
       "      <th>mean smoothness</th>\n",
       "      <th>mean compactness</th>\n",
       "      <th>mean concavity</th>\n",
       "      <th>mean concave points</th>\n",
       "      <th>mean symmetry</th>\n",
       "      <th>mean fractal dimension</th>\n",
       "      <th>...</th>\n",
       "      <th>worst radius</th>\n",
       "      <th>worst texture</th>\n",
       "      <th>worst perimeter</th>\n",
       "      <th>worst area</th>\n",
       "      <th>worst smoothness</th>\n",
       "      <th>worst compactness</th>\n",
       "      <th>worst concavity</th>\n",
       "      <th>worst concave points</th>\n",
       "      <th>worst symmetry</th>\n",
       "      <th>worst fractal dimension</th>\n",
       "    </tr>\n",
       "  </thead>\n",
       "  <tbody>\n",
       "    <tr>\n",
       "      <th>0</th>\n",
       "      <td>17.99</td>\n",
       "      <td>10.38</td>\n",
       "      <td>122.80</td>\n",
       "      <td>1001.0</td>\n",
       "      <td>0.11840</td>\n",
       "      <td>0.27760</td>\n",
       "      <td>0.30010</td>\n",
       "      <td>0.14710</td>\n",
       "      <td>0.2419</td>\n",
       "      <td>0.07871</td>\n",
       "      <td>...</td>\n",
       "      <td>25.380</td>\n",
       "      <td>17.33</td>\n",
       "      <td>184.60</td>\n",
       "      <td>2019.0</td>\n",
       "      <td>0.16220</td>\n",
       "      <td>0.66560</td>\n",
       "      <td>0.7119</td>\n",
       "      <td>0.2654</td>\n",
       "      <td>0.4601</td>\n",
       "      <td>0.11890</td>\n",
       "    </tr>\n",
       "    <tr>\n",
       "      <th>1</th>\n",
       "      <td>20.57</td>\n",
       "      <td>17.77</td>\n",
       "      <td>132.90</td>\n",
       "      <td>1326.0</td>\n",
       "      <td>0.08474</td>\n",
       "      <td>0.07864</td>\n",
       "      <td>0.08690</td>\n",
       "      <td>0.07017</td>\n",
       "      <td>0.1812</td>\n",
       "      <td>0.05667</td>\n",
       "      <td>...</td>\n",
       "      <td>24.990</td>\n",
       "      <td>23.41</td>\n",
       "      <td>158.80</td>\n",
       "      <td>1956.0</td>\n",
       "      <td>0.12380</td>\n",
       "      <td>0.18660</td>\n",
       "      <td>0.2416</td>\n",
       "      <td>0.1860</td>\n",
       "      <td>0.2750</td>\n",
       "      <td>0.08902</td>\n",
       "    </tr>\n",
       "    <tr>\n",
       "      <th>2</th>\n",
       "      <td>19.69</td>\n",
       "      <td>21.25</td>\n",
       "      <td>130.00</td>\n",
       "      <td>1203.0</td>\n",
       "      <td>0.10960</td>\n",
       "      <td>0.15990</td>\n",
       "      <td>0.19740</td>\n",
       "      <td>0.12790</td>\n",
       "      <td>0.2069</td>\n",
       "      <td>0.05999</td>\n",
       "      <td>...</td>\n",
       "      <td>23.570</td>\n",
       "      <td>25.53</td>\n",
       "      <td>152.50</td>\n",
       "      <td>1709.0</td>\n",
       "      <td>0.14440</td>\n",
       "      <td>0.42450</td>\n",
       "      <td>0.4504</td>\n",
       "      <td>0.2430</td>\n",
       "      <td>0.3613</td>\n",
       "      <td>0.08758</td>\n",
       "    </tr>\n",
       "    <tr>\n",
       "      <th>3</th>\n",
       "      <td>11.42</td>\n",
       "      <td>20.38</td>\n",
       "      <td>77.58</td>\n",
       "      <td>386.1</td>\n",
       "      <td>0.14250</td>\n",
       "      <td>0.28390</td>\n",
       "      <td>0.24140</td>\n",
       "      <td>0.10520</td>\n",
       "      <td>0.2597</td>\n",
       "      <td>0.09744</td>\n",
       "      <td>...</td>\n",
       "      <td>14.910</td>\n",
       "      <td>26.50</td>\n",
       "      <td>98.87</td>\n",
       "      <td>567.7</td>\n",
       "      <td>0.20980</td>\n",
       "      <td>0.86630</td>\n",
       "      <td>0.6869</td>\n",
       "      <td>0.2575</td>\n",
       "      <td>0.6638</td>\n",
       "      <td>0.17300</td>\n",
       "    </tr>\n",
       "    <tr>\n",
       "      <th>4</th>\n",
       "      <td>20.29</td>\n",
       "      <td>14.34</td>\n",
       "      <td>135.10</td>\n",
       "      <td>1297.0</td>\n",
       "      <td>0.10030</td>\n",
       "      <td>0.13280</td>\n",
       "      <td>0.19800</td>\n",
       "      <td>0.10430</td>\n",
       "      <td>0.1809</td>\n",
       "      <td>0.05883</td>\n",
       "      <td>...</td>\n",
       "      <td>22.540</td>\n",
       "      <td>16.67</td>\n",
       "      <td>152.20</td>\n",
       "      <td>1575.0</td>\n",
       "      <td>0.13740</td>\n",
       "      <td>0.20500</td>\n",
       "      <td>0.4000</td>\n",
       "      <td>0.1625</td>\n",
       "      <td>0.2364</td>\n",
       "      <td>0.07678</td>\n",
       "    </tr>\n",
       "    <tr>\n",
       "      <th>...</th>\n",
       "      <td>...</td>\n",
       "      <td>...</td>\n",
       "      <td>...</td>\n",
       "      <td>...</td>\n",
       "      <td>...</td>\n",
       "      <td>...</td>\n",
       "      <td>...</td>\n",
       "      <td>...</td>\n",
       "      <td>...</td>\n",
       "      <td>...</td>\n",
       "      <td>...</td>\n",
       "      <td>...</td>\n",
       "      <td>...</td>\n",
       "      <td>...</td>\n",
       "      <td>...</td>\n",
       "      <td>...</td>\n",
       "      <td>...</td>\n",
       "      <td>...</td>\n",
       "      <td>...</td>\n",
       "      <td>...</td>\n",
       "      <td>...</td>\n",
       "    </tr>\n",
       "    <tr>\n",
       "      <th>564</th>\n",
       "      <td>21.56</td>\n",
       "      <td>22.39</td>\n",
       "      <td>142.00</td>\n",
       "      <td>1479.0</td>\n",
       "      <td>0.11100</td>\n",
       "      <td>0.11590</td>\n",
       "      <td>0.24390</td>\n",
       "      <td>0.13890</td>\n",
       "      <td>0.1726</td>\n",
       "      <td>0.05623</td>\n",
       "      <td>...</td>\n",
       "      <td>25.450</td>\n",
       "      <td>26.40</td>\n",
       "      <td>166.10</td>\n",
       "      <td>2027.0</td>\n",
       "      <td>0.14100</td>\n",
       "      <td>0.21130</td>\n",
       "      <td>0.4107</td>\n",
       "      <td>0.2216</td>\n",
       "      <td>0.2060</td>\n",
       "      <td>0.07115</td>\n",
       "    </tr>\n",
       "    <tr>\n",
       "      <th>565</th>\n",
       "      <td>20.13</td>\n",
       "      <td>28.25</td>\n",
       "      <td>131.20</td>\n",
       "      <td>1261.0</td>\n",
       "      <td>0.09780</td>\n",
       "      <td>0.10340</td>\n",
       "      <td>0.14400</td>\n",
       "      <td>0.09791</td>\n",
       "      <td>0.1752</td>\n",
       "      <td>0.05533</td>\n",
       "      <td>...</td>\n",
       "      <td>23.690</td>\n",
       "      <td>38.25</td>\n",
       "      <td>155.00</td>\n",
       "      <td>1731.0</td>\n",
       "      <td>0.11660</td>\n",
       "      <td>0.19220</td>\n",
       "      <td>0.3215</td>\n",
       "      <td>0.1628</td>\n",
       "      <td>0.2572</td>\n",
       "      <td>0.06637</td>\n",
       "    </tr>\n",
       "    <tr>\n",
       "      <th>566</th>\n",
       "      <td>16.60</td>\n",
       "      <td>28.08</td>\n",
       "      <td>108.30</td>\n",
       "      <td>858.1</td>\n",
       "      <td>0.08455</td>\n",
       "      <td>0.10230</td>\n",
       "      <td>0.09251</td>\n",
       "      <td>0.05302</td>\n",
       "      <td>0.1590</td>\n",
       "      <td>0.05648</td>\n",
       "      <td>...</td>\n",
       "      <td>18.980</td>\n",
       "      <td>34.12</td>\n",
       "      <td>126.70</td>\n",
       "      <td>1124.0</td>\n",
       "      <td>0.11390</td>\n",
       "      <td>0.30940</td>\n",
       "      <td>0.3403</td>\n",
       "      <td>0.1418</td>\n",
       "      <td>0.2218</td>\n",
       "      <td>0.07820</td>\n",
       "    </tr>\n",
       "    <tr>\n",
       "      <th>567</th>\n",
       "      <td>20.60</td>\n",
       "      <td>29.33</td>\n",
       "      <td>140.10</td>\n",
       "      <td>1265.0</td>\n",
       "      <td>0.11780</td>\n",
       "      <td>0.27700</td>\n",
       "      <td>0.35140</td>\n",
       "      <td>0.15200</td>\n",
       "      <td>0.2397</td>\n",
       "      <td>0.07016</td>\n",
       "      <td>...</td>\n",
       "      <td>25.740</td>\n",
       "      <td>39.42</td>\n",
       "      <td>184.60</td>\n",
       "      <td>1821.0</td>\n",
       "      <td>0.16500</td>\n",
       "      <td>0.86810</td>\n",
       "      <td>0.9387</td>\n",
       "      <td>0.2650</td>\n",
       "      <td>0.4087</td>\n",
       "      <td>0.12400</td>\n",
       "    </tr>\n",
       "    <tr>\n",
       "      <th>568</th>\n",
       "      <td>7.76</td>\n",
       "      <td>24.54</td>\n",
       "      <td>47.92</td>\n",
       "      <td>181.0</td>\n",
       "      <td>0.05263</td>\n",
       "      <td>0.04362</td>\n",
       "      <td>0.00000</td>\n",
       "      <td>0.00000</td>\n",
       "      <td>0.1587</td>\n",
       "      <td>0.05884</td>\n",
       "      <td>...</td>\n",
       "      <td>9.456</td>\n",
       "      <td>30.37</td>\n",
       "      <td>59.16</td>\n",
       "      <td>268.6</td>\n",
       "      <td>0.08996</td>\n",
       "      <td>0.06444</td>\n",
       "      <td>0.0000</td>\n",
       "      <td>0.0000</td>\n",
       "      <td>0.2871</td>\n",
       "      <td>0.07039</td>\n",
       "    </tr>\n",
       "  </tbody>\n",
       "</table>\n",
       "<p>569 rows × 30 columns</p>\n",
       "</div>"
      ],
      "text/plain": [
       "     mean radius  mean texture  mean perimeter  mean area  mean smoothness  \\\n",
       "0          17.99         10.38          122.80     1001.0          0.11840   \n",
       "1          20.57         17.77          132.90     1326.0          0.08474   \n",
       "2          19.69         21.25          130.00     1203.0          0.10960   \n",
       "3          11.42         20.38           77.58      386.1          0.14250   \n",
       "4          20.29         14.34          135.10     1297.0          0.10030   \n",
       "..           ...           ...             ...        ...              ...   \n",
       "564        21.56         22.39          142.00     1479.0          0.11100   \n",
       "565        20.13         28.25          131.20     1261.0          0.09780   \n",
       "566        16.60         28.08          108.30      858.1          0.08455   \n",
       "567        20.60         29.33          140.10     1265.0          0.11780   \n",
       "568         7.76         24.54           47.92      181.0          0.05263   \n",
       "\n",
       "     mean compactness  mean concavity  mean concave points  mean symmetry  \\\n",
       "0             0.27760         0.30010              0.14710         0.2419   \n",
       "1             0.07864         0.08690              0.07017         0.1812   \n",
       "2             0.15990         0.19740              0.12790         0.2069   \n",
       "3             0.28390         0.24140              0.10520         0.2597   \n",
       "4             0.13280         0.19800              0.10430         0.1809   \n",
       "..                ...             ...                  ...            ...   \n",
       "564           0.11590         0.24390              0.13890         0.1726   \n",
       "565           0.10340         0.14400              0.09791         0.1752   \n",
       "566           0.10230         0.09251              0.05302         0.1590   \n",
       "567           0.27700         0.35140              0.15200         0.2397   \n",
       "568           0.04362         0.00000              0.00000         0.1587   \n",
       "\n",
       "     mean fractal dimension  ...  worst radius  worst texture  \\\n",
       "0                   0.07871  ...        25.380          17.33   \n",
       "1                   0.05667  ...        24.990          23.41   \n",
       "2                   0.05999  ...        23.570          25.53   \n",
       "3                   0.09744  ...        14.910          26.50   \n",
       "4                   0.05883  ...        22.540          16.67   \n",
       "..                      ...  ...           ...            ...   \n",
       "564                 0.05623  ...        25.450          26.40   \n",
       "565                 0.05533  ...        23.690          38.25   \n",
       "566                 0.05648  ...        18.980          34.12   \n",
       "567                 0.07016  ...        25.740          39.42   \n",
       "568                 0.05884  ...         9.456          30.37   \n",
       "\n",
       "     worst perimeter  worst area  worst smoothness  worst compactness  \\\n",
       "0             184.60      2019.0           0.16220            0.66560   \n",
       "1             158.80      1956.0           0.12380            0.18660   \n",
       "2             152.50      1709.0           0.14440            0.42450   \n",
       "3              98.87       567.7           0.20980            0.86630   \n",
       "4             152.20      1575.0           0.13740            0.20500   \n",
       "..               ...         ...               ...                ...   \n",
       "564           166.10      2027.0           0.14100            0.21130   \n",
       "565           155.00      1731.0           0.11660            0.19220   \n",
       "566           126.70      1124.0           0.11390            0.30940   \n",
       "567           184.60      1821.0           0.16500            0.86810   \n",
       "568            59.16       268.6           0.08996            0.06444   \n",
       "\n",
       "     worst concavity  worst concave points  worst symmetry  \\\n",
       "0             0.7119                0.2654          0.4601   \n",
       "1             0.2416                0.1860          0.2750   \n",
       "2             0.4504                0.2430          0.3613   \n",
       "3             0.6869                0.2575          0.6638   \n",
       "4             0.4000                0.1625          0.2364   \n",
       "..               ...                   ...             ...   \n",
       "564           0.4107                0.2216          0.2060   \n",
       "565           0.3215                0.1628          0.2572   \n",
       "566           0.3403                0.1418          0.2218   \n",
       "567           0.9387                0.2650          0.4087   \n",
       "568           0.0000                0.0000          0.2871   \n",
       "\n",
       "     worst fractal dimension  \n",
       "0                    0.11890  \n",
       "1                    0.08902  \n",
       "2                    0.08758  \n",
       "3                    0.17300  \n",
       "4                    0.07678  \n",
       "..                       ...  \n",
       "564                  0.07115  \n",
       "565                  0.06637  \n",
       "566                  0.07820  \n",
       "567                  0.12400  \n",
       "568                  0.07039  \n",
       "\n",
       "[569 rows x 30 columns]"
      ]
     },
     "execution_count": 5,
     "metadata": {},
     "output_type": "execute_result"
    }
   ],
   "source": [
    "X = cancer.data\n",
    "\n",
    "X"
   ]
  },
  {
   "cell_type": "code",
   "execution_count": 6,
   "id": "b042d9f8",
   "metadata": {},
   "outputs": [
    {
     "data": {
      "text/plain": [
       "0      0\n",
       "1      0\n",
       "2      0\n",
       "3      0\n",
       "4      0\n",
       "      ..\n",
       "564    0\n",
       "565    0\n",
       "566    0\n",
       "567    0\n",
       "568    1\n",
       "Name: target, Length: 569, dtype: int64"
      ]
     },
     "execution_count": 6,
     "metadata": {},
     "output_type": "execute_result"
    }
   ],
   "source": [
    "t = cancer.target\n",
    "\n",
    "t"
   ]
  },
  {
   "cell_type": "markdown",
   "id": "0610bd51",
   "metadata": {},
   "source": [
    "1. Partition the data into training and test sets (80/20 stratified split). \n",
    "\n",
    "2. Build a ```scikit-learn``` pipeline to train a Logistic Regression classifier with Lasso regularizer.\n",
    "\n",
    "3. Carry out hyperparameter tuning and train your final model.\n",
    "\n",
    "4. Make predictions for training and test sets. Report performance measures using the [```classification_report```](https://scikit-learn.org/stable/modules/generated/sklearn.metrics.classification_report.html) function.\n",
    "\n",
    "5. Which features are most informative to make the final prediction?\n",
    "\n",
    "    * To access the parameters of the Logistic Regression classifier within a pipeline, use the attribute ```named_steps``` and index it by the name of that step in the pipeline. For example, ```final_model.named_steps['logistic_regression'].coef_```.\n",
    "    \n",
    "6. Recall that the Logistic Regression mapper function looks like $\\mathbf{y} = \\phi(z)$ where $z=\\mathbf{w}^T\\mathbf{x} +w_0$. Moreover, $y = \\begin{cases}1, & z\\geq 0\\\\0, & z<0\\end{cases}$. Predict the values for $z$ for the training set. These values can be accessed with the attribute ```decision_function```.\n",
    "\n",
    "7. Now consider $y = \\begin{cases}1, & z\\geq \\delta\\\\0, & z<\\delta\\end{cases}$, where $\\delta\\in\\mathbb{R}$ is threshold continuous value. Plot the **precision-recall curve**. Which threshold $\\delta$ would you use to obtain a **recall of at least 80%**? Justify your answer based on these results.\n",
    "\n",
    "8. Use the newly found threshold value to make predictions for the test set. Compare the results with those from part 4."
   ]
  },
  {
   "cell_type": "markdown",
   "id": "29ac210b",
   "metadata": {},
   "source": [
    "#### 1. Partition the data into training and test sets (80/20 stratified split). "
   ]
  },
  {
   "cell_type": "code",
   "execution_count": 7,
   "id": "23370cef",
   "metadata": {},
   "outputs": [
    {
     "data": {
      "text/plain": [
       "target                     1.000000\n",
       "smoothness error           0.067016\n",
       "mean fractal dimension     0.012838\n",
       "texture error              0.008303\n",
       "symmetry error             0.006522\n",
       "fractal dimension error   -0.077972\n",
       "concavity error           -0.253730\n",
       "compactness error         -0.292999\n",
       "worst fractal dimension   -0.323872\n",
       "mean symmetry             -0.330499\n",
       "mean smoothness           -0.358560\n",
       "concave points error      -0.408042\n",
       "mean texture              -0.415185\n",
       "worst symmetry            -0.416294\n",
       "worst smoothness          -0.421465\n",
       "worst texture             -0.456903\n",
       "area error                -0.548236\n",
       "perimeter error           -0.556141\n",
       "radius error              -0.567134\n",
       "worst compactness         -0.590998\n",
       "mean compactness          -0.596534\n",
       "worst concavity           -0.659610\n",
       "mean concavity            -0.696360\n",
       "mean area                 -0.708984\n",
       "mean radius               -0.730029\n",
       "worst area                -0.733825\n",
       "mean perimeter            -0.742636\n",
       "worst radius              -0.776454\n",
       "mean concave points       -0.776614\n",
       "worst perimeter           -0.782914\n",
       "worst concave points      -0.793566\n",
       "Name: target, dtype: float64"
      ]
     },
     "execution_count": 7,
     "metadata": {},
     "output_type": "execute_result"
    }
   ],
   "source": [
    "# Find most predictive attribute\n",
    "cancer.data['target'] = cancer.target;\n",
    "corr_matrix = cancer.data.corr(method='pearson');\n",
    "corr_matrix['target'].sort_values(ascending=False)"
   ]
  },
  {
   "cell_type": "markdown",
   "id": "ba2471bd",
   "metadata": {},
   "source": [
    "'smoothness error' has the largest predictive value"
   ]
  },
  {
   "cell_type": "code",
   "execution_count": 8,
   "id": "5d45a5e2",
   "metadata": {},
   "outputs": [],
   "source": [
    "# train-test split with stratification\n",
    "\n",
    "smoothness_error_cat = pd.cut(cancer.data['smoothness error'],\n",
    "                             bins=[0.,0.004,0.0053,0.0075,0.01,np.inf],\n",
    "                             labels=[1, 2, 3, 4, 5]);\n",
    "\n",
    "train, test, cat_train, cat_test = train_test_split(cancer.data, \n",
    "                                                    smoothness_error_cat,\n",
    "                                                    test_size=0.2,\n",
    "                                                    shuffle=True,\n",
    "                                                    random_state=42,\n",
    "                                                   stratify=smoothness_error_cat)\n",
    "\n",
    "num_pipe = Pipeline([('std_scaler', StandardScaler())])\n",
    "full_pipeline = ColumnTransformer([('num', num_pipe, list(cancer.data.columns))])"
   ]
  },
  {
   "cell_type": "code",
   "execution_count": 9,
   "id": "1ab8aa05",
   "metadata": {},
   "outputs": [],
   "source": [
    "# final prepared training and test sets\n",
    "train_set_prepared = full_pipeline.fit_transform(train)\n",
    "test_set_prepared = full_pipeline.transform(test)\n",
    "\n",
    "training_set = pd.DataFrame(train_set_prepared,\n",
    "                           columns=train.columns,\n",
    "                           index=train.index);\n",
    "X_train = training_set.drop('target', axis=1).to_numpy();\n",
    "t_train = train['target'].to_numpy();\n",
    "\n",
    "test_set = pd.DataFrame(test_set_prepared,\n",
    "                       columns=test.columns,\n",
    "                       index=test.index);\n",
    "X_test = test_set.drop('target', axis=1).to_numpy();\n",
    "t_test = test['target'].to_numpy();"
   ]
  },
  {
   "cell_type": "code",
   "execution_count": 10,
   "id": "e1bdac18",
   "metadata": {},
   "outputs": [
    {
     "data": {
      "text/plain": [
       "((455, 30), (455,), (114, 30), (114,))"
      ]
     },
     "execution_count": 10,
     "metadata": {},
     "output_type": "execute_result"
    }
   ],
   "source": [
    "X_train.shape, t_train.shape, X_test.shape, t_test.shape"
   ]
  },
  {
   "cell_type": "markdown",
   "id": "fa92be28",
   "metadata": {},
   "source": [
    "#### 2. Build a ```scikit-learn``` pipeline to train a Logistic Regression classifier with Lasso regularizer.\n"
   ]
  },
  {
   "cell_type": "code",
   "execution_count": 11,
   "id": "6c041862",
   "metadata": {},
   "outputs": [],
   "source": [
    "from sklearn.linear_model import LogisticRegression\n",
    "\n",
    "log_reg = LogisticRegression(penalty='l1', solver='liblinear', random_state=1)\n",
    "log_reg.fit(X_train,t_train);"
   ]
  },
  {
   "cell_type": "markdown",
   "id": "ceba9552",
   "metadata": {},
   "source": [
    "#### 3. Carry out hyperparameter tuning and train your final model."
   ]
  },
  {
   "cell_type": "code",
   "execution_count": 12,
   "id": "efff7d9b",
   "metadata": {},
   "outputs": [],
   "source": [
    "from sklearn.model_selection import GridSearchCV\n",
    "# Using GridSearchCV to find the best parameters\n",
    "param_grid = {'penalty':['l1'], 'C':np.logspace(-20,30,25),\n",
    "             'max_iter':[50,60,75,80,100,150,200]}\n",
    "log_reg_gridCV = GridSearchCV(log_reg, param_grid, cv=5);\n",
    "log_reg_gridCV.fit(X_train, t_train);"
   ]
  },
  {
   "cell_type": "code",
   "execution_count": 13,
   "id": "6a5e6913",
   "metadata": {},
   "outputs": [
    {
     "data": {
      "text/plain": [
       "{'C': 6.81292069057965, 'max_iter': 50, 'penalty': 'l1'}"
      ]
     },
     "execution_count": 13,
     "metadata": {},
     "output_type": "execute_result"
    }
   ],
   "source": [
    "log_reg_gridCV.best_params_"
   ]
  },
  {
   "cell_type": "code",
   "execution_count": 14,
   "id": "3bb7a33e",
   "metadata": {},
   "outputs": [
    {
     "data": {
      "text/plain": [
       "0.9648351648351647"
      ]
     },
     "execution_count": 14,
     "metadata": {},
     "output_type": "execute_result"
    }
   ],
   "source": [
    "log_reg_gridCV.best_score_"
   ]
  },
  {
   "cell_type": "code",
   "execution_count": 15,
   "id": "106ae84a",
   "metadata": {},
   "outputs": [],
   "source": [
    "final_model_log_reg = log_reg_gridCV.best_estimator_\n",
    "final_model_log_reg.fit(X_train, t_train);"
   ]
  },
  {
   "cell_type": "markdown",
   "id": "b87d012c",
   "metadata": {},
   "source": [
    "#### 4. Make predictions for training and test sets. Report performance measures using the [```classification_report```](https://scikit-learn.org/stable/modules/generated/sklearn.metrics.classification_report.html) function.\n"
   ]
  },
  {
   "cell_type": "code",
   "execution_count": 16,
   "id": "cda44178",
   "metadata": {},
   "outputs": [
    {
     "name": "stdout",
     "output_type": "stream",
     "text": [
      "              precision    recall  f1-score   support\n",
      "\n",
      "   malignant       0.99      0.98      0.98       163\n",
      "      benign       0.99      1.00      0.99       292\n",
      "\n",
      "    accuracy                           0.99       455\n",
      "   macro avg       0.99      0.99      0.99       455\n",
      "weighted avg       0.99      0.99      0.99       455\n",
      "\n"
     ]
    }
   ],
   "source": [
    "from sklearn.metrics import classification_report\n",
    "\n",
    "#make predictions using the final model\n",
    "y_train = final_model_log_reg.predict(X_train)\n",
    "y_test = final_model_log_reg.predict(X_test)\n",
    "target_names = ['malignant', 'benign']\n",
    "print(classification_report(t_train,y_train, target_names=target_names))"
   ]
  },
  {
   "cell_type": "code",
   "execution_count": 17,
   "id": "b5ad6b52",
   "metadata": {},
   "outputs": [
    {
     "name": "stdout",
     "output_type": "stream",
     "text": [
      "              precision    recall  f1-score   support\n",
      "\n",
      "   malignant       0.98      0.94      0.96        49\n",
      "      benign       0.96      0.98      0.97        65\n",
      "\n",
      "    accuracy                           0.96       114\n",
      "   macro avg       0.97      0.96      0.96       114\n",
      "weighted avg       0.97      0.96      0.96       114\n",
      "\n"
     ]
    }
   ],
   "source": [
    "print(classification_report(t_test,y_test, target_names=target_names))"
   ]
  },
  {
   "cell_type": "markdown",
   "id": "5b25e006",
   "metadata": {},
   "source": [
    "#### 5. Which features are most informative to make the final prediction?\n",
    "\n",
    "   * To access the parameters of the Logistic Regression classifier within a pipeline, use the attribute ```named_steps``` and index it by the name of that step in the pipeline. For example, ```final_model.named_steps['logistic_regression'].coef_```.\n",
    "    \n"
   ]
  },
  {
   "cell_type": "code",
   "execution_count": 61,
   "id": "459a533c",
   "metadata": {},
   "outputs": [
    {
     "data": {
      "text/plain": [
       "array([ 0,  1,  2,  5,  7,  8,  9, 10, 11, 12, 13, 14, 16, 17, 18, 19, 20,\n",
       "       21, 23, 24, 26, 28, 29])"
      ]
     },
     "execution_count": 61,
     "metadata": {},
     "output_type": "execute_result"
    }
   ],
   "source": [
    "w = final_model_log_reg.coef_[0]\n",
    "w;\n",
    "np.where(final_model_log_reg.coef_[:30]!=0)[1]"
   ]
  },
  {
   "cell_type": "code",
   "execution_count": 21,
   "id": "0981c9a8",
   "metadata": {},
   "outputs": [
    {
     "data": {
      "image/png": "[encoded data removed]",
      "text/plain": [
       "<Figure size 720x360 with 1 Axes>"
      ]
     },
     "metadata": {
      "needs_background": "light"
     },
     "output_type": "display_data"
    }
   ],
   "source": [
    "plt.figure(figsize=(10,5))\n",
    "plt.stem(w)\n",
    "plt.ylabel('Weight values', size=15)\n",
    "plt.xticks(np.arange(30), ['$w_{'+str(i)+'}$' for i in range(len(w))],rotation=0);"
   ]
  },
  {
   "cell_type": "markdown",
   "id": "12820979",
   "metadata": {},
   "source": [
    "Since features 5, 10, 12, 20, and 26 have the largest magnitudes, they are the most informative to make the final prediction"
   ]
  },
  {
   "cell_type": "markdown",
   "id": "b2ea4e60",
   "metadata": {},
   "source": [
    "#### 6. Recall that the Logistic Regression mapper function looks like $\\mathbf{y} = \\phi(z)$ where $z=\\mathbf{w}^T\\mathbf{x} +w_0$. Moreover, $y = \\begin{cases}1, & z\\geq 0\\\\0, & z<0\\end{cases}$. Predict the values for $z$ for the training set. These values can be accessed with the attribute ```decision_function```.\n",
    "\n"
   ]
  },
  {
   "cell_type": "code",
   "execution_count": 22,
   "id": "f6ccd7f7",
   "metadata": {},
   "outputs": [
    {
     "data": {
      "text/plain": [
       "array([ 3.58271977e+00,  2.65113312e-01, -1.84756047e+01,  7.69972691e+00,\n",
       "        1.73511661e+01,  5.09855281e+00, -2.54301062e+01,  1.56408749e+01,\n",
       "        1.02467796e+01,  1.83763158e+01,  3.86320410e+00,  1.11160297e+01,\n",
       "       -1.97539724e+01,  6.83119961e+00,  2.54659999e+00,  6.16227932e+00,\n",
       "        5.71056129e+00,  4.32361474e+00,  7.30052201e+00, -1.60872173e+01,\n",
       "        9.41666650e+00,  9.22466210e+00,  6.52427794e+00,  1.03596344e+01,\n",
       "        1.08130447e+01, -4.49251679e+00,  2.77284838e+00, -2.27897586e+01,\n",
       "        2.31799276e+01,  1.59623194e+01, -2.00941764e+01,  1.06727181e+01,\n",
       "        1.22114399e+01, -2.77899519e+01, -2.89891153e+01,  1.31311255e+01,\n",
       "       -2.62613345e+01,  8.13113035e+00, -7.73806888e+00, -1.32841513e+01,\n",
       "        3.31964330e+01, -1.45886702e+01, -1.35540005e+01,  7.34148519e+00,\n",
       "       -2.04685406e+01, -8.62467377e+00,  4.15305017e+00, -1.53129037e+01,\n",
       "        1.65228831e+01,  1.03703589e+01,  1.20521029e+01,  6.97569829e+00,\n",
       "       -1.60506835e+00,  5.06652007e+00,  6.69265447e+00,  1.35736419e+01,\n",
       "       -2.49270275e+01,  2.49220789e+00, -5.77169710e+00,  9.31201009e+00,\n",
       "        6.05136581e+00,  1.34920088e+01, -2.16554273e+01,  1.57056807e+01,\n",
       "        9.88281772e-01, -2.91780969e-01,  9.57384105e+00,  3.11779806e+00,\n",
       "        1.48659342e+01,  1.34581878e+01,  7.67188846e+00,  2.69817318e+00,\n",
       "        7.74817364e-01, -5.15698069e+01, -1.74670684e+01,  6.99867485e+00,\n",
       "        3.32010654e+00,  1.64064711e+01,  1.61091919e+00,  6.17062357e+00,\n",
       "        8.08844757e+00,  1.94113760e+01,  9.59243209e+00, -1.06695498e+01,\n",
       "        1.71361750e+00,  1.40929322e+01,  1.14681377e+01,  1.60821315e+01,\n",
       "       -2.89260911e+00,  2.03807166e+01, -1.34329214e+00,  1.52515792e+01,\n",
       "        1.41764790e+01,  1.62686078e+01,  1.32712278e+01,  2.95568069e+00,\n",
       "       -1.28580664e+01,  1.78589048e+01,  1.67302721e+01,  1.58709881e+01,\n",
       "        1.95322415e+01,  1.34976922e+01,  9.07830408e+00, -1.99754745e+01,\n",
       "        1.21866341e+01,  1.51432812e+00,  3.45278738e+00, -1.34075603e+01,\n",
       "        1.83794954e+01, -1.52662354e+00,  1.14664288e+01, -4.50438867e+01,\n",
       "        5.00418057e+00,  8.26010951e+00, -5.70490240e+00, -4.10968818e+01,\n",
       "       -2.41053901e+01,  4.60503093e+00,  1.78996750e+01, -2.39860952e+01,\n",
       "       -1.75115856e+01,  1.06810335e+01,  1.66203118e+00,  1.31652917e+01,\n",
       "        1.75342796e+01,  1.13199672e+01, -4.16960734e+01,  9.11187685e+00,\n",
       "        1.40804629e-01,  1.62904817e+01, -1.02275032e+01,  1.81604483e+01,\n",
       "        5.60514369e+00,  6.12496787e+00, -1.78186779e+01,  7.09229031e+00,\n",
       "        1.60850223e+01,  1.26642720e+01, -2.81861432e+01, -1.09601778e+01,\n",
       "       -8.70921900e-01,  1.68308333e+01,  1.76722631e+01,  1.11727740e+01,\n",
       "        1.79162585e+01,  1.47708608e+01,  1.69643454e+01, -3.32121890e+01,\n",
       "        5.10979189e+00, -2.31505687e+01,  1.06800170e+01,  5.84830012e+00,\n",
       "        1.27306318e+01,  6.44424911e+00,  1.82846476e+01, -8.36453800e+00,\n",
       "        1.25238054e+01, -2.47201643e+01, -3.20190321e+01,  9.67581761e+00,\n",
       "       -3.47783951e+01, -4.92338551e+00, -2.65359794e+01, -2.75565272e+01,\n",
       "        4.95405778e+00, -2.99085372e+01,  1.26130993e+01, -7.51734756e+00,\n",
       "        1.65299600e+01,  6.91965860e+00,  1.86048416e+01,  5.29068016e+00,\n",
       "       -1.83589809e+01,  3.35693262e+00, -1.74906040e+00, -3.64399397e+00,\n",
       "       -7.98732541e-01, -1.49666695e+01, -1.47112434e+01,  2.04832299e+01,\n",
       "       -9.84358005e+00, -3.12393574e+01,  1.09074364e+01,  1.07452387e+01,\n",
       "        1.21846170e+01, -3.08752668e+01,  1.37601876e+01,  1.39203316e+01,\n",
       "        9.46449266e+00, -2.69766186e+01, -3.18763772e+01,  2.48928633e+00,\n",
       "       -8.89822510e+00,  4.99884744e+00,  1.36400635e+01, -3.73089744e+01,\n",
       "       -3.61406491e+01,  7.97716239e+00, -3.28461991e+01,  4.25840763e+00,\n",
       "        4.74220908e+00, -6.84593157e+00,  3.23658178e+00,  5.08894718e+00,\n",
       "       -1.74383801e+01,  1.56814535e+00,  3.14310502e+00, -1.82756795e+01,\n",
       "        1.48892522e+01, -3.66244701e+00,  8.35468868e+00,  2.99836167e+00,\n",
       "        9.99850444e-01, -2.45820002e+01,  1.29945619e+01,  1.04024678e+01,\n",
       "        5.55792066e+00,  1.07597826e+01,  1.89437633e+01,  9.90930584e+00,\n",
       "        7.93711207e+00,  2.06498209e+01,  1.52777288e+01,  6.22966712e+00,\n",
       "        9.74856530e+00, -1.30821144e+01,  1.28518173e+01,  2.77896672e+00,\n",
       "        1.26776134e+01,  1.72291772e+01,  1.67316154e+01,  4.71606824e+00,\n",
       "        1.27796734e+01,  2.37266681e+01,  1.51795414e+01,  5.34664652e+00,\n",
       "       -1.28791818e+01,  7.43191260e+00, -1.10450453e+01, -8.26786729e+00,\n",
       "       -3.94427934e+01, -2.28507081e+01,  3.70852429e+00,  1.12765988e+01,\n",
       "       -5.91250334e+00, -4.55408698e+01, -2.32559153e+01, -3.35162586e+01,\n",
       "        1.51004824e+01,  2.56126352e+00,  9.52990954e+00,  2.13028507e+01,\n",
       "        2.43178909e+00, -3.41382113e+01,  6.47210298e+00, -6.88972012e+00,\n",
       "        5.13105495e+00, -2.29190675e+01,  1.58310125e+00,  6.89348827e+00,\n",
       "       -7.08185752e+00,  1.23088110e+01,  1.26828750e+00,  8.14075394e+00,\n",
       "       -3.89228152e-02,  9.50965284e+00,  1.27235591e+01,  1.13187244e+01,\n",
       "        1.50055326e+01, -3.28112632e+01,  1.68627664e+01, -4.38015762e+01,\n",
       "       -1.22097163e+01, -9.72675198e+00, -7.69940223e+00,  1.53179401e+01,\n",
       "        1.12300435e+01, -1.74634224e+01, -2.34655722e+01,  1.25053181e+01,\n",
       "       -9.08945780e+00, -4.50603637e+00,  1.48214754e+01,  6.96264439e+00,\n",
       "        1.19726485e+01,  8.14611531e+00,  6.34271048e+00, -6.94841419e+00,\n",
       "        4.11960531e+00,  1.19343170e+01, -1.20360604e+01,  1.28687256e+01,\n",
       "       -1.64368201e+01,  1.07522486e+01, -1.92784122e+01,  7.46433863e+00,\n",
       "        2.33864489e+00,  3.07661614e+00, -1.80739462e+01,  5.55352547e+00,\n",
       "       -5.92798630e+01,  1.46897203e+01, -2.01244230e+01, -1.75070852e+01,\n",
       "        8.90431224e+00,  6.70187138e+00,  1.16691550e+01,  9.92716695e+00,\n",
       "        1.68692941e+01,  1.36730547e+00,  8.60868455e+00,  3.16835336e-01,\n",
       "       -1.09683781e+01, -1.94002056e+01,  9.03828820e+00,  9.71463032e+00,\n",
       "       -1.48208913e+01,  8.80741552e+00, -1.44991816e+01,  8.89170320e+00,\n",
       "        1.51938265e+00, -1.86594174e+01,  9.74394957e+00,  1.06879612e-01,\n",
       "        1.19007573e+01,  1.26250557e+01,  1.58292427e+01,  4.61622464e+00,\n",
       "        2.87721041e+00,  1.19767989e+01, -7.29781796e+00, -9.49240693e+00,\n",
       "        5.92303915e+00, -1.43031225e+01, -4.39064451e+00, -1.13038824e+00,\n",
       "        7.71474549e+00, -1.61522892e+01,  1.51067592e+01,  7.20704143e+00,\n",
       "        9.85850845e+00,  1.21876112e+01,  4.53890860e+00,  9.35781441e+00,\n",
       "        6.90132296e+00,  6.66533365e+00, -9.11414869e+00, -2.22714381e+00,\n",
       "        1.53262155e+01,  1.07859972e+01,  3.93723700e+00,  1.46669204e+01,\n",
       "       -6.89038443e+00,  1.14945017e+00, -4.01470624e-01,  1.16927064e+01,\n",
       "       -3.13019045e+01, -5.98766459e+00, -1.39963425e+01,  4.59926362e+00,\n",
       "        1.32637738e+01, -9.45787337e+00, -1.49473220e+01,  9.80206416e+00,\n",
       "       -1.25848870e+01,  7.08387874e+00, -3.09146296e+01, -2.58957324e+01,\n",
       "        8.43484297e+00,  1.03306146e+01,  1.07745293e+01, -2.01192372e+01,\n",
       "       -7.46904139e+00, -2.16606874e+01,  5.85198250e+00,  1.07827726e+01,\n",
       "        8.63970558e+00,  7.72042193e+00,  1.62864665e+01, -2.07956135e+01,\n",
       "        1.27291875e+01,  1.07094007e+01,  7.97750893e+00, -8.12687351e+00,\n",
       "        1.08730040e+01, -4.14695860e+01,  1.45330826e+01,  2.26950928e+01,\n",
       "       -3.50354277e+01,  9.20420052e+00,  1.45428617e+01,  7.67848343e+00,\n",
       "        4.26417060e+00,  5.89616058e+00,  5.56112242e+00, -2.22592144e+00,\n",
       "       -4.09902791e+01,  1.05136747e+01,  1.28681864e+01, -9.69926438e+00,\n",
       "       -8.78164112e+00,  9.95410449e+00,  1.73609654e+01,  1.00278251e+01,\n",
       "        6.97509113e+00,  7.11677961e+00,  1.66383060e+01, -2.53535265e+01,\n",
       "        2.63796479e+00, -1.47595736e+00,  1.23031010e+01,  7.18363308e+00,\n",
       "        7.12552805e+00,  9.45557146e+00,  1.28629287e+01,  9.32927521e+00,\n",
       "        1.14991324e+01, -1.14593354e+01, -7.86522192e+00,  1.24995055e+00,\n",
       "        1.22632043e+01,  7.18034241e+00, -1.21296942e+01,  8.13756429e+00,\n",
       "       -9.69038081e+00,  9.11871286e+00,  7.70396140e+00,  9.94429260e+00,\n",
       "        6.79697906e+00,  8.16130829e+00,  3.33717543e+00,  7.24161190e+00,\n",
       "       -1.13758930e+01,  3.60594959e+00, -4.38234847e+01,  4.65659821e+00,\n",
       "        8.07450919e+00, -3.92802913e+01, -1.10053060e+01, -1.78847799e+01,\n",
       "       -2.08804778e+01,  5.94643910e+00,  1.05961240e+01, -7.83274746e+01,\n",
       "        1.47297665e+01, -2.66404653e+01, -1.53843094e+00, -6.05743999e+00,\n",
       "       -7.72606535e+00,  9.26129187e+00, -5.83190748e+00,  1.08029084e+01,\n",
       "       -1.57598666e+00,  1.01776239e+01, -2.41303002e+00])"
      ]
     },
     "execution_count": 22,
     "metadata": {},
     "output_type": "execute_result"
    }
   ],
   "source": [
    "from sklearn.model_selection import cross_val_predict\n",
    "\n",
    "y_scores = cross_val_predict(final_model_log_reg, X_train, t_train,\n",
    "                            cv=10, method='decision_function')\n",
    "\n",
    "y_scores"
   ]
  },
  {
   "cell_type": "markdown",
   "id": "b6434795",
   "metadata": {},
   "source": [
    "#### 7. Now consider $y = \\begin{cases}1, & z\\geq \\delta\\\\0, & z<\\delta\\end{cases}$, where $\\delta\\in\\mathbb{R}$ is threshold continuous value. Plot the **precision-recall curve**. Which threshold $\\delta$ would you use to obtain a **recall of at least 80%**? Justify your answer based on these results.\n"
   ]
  },
  {
   "cell_type": "code",
   "execution_count": 27,
   "id": "c096dbff",
   "metadata": {},
   "outputs": [
    {
     "data": {
      "image/png": "[encoded data removed]",
      "text/plain": [
       "<Figure size 432x288 with 1 Axes>"
      ]
     },
     "metadata": {
      "needs_background": "light"
     },
     "output_type": "display_data"
    }
   ],
   "source": [
    "from sklearn.metrics import precision_recall_curve\n",
    "from sklearn.metrics import PrecisionRecallDisplay\n",
    "\n",
    "precision, recall, thresholds = precision_recall_curve(t_train,y_scores)\n",
    "\n",
    "recall_80_precision = recall[np.argmax(precision >= 0.80)]\n",
    "threshold_80_precision = thresholds[np.argmax(precision >= 0.80)]\n",
    "precision_80_precision = precision[np.argmax(precision >= 0.80)]\n",
    "\n",
    "display = PrecisionRecallDisplay.from_estimator(final_model_log_reg, X_test,t_test)"
   ]
  },
  {
   "cell_type": "code",
   "execution_count": 29,
   "id": "de6b0450",
   "metadata": {},
   "outputs": [
    {
     "data": {
      "text/plain": [
       "-1.7490603985669015"
      ]
     },
     "execution_count": 29,
     "metadata": {},
     "output_type": "execute_result"
    }
   ],
   "source": [
    "threshold_80_precision = thresholds[np.argmax(precision >= 0.80)]\n",
    "threshold_80_precision"
   ]
  },
  {
   "cell_type": "code",
   "execution_count": 30,
   "id": "f7aabded",
   "metadata": {},
   "outputs": [
    {
     "data": {
      "text/plain": [
       "0.948051948051948"
      ]
     },
     "execution_count": 30,
     "metadata": {},
     "output_type": "execute_result"
    }
   ],
   "source": [
    "from sklearn.metrics import precision_score, recall_score\n",
    "\n",
    "y_train_pred_80 = (y_scores >= threshold_80_precision) \n",
    "precision_score(t_train, y_train_pred_80) "
   ]
  },
  {
   "cell_type": "code",
   "execution_count": 31,
   "id": "2bed7ef0",
   "metadata": {},
   "outputs": [
    {
     "data": {
      "text/plain": [
       "1.0"
      ]
     },
     "execution_count": 31,
     "metadata": {},
     "output_type": "execute_result"
    }
   ],
   "source": [
    "recall_score(t_train, y_train_pred_80)"
   ]
  },
  {
   "cell_type": "markdown",
   "id": "78d90a11",
   "metadata": {},
   "source": [
    "I would choose threshold of -1.749 due to its recall socre and precision score"
   ]
  },
  {
   "cell_type": "markdown",
   "id": "b2b03f6d",
   "metadata": {},
   "source": [
    "#### 8. Use the newly found threshold value to make predictions for the test set. Compare the results with those from part 4."
   ]
  },
  {
   "cell_type": "code",
   "execution_count": 32,
   "id": "a0b74d7d",
   "metadata": {},
   "outputs": [
    {
     "name": "stdout",
     "output_type": "stream",
     "text": [
      "              precision    recall  f1-score   support\n",
      "\n",
      "   malignant       0.99      0.90      0.95       163\n",
      "      benign       0.95      1.00      0.97       292\n",
      "\n",
      "    accuracy                           0.96       455\n",
      "   macro avg       0.97      0.95      0.96       455\n",
      "weighted avg       0.96      0.96      0.96       455\n",
      "\n"
     ]
    }
   ],
   "source": [
    "#make predictions \n",
    "threshold = -1.7490603985669015;\n",
    "y_scores_test = cross_val_predict(final_model_log_reg, X_test, t_test,\n",
    "                            cv=10, method='decision_function')\n",
    "y_train = (y_scores > threshold)\n",
    "y_test = (y_scores_test>threshold)\n",
    "target_names = ['malignant', 'benign']\n",
    "print(classification_report(t_train,y_train, target_names=target_names))"
   ]
  },
  {
   "cell_type": "code",
   "execution_count": 33,
   "id": "26ca52e9",
   "metadata": {},
   "outputs": [
    {
     "name": "stdout",
     "output_type": "stream",
     "text": [
      "              precision    recall  f1-score   support\n",
      "\n",
      "   malignant       0.98      0.98      0.98        49\n",
      "      benign       0.98      0.98      0.98        65\n",
      "\n",
      "    accuracy                           0.98       114\n",
      "   macro avg       0.98      0.98      0.98       114\n",
      "weighted avg       0.98      0.98      0.98       114\n",
      "\n"
     ]
    }
   ],
   "source": [
    "print(classification_report(t_test,y_test, target_names=target_names))"
   ]
  },
  {
   "cell_type": "markdown",
   "id": "98296bf6",
   "metadata": {},
   "source": [
    "The precision and recall scores for the test set is higher here than in part 4."
   ]
  },
  {
   "cell_type": "markdown",
   "id": "3fdf4b35",
   "metadata": {},
   "source": [
    "---"
   ]
  },
  {
   "cell_type": "markdown",
   "id": "c53517f7",
   "metadata": {},
   "source": [
    "# Question 2\n",
    "\n",
    "In this problem you will work with the [Immunotherapy dataset](https://archive.ics.uci.edu/ml/datasets/Immunotherapy+Dataset). \n",
    "\n",
    "This dataset contains information about wart treatment results of 90 patients using immunotherapy. There are 7 features (sex, age, time, number of warts, type, area and induration diameter). The target label is the column \"Result_of_Treatment\", where 0 means not successful and 1 means the treatment was successful."
   ]
  },
  {
   "cell_type": "code",
   "execution_count": 34,
   "id": "03081c83",
   "metadata": {},
   "outputs": [
    {
     "data": {
      "text/html": [
       "<div>\n",
       "<style scoped>\n",
       "    .dataframe tbody tr th:only-of-type {\n",
       "        vertical-align: middle;\n",
       "    }\n",
       "\n",
       "    .dataframe tbody tr th {\n",
       "        vertical-align: top;\n",
       "    }\n",
       "\n",
       "    .dataframe thead th {\n",
       "        text-align: right;\n",
       "    }\n",
       "</style>\n",
       "<table border=\"1\" class=\"dataframe\">\n",
       "  <thead>\n",
       "    <tr style=\"text-align: right;\">\n",
       "      <th></th>\n",
       "      <th>sex</th>\n",
       "      <th>age</th>\n",
       "      <th>Time</th>\n",
       "      <th>Number_of_Warts</th>\n",
       "      <th>Type</th>\n",
       "      <th>Area</th>\n",
       "      <th>induration_diameter</th>\n",
       "      <th>Result_of_Treatment</th>\n",
       "    </tr>\n",
       "  </thead>\n",
       "  <tbody>\n",
       "    <tr>\n",
       "      <th>0</th>\n",
       "      <td>1</td>\n",
       "      <td>22</td>\n",
       "      <td>2.25</td>\n",
       "      <td>14</td>\n",
       "      <td>3</td>\n",
       "      <td>51</td>\n",
       "      <td>50</td>\n",
       "      <td>1</td>\n",
       "    </tr>\n",
       "    <tr>\n",
       "      <th>1</th>\n",
       "      <td>1</td>\n",
       "      <td>15</td>\n",
       "      <td>3.00</td>\n",
       "      <td>2</td>\n",
       "      <td>3</td>\n",
       "      <td>900</td>\n",
       "      <td>70</td>\n",
       "      <td>1</td>\n",
       "    </tr>\n",
       "    <tr>\n",
       "      <th>2</th>\n",
       "      <td>1</td>\n",
       "      <td>16</td>\n",
       "      <td>10.50</td>\n",
       "      <td>2</td>\n",
       "      <td>1</td>\n",
       "      <td>100</td>\n",
       "      <td>25</td>\n",
       "      <td>1</td>\n",
       "    </tr>\n",
       "    <tr>\n",
       "      <th>3</th>\n",
       "      <td>1</td>\n",
       "      <td>27</td>\n",
       "      <td>4.50</td>\n",
       "      <td>9</td>\n",
       "      <td>3</td>\n",
       "      <td>80</td>\n",
       "      <td>30</td>\n",
       "      <td>1</td>\n",
       "    </tr>\n",
       "    <tr>\n",
       "      <th>4</th>\n",
       "      <td>1</td>\n",
       "      <td>20</td>\n",
       "      <td>8.00</td>\n",
       "      <td>6</td>\n",
       "      <td>1</td>\n",
       "      <td>45</td>\n",
       "      <td>8</td>\n",
       "      <td>1</td>\n",
       "    </tr>\n",
       "    <tr>\n",
       "      <th>...</th>\n",
       "      <td>...</td>\n",
       "      <td>...</td>\n",
       "      <td>...</td>\n",
       "      <td>...</td>\n",
       "      <td>...</td>\n",
       "      <td>...</td>\n",
       "      <td>...</td>\n",
       "      <td>...</td>\n",
       "    </tr>\n",
       "    <tr>\n",
       "      <th>85</th>\n",
       "      <td>1</td>\n",
       "      <td>40</td>\n",
       "      <td>5.50</td>\n",
       "      <td>8</td>\n",
       "      <td>3</td>\n",
       "      <td>69</td>\n",
       "      <td>5</td>\n",
       "      <td>1</td>\n",
       "    </tr>\n",
       "    <tr>\n",
       "      <th>86</th>\n",
       "      <td>1</td>\n",
       "      <td>38</td>\n",
       "      <td>7.50</td>\n",
       "      <td>8</td>\n",
       "      <td>2</td>\n",
       "      <td>56</td>\n",
       "      <td>45</td>\n",
       "      <td>1</td>\n",
       "    </tr>\n",
       "    <tr>\n",
       "      <th>87</th>\n",
       "      <td>1</td>\n",
       "      <td>46</td>\n",
       "      <td>11.50</td>\n",
       "      <td>4</td>\n",
       "      <td>1</td>\n",
       "      <td>91</td>\n",
       "      <td>25</td>\n",
       "      <td>0</td>\n",
       "    </tr>\n",
       "    <tr>\n",
       "      <th>88</th>\n",
       "      <td>1</td>\n",
       "      <td>32</td>\n",
       "      <td>12.00</td>\n",
       "      <td>9</td>\n",
       "      <td>1</td>\n",
       "      <td>43</td>\n",
       "      <td>50</td>\n",
       "      <td>0</td>\n",
       "    </tr>\n",
       "    <tr>\n",
       "      <th>89</th>\n",
       "      <td>2</td>\n",
       "      <td>23</td>\n",
       "      <td>6.75</td>\n",
       "      <td>6</td>\n",
       "      <td>1</td>\n",
       "      <td>19</td>\n",
       "      <td>2</td>\n",
       "      <td>1</td>\n",
       "    </tr>\n",
       "  </tbody>\n",
       "</table>\n",
       "<p>90 rows × 8 columns</p>\n",
       "</div>"
      ],
      "text/plain": [
       "    sex  age   Time  Number_of_Warts  Type  Area  induration_diameter  \\\n",
       "0     1   22   2.25               14     3    51                   50   \n",
       "1     1   15   3.00                2     3   900                   70   \n",
       "2     1   16  10.50                2     1   100                   25   \n",
       "3     1   27   4.50                9     3    80                   30   \n",
       "4     1   20   8.00                6     1    45                    8   \n",
       "..  ...  ...    ...              ...   ...   ...                  ...   \n",
       "85    1   40   5.50                8     3    69                    5   \n",
       "86    1   38   7.50                8     2    56                   45   \n",
       "87    1   46  11.50                4     1    91                   25   \n",
       "88    1   32  12.00                9     1    43                   50   \n",
       "89    2   23   6.75                6     1    19                    2   \n",
       "\n",
       "    Result_of_Treatment  \n",
       "0                     1  \n",
       "1                     1  \n",
       "2                     1  \n",
       "3                     1  \n",
       "4                     1  \n",
       "..                  ...  \n",
       "85                    1  \n",
       "86                    1  \n",
       "87                    0  \n",
       "88                    0  \n",
       "89                    1  \n",
       "\n",
       "[90 rows x 8 columns]"
      ]
     },
     "execution_count": 34,
     "metadata": {},
     "output_type": "execute_result"
    }
   ],
   "source": [
    "import pandas as pd\n",
    "\n",
    "df = pd.read_excel('Immunotherapy.xlsx')\n",
    "\n",
    "df"
   ]
  },
  {
   "cell_type": "markdown",
   "id": "f5e81317",
   "metadata": {},
   "source": [
    "Answer the following questions:\n",
    "\n",
    "1. Partition the data into training and test using a stratified 80/20 partition. For reproducible, fix the value for the ```random_state``` parameter.\n",
    "\n",
    "2. Build a pipeline that includes data preprocessing and a decision tree classifier with ```random_state=0```.\n",
    "    * For data preprocessing, use one-hot encoding for categorical attributes (```sex``` and ``` Type```) and min-max scaling for all other numerical attributes. Use the ```ColumnTransform``` function.\n",
    "\n",
    "3. Carry hyperparameter tuning using grid search to experiment with ```criterion```, ```max_depth```, ```min_samples_split``` and ```min_samples_leaf```. Train the final model pipeline.\n",
    "\n",
    "4. Visualize the resulting decision tree.\n",
    "\n",
    "5. Evaluate performance in training and test sets."
   ]
  },
  {
   "cell_type": "markdown",
   "id": "ac41396b",
   "metadata": {},
   "source": [
    "#### 1. Partition the data into training and test using a stratified 80/20 partition. For reproducible, fix the value for the ```random_state``` parameter.\n",
    "\n"
   ]
  },
  {
   "cell_type": "code",
   "execution_count": 35,
   "id": "70eaa7c7",
   "metadata": {},
   "outputs": [
    {
     "data": {
      "text/plain": [
       "Result_of_Treatment    1.000000\n",
       "Type                   0.083396\n",
       "Area                   0.043349\n",
       "sex                    0.018831\n",
       "induration_diameter   -0.031273\n",
       "Number_of_Warts       -0.047160\n",
       "age                   -0.188314\n",
       "Time                  -0.361172\n",
       "Name: Result_of_Treatment, dtype: float64"
      ]
     },
     "execution_count": 35,
     "metadata": {},
     "output_type": "execute_result"
    }
   ],
   "source": [
    "corr_matrix = df.corr(method='pearson');\n",
    "corr_matrix['Result_of_Treatment'].sort_values(ascending=False)"
   ]
  },
  {
   "cell_type": "markdown",
   "id": "acedbd57",
   "metadata": {},
   "source": [
    "'Time' has the largest predictive value"
   ]
  },
  {
   "cell_type": "code",
   "execution_count": 36,
   "id": "344ab3bd",
   "metadata": {},
   "outputs": [
    {
     "data": {
      "image/png": "[encoded data removed]",
      "text/plain": [
       "<Figure size 432x288 with 1 Axes>"
      ]
     },
     "metadata": {
      "needs_background": "light"
     },
     "output_type": "display_data"
    }
   ],
   "source": [
    "plt.hist(df['Time']);"
   ]
  },
  {
   "cell_type": "code",
   "execution_count": 37,
   "id": "9862c29f",
   "metadata": {},
   "outputs": [
    {
     "data": {
      "image/png": "[encoded data removed]",
      "text/plain": [
       "<Figure size 432x288 with 1 Axes>"
      ]
     },
     "metadata": {
      "needs_background": "light"
     },
     "output_type": "display_data"
    }
   ],
   "source": [
    "# train-test split with stratification\n",
    "time_cat = pd.cut(df['Time'],\n",
    "                 bins=[0.,2.5,5.5,8.5,11,np.inf],\n",
    "                 labels=[1,2,3,4,5])\n",
    "plt.hist(time_cat, density=True);"
   ]
  },
  {
   "cell_type": "code",
   "execution_count": 38,
   "id": "6afb3db5",
   "metadata": {},
   "outputs": [],
   "source": [
    "train, test, cat_train, cat_test = train_test_split(df, \n",
    "                                                    time_cat,\n",
    "                                                    test_size=0.2,\n",
    "                                                    shuffle=True,\n",
    "                                                    random_state=42,\n",
    "                                                   stratify=time_cat)"
   ]
  },
  {
   "cell_type": "markdown",
   "id": "8b73dc5f",
   "metadata": {},
   "source": [
    "#### 2. Build a pipeline that includes data preprocessing and a decision tree classifier with ```random_state=0```.\n",
    "   * For data preprocessing, use one-hot encoding for categorical attributes (```sex``` and ``` Type```) and min-max scaling for all other numerical attributes. Use the ```ColumnTransform``` function.\n"
   ]
  },
  {
   "cell_type": "code",
   "execution_count": 39,
   "id": "c450ea96",
   "metadata": {},
   "outputs": [],
   "source": [
    "from sklearn.preprocessing import OneHotEncoder\n",
    "from sklearn.preprocessing import MinMaxScaler\n",
    "from sklearn.tree import DecisionTreeClassifier\n",
    "\n",
    "num_train = train.drop(['sex','Type'], axis=1)\n",
    "\n",
    "#attribute encoding\n",
    "num_attribs = list(num_train.columns)\n",
    "cat_attribs = ['sex','Type']\n",
    "\n",
    "#pipeline for numerical attributes\n",
    "num_pipeline = Pipeline([('min_max_scaler', MinMaxScaler())])\n",
    "\n",
    "# complete pipeline\n",
    "full_pipeline = ColumnTransformer([('num', num_pipeline, num_attribs),\n",
    "                                  ('cat', OneHotEncoder(), cat_attribs)])\n",
    "\n",
    "train_set_prepared = full_pipeline.fit_transform(train)\n",
    "test_set_prepared = full_pipeline.transform(test)\n",
    "\n",
    "# In pandas dataframe format\n",
    "training_set = pd.DataFrame(train_set_prepared, \n",
    "                           columns=np.hstack((num_attribs, \n",
    "                                              ['Cat1','Cat2','Cat3','Cat4','Cat5'])), \n",
    "                           index=train.index)\n",
    "X_train = training_set.drop('Result_of_Treatment', axis=1).to_numpy()\n",
    "t_train = training_set['Result_of_Treatment'].to_numpy()\n",
    "\n",
    "test_set = pd.DataFrame(test_set_prepared, \n",
    "                           columns=np.hstack((num_attribs, \n",
    "                                              ['Cat1','Cat2','Cat3','Cat4','Cat5'])), \n",
    "                           index=test.index)\n",
    "\n",
    "X_test = test_set.drop('Result_of_Treatment', axis=1).to_numpy()\n",
    "t_test = test_set['Result_of_Treatment'].to_numpy()"
   ]
  },
  {
   "cell_type": "code",
   "execution_count": 40,
   "id": "8c5fbbff",
   "metadata": {},
   "outputs": [
    {
     "data": {
      "text/plain": [
       "((72, 10), (72,), (18, 10), (18,))"
      ]
     },
     "execution_count": 40,
     "metadata": {},
     "output_type": "execute_result"
    }
   ],
   "source": [
    "X_train.shape, t_train.shape, X_test.shape, t_test.shape"
   ]
  },
  {
   "cell_type": "code",
   "execution_count": 41,
   "id": "6d2724e1",
   "metadata": {},
   "outputs": [],
   "source": [
    "DTree = DecisionTreeClassifier(random_state=0)\n",
    "dt_pipe=Pipeline([('dt', DTree)])"
   ]
  },
  {
   "cell_type": "markdown",
   "id": "ea18d5ef",
   "metadata": {},
   "source": [
    "#### 3. Carry hyperparameter tuning using grid search to experiment with ```criterion```, ```max_depth```, ```min_samples_split``` and ```min_samples_leaf```. Train the final model pipeline.\n",
    "\n"
   ]
  },
  {
   "cell_type": "code",
   "execution_count": 42,
   "id": "bd32e431",
   "metadata": {},
   "outputs": [
    {
     "name": "stdout",
     "output_type": "stream",
     "text": [
      "{'dt__criterion': 'gini', 'dt__max_depth': 2, 'dt__min_samples_leaf': 4, 'dt__min_samples_split': 2}\n"
     ]
    }
   ],
   "source": [
    "param_grid={'dt__criterion':['gini', 'entropy'],\n",
    "            'dt__max_depth':np.arange(1,30),\n",
    "            'dt__min_samples_split':np.arange(2,10),\n",
    "            'dt__min_samples_leaf':np.arange(1,10)}\n",
    "grid_search_dt = GridSearchCV(dt_pipe,\n",
    "                             param_grid=param_grid,\n",
    "                             cv=5,\n",
    "                             scoring='neg_mean_squared_error',\n",
    "                             refit=True)\n",
    "grid_search_dt.fit(X_train, t_train);\n",
    "\n",
    "print(grid_search_dt.best_params_)"
   ]
  },
  {
   "cell_type": "code",
   "execution_count": 43,
   "id": "b5b0b3d5",
   "metadata": {},
   "outputs": [],
   "source": [
    "final_dt = DecisionTreeClassifier(criterion='gini', max_depth=2,\n",
    "                                 min_samples_leaf=4, min_samples_split=2,\n",
    "                                 random_state=0)"
   ]
  },
  {
   "cell_type": "markdown",
   "id": "3911dec4",
   "metadata": {},
   "source": [
    "#### 4. Visualize the resulting decision tree.\n",
    "\n"
   ]
  },
  {
   "cell_type": "code",
   "execution_count": 44,
   "id": "8d8ff177",
   "metadata": {},
   "outputs": [
    {
     "data": {
      "image/png": "[encoded data removed]",
      "text/plain": [
       "<Figure size 1440x1440 with 1 Axes>"
      ]
     },
     "metadata": {
      "needs_background": "light"
     },
     "output_type": "display_data"
    }
   ],
   "source": [
    "from sklearn import tree\n",
    "\n",
    "plt.figure(figsize=(20,20))\n",
    "\n",
    "tree.plot_tree(final_dt.fit(X_train, t_train));\n",
    "plt.show()"
   ]
  },
  {
   "cell_type": "markdown",
   "id": "11630d03",
   "metadata": {},
   "source": [
    "#### 5. Evaluate performance in training and test sets."
   ]
  },
  {
   "cell_type": "code",
   "execution_count": 45,
   "id": "55f4c09f",
   "metadata": {},
   "outputs": [
    {
     "name": "stdout",
     "output_type": "stream",
     "text": [
      "                precision    recall  f1-score   support\n",
      "\n",
      "not successful       0.90      0.53      0.67        17\n",
      "    successful       0.87      0.98      0.92        55\n",
      "\n",
      "      accuracy                           0.88        72\n",
      "     macro avg       0.89      0.76      0.79        72\n",
      "  weighted avg       0.88      0.88      0.86        72\n",
      "\n"
     ]
    }
   ],
   "source": [
    "y_train = final_dt.predict(X_train)\n",
    "y_test = final_dt.predict(X_test)\n",
    "target_names = ['not successful', 'successful']\n",
    "print(classification_report(t_train,y_train, target_names=target_names))"
   ]
  },
  {
   "cell_type": "code",
   "execution_count": 46,
   "id": "184ed4e3",
   "metadata": {},
   "outputs": [
    {
     "name": "stdout",
     "output_type": "stream",
     "text": [
      "                precision    recall  f1-score   support\n",
      "\n",
      "not successful       1.00      0.50      0.67         2\n",
      "    successful       0.94      1.00      0.97        16\n",
      "\n",
      "      accuracy                           0.94        18\n",
      "     macro avg       0.97      0.75      0.82        18\n",
      "  weighted avg       0.95      0.94      0.94        18\n",
      "\n"
     ]
    }
   ],
   "source": [
    "print(classification_report(t_test,y_test, target_names=target_names))"
   ]
  },
  {
   "cell_type": "markdown",
   "id": "472e4569",
   "metadata": {},
   "source": [
    "---"
   ]
  },
  {
   "cell_type": "markdown",
   "id": "46c7c124",
   "metadata": {},
   "source": [
    "# Question 3\n",
    "\n",
    "In this problem you will be working with the [Digits dataset](https://scikit-learn.org/stable/modules/generated/sklearn.datasets.load_digits.html).\n",
    "\n",
    "Each sample corresponds to an $8 \\times 8$ gray image of a handwritten digit. There is a total of 10 digits or labels ($0, 1, 2, \\dots, 9$). The dataset contains 1797 samples."
   ]
  },
  {
   "cell_type": "code",
   "execution_count": 47,
   "id": "eac536e9",
   "metadata": {},
   "outputs": [
    {
     "name": "stdout",
     "output_type": "stream",
     "text": [
      ".. _digits_dataset:\n",
      "\n",
      "Optical recognition of handwritten digits dataset\n",
      "--------------------------------------------------\n",
      "\n",
      "**Data Set Characteristics:**\n",
      "\n",
      "    :Number of Instances: 1797\n",
      "    :Number of Attributes: 64\n",
      "    :Attribute Information: 8x8 image of integer pixels in the range 0..16.\n",
      "    :Missing Attribute Values: None\n",
      "    :Creator: E. Alpaydin (alpaydin '@' boun.edu.tr)\n",
      "    :Date: July; 1998\n",
      "\n",
      "This is a copy of the test set of the UCI ML hand-written digits datasets\n",
      "https://archive.ics.uci.edu/ml/datasets/Optical+Recognition+of+Handwritten+Digits\n",
      "\n",
      "The data set contains images of hand-written digits: 10 classes where\n",
      "each class refers to a digit.\n",
      "\n",
      "Preprocessing programs made available by NIST were used to extract\n",
      "normalized bitmaps of handwritten digits from a preprinted form. From a\n",
      "total of 43 people, 30 contributed to the training set and different 13\n",
      "to the test set. 32x32 bitmaps are divided into nonoverlapping blocks of\n",
      "4x4 and the number of on pixels are counted in each block. This generates\n",
      "an input matrix of 8x8 where each element is an integer in the range\n",
      "0..16. This reduces dimensionality and gives invariance to small\n",
      "distortions.\n",
      "\n",
      "For info on NIST preprocessing routines, see M. D. Garris, J. L. Blue, G.\n",
      "T. Candela, D. L. Dimmick, J. Geist, P. J. Grother, S. A. Janet, and C.\n",
      "L. Wilson, NIST Form-Based Handprint Recognition System, NISTIR 5469,\n",
      "1994.\n",
      "\n",
      ".. topic:: References\n",
      "\n",
      "  - C. Kaynak (1995) Methods of Combining Multiple Classifiers and Their\n",
      "    Applications to Handwritten Digit Recognition, MSc Thesis, Institute of\n",
      "    Graduate Studies in Science and Engineering, Bogazici University.\n",
      "  - E. Alpaydin, C. Kaynak (1998) Cascading Classifiers, Kybernetika.\n",
      "  - Ken Tang and Ponnuthurai N. Suganthan and Xi Yao and A. Kai Qin.\n",
      "    Linear dimensionalityreduction using relevance weighted LDA. School of\n",
      "    Electrical and Electronic Engineering Nanyang Technological University.\n",
      "    2005.\n",
      "  - Claudio Gentile. A New Approximate Maximal Margin Classification\n",
      "    Algorithm. NIPS. 2000.\n",
      "\n"
     ]
    }
   ],
   "source": [
    "from sklearn.datasets import load_digits\n",
    "\n",
    "digits = load_digits(return_X_y=False)\n",
    "\n",
    "print(digits.DESCR)"
   ]
  },
  {
   "cell_type": "code",
   "execution_count": 48,
   "id": "ca6fde5f",
   "metadata": {},
   "outputs": [
    {
     "data": {
      "text/plain": [
       "((1797, 64), (1797,))"
      ]
     },
     "execution_count": 48,
     "metadata": {},
     "output_type": "execute_result"
    }
   ],
   "source": [
    "# Obtaining data\n",
    "\n",
    "# Each row corresponds to an image with 8x8=64 pixels/features\n",
    "X = digits.data \n",
    "\n",
    "# Labels\n",
    "t = digits.target\n",
    "\n",
    "X.shape, t.shape"
   ]
  },
  {
   "cell_type": "code",
   "execution_count": 49,
   "id": "cfbb9886",
   "metadata": {},
   "outputs": [
    {
     "data": {
      "image/png": "[encoded data removed]",
      "text/plain": [
       "<Figure size 144x360 with 50 Axes>"
      ]
     },
     "metadata": {
      "needs_background": "light"
     },
     "output_type": "display_data"
    }
   ],
   "source": [
    "# displaying some examples of digits\n",
    "\n",
    "import numpy as np\n",
    "import matplotlib.pyplot as plt\n",
    "%matplotlib inline\n",
    "plt.style.use('bmh')\n",
    "\n",
    "plt.figure(figsize=(2,5))\n",
    "grid_loc=1\n",
    "for i in range(10):\n",
    "    digits_labels_idx = np.where(t==i)[0]\n",
    "    idx = np.random.randint(len(digits_labels_idx),size=5)\n",
    "    for j in range(5):\n",
    "        plt.subplot(10,5,grid_loc)\n",
    "        plt.imshow(X[digits_labels_idx[idx[j]],:].reshape(8,8), cmap='gray')\n",
    "        plt.axis('off')\n",
    "        grid_loc+=1"
   ]
  },
  {
   "cell_type": "markdown",
   "id": "283b5eaf",
   "metadata": {},
   "source": [
    "Answer the following questions:\n",
    "\n",
    "1. Partition the data into training and test using a stratified 80/20 partition. For reproducible, fix the value for the ```random_state``` parameter.\n",
    "\n",
    "2. Build a pipeline that includes data preprocessing and a random forest classifier with ```random_state=0```.\n",
    "    * For data preprocessing, use the min-max scaler.\n",
    "\n",
    "3. Carry hyperparameter tuning using grid search to experiment with number of trees, ```criterion```, ```max_depth```, ```min_samples_split``` and ```min_samples_leaf```. Train the final model pipeline.\n",
    "\n",
    "4. Print the ```feature_importance_``` for the final model. Reshape this vector as an $8\\times 8$ image and display it with ```imshow```. Discuss observations.\n",
    "\n",
    "5. Evaluate performance in training and test sets."
   ]
  },
  {
   "cell_type": "markdown",
   "id": "491c8430",
   "metadata": {},
   "source": [
    "#### 1. Partition the data into training and test using a stratified 80/20 partition. For reproducible, fix the value for the ```random_state``` parameter.\n"
   ]
  },
  {
   "cell_type": "code",
   "execution_count": 50,
   "id": "e8e111c3",
   "metadata": {},
   "outputs": [],
   "source": [
    "X_train, X_test, t_train, t_test = train_test_split(X,t,\n",
    "                                               test_size=0.2,\n",
    "                                               shuffle=True,\n",
    "                                               random_state=42)"
   ]
  },
  {
   "cell_type": "markdown",
   "id": "a8763be8",
   "metadata": {},
   "source": [
    "#### 2. Build a pipeline that includes data preprocessing and a random forest classifier with ```random_state=0```.\n",
    "    * For data preprocessing, use the min-max scaler.\n",
    "\n"
   ]
  },
  {
   "cell_type": "code",
   "execution_count": 51,
   "id": "bc35fb6b",
   "metadata": {},
   "outputs": [
    {
     "data": {
      "text/plain": [
       "{'memory': None,\n",
       " 'steps': [('min_max_scaler', MinMaxScaler()),\n",
       "  ('model', RandomForestClassifier(random_state=0))],\n",
       " 'verbose': False,\n",
       " 'min_max_scaler': MinMaxScaler(),\n",
       " 'model': RandomForestClassifier(random_state=0),\n",
       " 'min_max_scaler__clip': False,\n",
       " 'min_max_scaler__copy': True,\n",
       " 'min_max_scaler__feature_range': (0, 1),\n",
       " 'model__bootstrap': True,\n",
       " 'model__ccp_alpha': 0.0,\n",
       " 'model__class_weight': None,\n",
       " 'model__criterion': 'gini',\n",
       " 'model__max_depth': None,\n",
       " 'model__max_features': 'auto',\n",
       " 'model__max_leaf_nodes': None,\n",
       " 'model__max_samples': None,\n",
       " 'model__min_impurity_decrease': 0.0,\n",
       " 'model__min_samples_leaf': 1,\n",
       " 'model__min_samples_split': 2,\n",
       " 'model__min_weight_fraction_leaf': 0.0,\n",
       " 'model__n_estimators': 100,\n",
       " 'model__n_jobs': None,\n",
       " 'model__oob_score': False,\n",
       " 'model__random_state': 0,\n",
       " 'model__verbose': 0,\n",
       " 'model__warm_start': False}"
      ]
     },
     "execution_count": 51,
     "metadata": {},
     "output_type": "execute_result"
    }
   ],
   "source": [
    "from sklearn.ensemble import RandomForestClassifier\n",
    "\n",
    "model = RandomForestClassifier(random_state=0)\n",
    "pipe = Pipeline([('min_max_scaler', MinMaxScaler()),\n",
    "                ('model', model)])\n",
    "pipe.get_params()"
   ]
  },
  {
   "cell_type": "markdown",
   "id": "f09f2602",
   "metadata": {},
   "source": [
    "#### 3. Carry hyperparameter tuning using grid search to experiment with number of trees, ```criterion```, ```max_depth```, ```min_samples_split``` and ```min_samples_leaf```. Train the final model pipeline.\n",
    "\n"
   ]
  },
  {
   "cell_type": "code",
   "execution_count": 52,
   "id": "f545be5f",
   "metadata": {},
   "outputs": [
    {
     "name": "stdout",
     "output_type": "stream",
     "text": [
      "{'model__criterion': 'entropy', 'model__max_depth': 8, 'model__min_samples_leaf': 1, 'model__min_samples_split': 3}\n"
     ]
    }
   ],
   "source": [
    "param_grid={'model__criterion':['gini', 'entropy'],\n",
    "           'model__max_depth':np.arange(2,10),\n",
    "           'model__min_samples_split':np.arange(2,5),\n",
    "           'model__min_samples_leaf':np.arange(1,5)}\n",
    "\n",
    "grid_search_rfc = GridSearchCV(pipe,\n",
    "                              param_grid=param_grid,\n",
    "                              cv=5,\n",
    "                              scoring='neg_mean_squared_error')\n",
    "grid_search_rfc.fit(X_train, t_train);\n",
    "print(grid_search_rfc.best_params_)"
   ]
  },
  {
   "cell_type": "code",
   "execution_count": 53,
   "id": "8bb548a6",
   "metadata": {},
   "outputs": [],
   "source": [
    "final_model_rfc = grid_search_rfc.best_estimator_"
   ]
  },
  {
   "cell_type": "markdown",
   "id": "00e724f9",
   "metadata": {},
   "source": [
    "#### 4. Print the ```feature_importance_``` for the final model. Reshape this vector as an $8\\times 8$ image and display it with ```imshow```. Discuss observations.\n",
    "\n"
   ]
  },
  {
   "cell_type": "code",
   "execution_count": 54,
   "id": "c6559968",
   "metadata": {},
   "outputs": [
    {
     "data": {
      "text/plain": [
       "array([0.00000000e+00, 1.41042371e-03, 2.20375529e-02, 8.49282230e-03,\n",
       "       5.33277452e-03, 1.53930078e-02, 5.12094704e-03, 5.16842874e-04,\n",
       "       3.18684693e-05, 9.78979320e-03, 2.71522726e-02, 4.35634583e-03,\n",
       "       1.12781735e-02, 2.17366146e-02, 4.03389123e-03, 2.52951783e-04,\n",
       "       1.47272174e-05, 4.88367753e-03, 1.67158274e-02, 2.16712512e-02,\n",
       "       2.77482675e-02, 6.36081548e-02, 9.28632520e-03, 1.50195146e-04,\n",
       "       5.71867403e-05, 1.19440382e-02, 4.93673654e-02, 2.45121393e-02,\n",
       "       3.07460272e-02, 1.82314851e-02, 4.04562410e-02, 7.75992657e-05,\n",
       "       0.00000000e+00, 3.37982742e-02, 3.20568245e-02, 1.73545686e-02,\n",
       "       3.60411487e-02, 1.61058220e-02, 3.91499075e-02, 0.00000000e+00,\n",
       "       2.45568749e-05, 5.21364812e-03, 5.55069987e-02, 5.50690069e-02,\n",
       "       1.99956594e-02, 1.44611185e-02, 1.99223988e-02, 1.56325840e-05,\n",
       "       5.39318879e-05, 1.28562555e-03, 1.35631201e-02, 1.59619355e-02,\n",
       "       1.11714863e-02, 2.25394374e-02, 3.63328229e-02, 1.16851660e-03,\n",
       "       0.00000000e+00, 1.47463514e-03, 1.79279467e-02, 7.04712683e-03,\n",
       "       1.57558488e-02, 4.17516829e-02, 1.11300903e-02, 1.71343721e-03])"
      ]
     },
     "execution_count": 54,
     "metadata": {},
     "output_type": "execute_result"
    }
   ],
   "source": [
    "final_model_rfc.named_steps['model'].feature_importances_"
   ]
  },
  {
   "cell_type": "code",
   "execution_count": 55,
   "id": "cbd0e8aa",
   "metadata": {},
   "outputs": [
    {
     "data": {
      "image/png": "[encoded data removed]",
      "text/plain": [
       "<Figure size 432x288 with 1 Axes>"
      ]
     },
     "metadata": {
      "needs_background": "light"
     },
     "output_type": "display_data"
    }
   ],
   "source": [
    "img = final_model_rfc.named_steps['model'].feature_importances_.reshape(8,8);\n",
    "plt.imshow(img, cmap='gray') \n",
    "plt.axis('off');"
   ]
  },
  {
   "cell_type": "code",
   "execution_count": 56,
   "id": "3c00d25f",
   "metadata": {},
   "outputs": [
    {
     "name": "stderr",
     "output_type": "stream",
     "text": [
      "/var/folders/1_/2tjx84411dl0n9rvnrjdns8c0000gn/T/ipykernel_44382/964915464.py:2: MatplotlibDeprecationWarning: Auto-removal of grids by pcolor() and pcolormesh() is deprecated since 3.5 and will be removed two minor releases later; please call grid(False) first.\n",
      "  plt.colorbar();\n"
     ]
    },
    {
     "data": {
      "image/png": "[encoded data removed]",
      "text/plain": [
       "<Figure size 432x288 with 2 Axes>"
      ]
     },
     "metadata": {
      "needs_background": "light"
     },
     "output_type": "display_data"
    }
   ],
   "source": [
    "plt.imshow(final_model_rfc['model'].feature_importances_.reshape(8,8), cmap=plt.cm.rainbow)\n",
    "plt.colorbar();"
   ]
  },
  {
   "cell_type": "markdown",
   "id": "1fa50016",
   "metadata": {},
   "source": [
    "The image is hard to read but it looks like a 8, since most of its concentration is on the center of the loop"
   ]
  },
  {
   "cell_type": "markdown",
   "id": "c4980706",
   "metadata": {},
   "source": [
    "#### 5. Evaluate performance in training and test sets."
   ]
  },
  {
   "cell_type": "code",
   "execution_count": 57,
   "id": "bec9aefb",
   "metadata": {},
   "outputs": [
    {
     "name": "stdout",
     "output_type": "stream",
     "text": [
      "              precision    recall  f1-score   support\n",
      "\n",
      "           0       1.00      1.00      1.00       145\n",
      "           1       1.00      1.00      1.00       154\n",
      "           2       1.00      1.00      1.00       144\n",
      "           3       1.00      1.00      1.00       149\n",
      "           4       1.00      1.00      1.00       135\n",
      "           5       1.00      0.99      1.00       135\n",
      "           6       1.00      1.00      1.00       146\n",
      "           7       1.00      1.00      1.00       145\n",
      "           8       0.99      1.00      1.00       144\n",
      "           9       0.99      0.99      0.99       140\n",
      "\n",
      "    accuracy                           1.00      1437\n",
      "   macro avg       1.00      1.00      1.00      1437\n",
      "weighted avg       1.00      1.00      1.00      1437\n",
      "\n"
     ]
    }
   ],
   "source": [
    "y_test = final_model_rfc.predict(X_test)\n",
    "y_train = final_model_rfc.predict(X_train)\n",
    "print(classification_report(t_train,y_train))"
   ]
  },
  {
   "cell_type": "code",
   "execution_count": 58,
   "id": "4f772c2f",
   "metadata": {},
   "outputs": [
    {
     "name": "stdout",
     "output_type": "stream",
     "text": [
      "              precision    recall  f1-score   support\n",
      "\n",
      "           0       1.00      0.97      0.98        33\n",
      "           1       1.00      1.00      1.00        28\n",
      "           2       1.00      1.00      1.00        33\n",
      "           3       1.00      1.00      1.00        34\n",
      "           4       0.98      1.00      0.99        46\n",
      "           5       0.96      0.96      0.96        47\n",
      "           6       0.97      0.97      0.97        35\n",
      "           7       0.94      0.97      0.96        34\n",
      "           8       1.00      1.00      1.00        30\n",
      "           9       0.95      0.93      0.94        40\n",
      "\n",
      "    accuracy                           0.98       360\n",
      "   macro avg       0.98      0.98      0.98       360\n",
      "weighted avg       0.98      0.98      0.98       360\n",
      "\n"
     ]
    }
   ],
   "source": [
    "print(classification_report(t_test,y_test))"
   ]
  },
  {
   "cell_type": "markdown",
   "id": "7d01b849",
   "metadata": {},
   "source": [
    "The precision score seems to be higher than the recall for both cases."
   ]
  },
  {
   "cell_type": "markdown",
   "id": "888a119d",
   "metadata": {},
   "source": [
    "___\n",
    "\n",
    "# Submit Your Solution\n",
    "\n",
    "Confirm that you've successfully completed the assignment.\n",
    "\n",
    "Along with the Notebook, include a PDF of the notebook with your solutions.\n",
    "\n",
    "```add``` and ```commit``` the final version of your work, and ```push``` your code to your GitHub repository.\n",
    "\n",
    "Submit the URL of your GitHub Repository as your assignment submission on Canvas.\n",
    "\n",
    "___"
   ]
  },
  {
   "cell_type": "code",
   "execution_count": null,
   "id": "0f71cc28",
   "metadata": {},
   "outputs": [],
   "source": []
  },
  {
   "cell_type": "code",
   "execution_count": null,
   "id": "a8f13913",
   "metadata": {},
   "outputs": [],
   "source": []
  },
  {
   "cell_type": "code",
   "execution_count": null,
   "id": "9e1bb53b",
   "metadata": {},
   "outputs": [],
   "source": []
  }
 ],
 "metadata": {
  "kernelspec": {
   "display_name": "Python 3 (ipykernel)",
   "language": "python",
   "name": "python3"
  },
  "language_info": {
   "codemirror_mode": {
    "name": "ipython",
    "version": 3
   },
   "file_extension": ".py",
   "mimetype": "text/x-python",
   "name": "python",
   "nbconvert_exporter": "python",
   "pygments_lexer": "ipython3",
   "version": "3.9.12"
  },
  "latex_envs": {
   "LaTeX_envs_menu_present": true,
   "autoclose": false,
   "autocomplete": true,
   "bibliofile": "biblio.bib",
   "cite_by": "apalike",
   "current_citInitial": 1,
   "eqLabelWithNumbers": true,
   "eqNumInitial": 1,
   "hotkeys": {
    "equation": "Ctrl-E",
    "itemize": "Ctrl-I"
   },
   "labels_anchors": false,
   "latex_user_defs": false,
   "report_style_numbering": false,
   "user_envs_cfg": false
  },
  "varInspector": {
   "cols": {
    "lenName": 16,
    "lenType": 16,
    "lenVar": 40
   },
   "kernels_config": {
    "python": {
     "delete_cmd_postfix": "",
     "delete_cmd_prefix": "del ",
     "library": "var_list.py",
     "varRefreshCmd": "print(var_dic_list())"
    },
    "r": {
     "delete_cmd_postfix": ") ",
     "delete_cmd_prefix": "rm(",
     "library": "var_list.r",
     "varRefreshCmd": "cat(var_dic_list()) "
    }
   },
   "types_to_exclude": [
    "module",
    "function",
    "builtin_function_or_method",
    "instance",
    "_Feature"
   ],
   "window_display": false
  }
 },
 "nbformat": 4,
 "nbformat_minor": 5
}
