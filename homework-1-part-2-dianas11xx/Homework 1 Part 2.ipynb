{
 "cells": [
  {
   "cell_type": "markdown",
   "id": "41c8fb3d",
   "metadata": {},
   "source": [
    "# Homework 1 Part 2\n",
    "\n",
    "This is an individual assignment.\n",
    "\n",
    "**Due: Friday, September 23 @ 11:59pm**"
   ]
  },
  {
   "cell_type": "markdown",
   "id": "bbc8824a",
   "metadata": {},
   "source": [
    "---"
   ]
  },
  {
   "cell_type": "markdown",
   "id": "ab365476",
   "metadata": {},
   "source": [
    "# Question 1 (30 points)"
   ]
  },
  {
   "cell_type": "markdown",
   "id": "ef9fadfb",
   "metadata": {},
   "source": [
    "In this question, you will be working with the [marathon time predictions dataset](https://www.kaggle.com/datasets/girardi69/marathon-time-predictions). (Same dataset as in HW0).\n",
    "\n",
    "Carry hyperparameter tuning for training 3 regression models:\n",
    "\n",
    "* **Model 1**: (multiple) linear regression with Lasso regularizer.\n",
    "\n",
    "* **Model 2**: polynomial regression  with Lasso regularizer.\n",
    "\n",
    "* **Model 3**: random forest.\n",
    "\n",
    "For model 1, experiment with the type of regularizer and the regularizer term $\\lambda$.\n",
    "\n",
    "For model 2, experiment with polynomial degree, the ```interaction_only``` argument and the regularizer term $\\lambda$.\n",
    "\n",
    "For model 3, experiment with the number of trees and the ```criterion```.\n",
    "\n",
    "\n",
    "1. Build a ```GridSearchCV``` for each model using ```scikit-learn``` pipelines. \n",
    "    \n",
    "2. Build a ```RandomizedSearchCV``` for each model using ```scikit-learn``` pipelines. \n",
    "\n",
    "    * Consider an exponential distribution for the regularizer term $\\lambda$.\n",
    "    * Consider a uniform distribution for the number of trees.\n",
    "    \n",
    "3. Which set of hyperparmeters worked best for each model? \n",
    "\n",
    "4. Train the final models and save them as ```pickle``` files. (See bottom of lecture 5 part 1 for an example.)"
   ]
  },
  {
   "cell_type": "markdown",
   "id": "c2f177a4",
   "metadata": {},
   "source": [
    "### Preprocess data (From HW0)"
   ]
  },
  {
   "cell_type": "code",
   "execution_count": 203,
   "id": "72c0e1a5",
   "metadata": {},
   "outputs": [],
   "source": [
    "import pandas as pd\n",
    "import numpy as np\n",
    "\n",
    "# Import data\n",
    "marathon_data = pd.read_csv('MarathonData.csv');\n",
    "\n",
    "# Clean data\n",
    "marathon_data = marathon_data.drop(['id','Marathon','Name','CrossTraining', 'CATEGORY'], axis=1);\n",
    "marathon_data = marathon_data.dropna(subset=['Category']);\n",
    "marathon_data['Wall21'] = pd.to_numeric(marathon_data['Wall21'], errors='coerce');"
   ]
  },
  {
   "cell_type": "code",
   "execution_count": 204,
   "id": "ea6e22ab",
   "metadata": {},
   "outputs": [],
   "source": [
    "# Get numerical and categorical attributes\n",
    "m_data_num = marathon_data[['km4week','sp4week','Wall21','MarathonTime']];\n",
    "m_data_cat = marathon_data[['Category']];"
   ]
  },
  {
   "cell_type": "code",
   "execution_count": 205,
   "id": "6d078d57",
   "metadata": {},
   "outputs": [],
   "source": [
    "# Custom Transformer\n",
    "from sklearn.base import BaseEstimator, TransformerMixin\n",
    "\n",
    "km4week_ix, sp4week_ix = 0, 1\n",
    "\n",
    "class CombinedAttributesAdder(BaseEstimator, TransformerMixin):\n",
    "    def __init__(self, add_km4week_per_sp4week=True):\n",
    "        self.add_km4week_per_sp4week = add_km4week_per_sp4week\n",
    "    def fit(self, X, y=None):\n",
    "        return self\n",
    "    def transform(self, X):\n",
    "        if self.add_km4week_per_sp4week:\n",
    "            km4week_per_sp4week = X[:,km4week_ix] / X[:,sp4week_ix]\n",
    "            estimate =  X[:,2]*X[:,sp4week_ix] / X[:,km4week_ix] + 2*X[:,2]\n",
    "        return np.c_[X, km4week_per_sp4week, estimate]"
   ]
  },
  {
   "cell_type": "code",
   "execution_count": 206,
   "id": "686d1043",
   "metadata": {},
   "outputs": [],
   "source": [
    "from sklearn.pipeline import Pipeline\n",
    "\n",
    "num_pipeline = Pipeline([('attribs_adder', CombinedAttributesAdder())]) \n",
    "\n",
    "marathon_num_addons = num_pipeline.fit_transform(m_data_num.to_numpy())"
   ]
  },
  {
   "cell_type": "code",
   "execution_count": 207,
   "id": "6d682cac",
   "metadata": {},
   "outputs": [],
   "source": [
    "marathon_all = pd.concat([m_data_cat, pd.DataFrame(marathon_num_addons, \n",
    "                           columns=np.hstack((m_data_num.columns, ['ratio','estimate'])), \n",
    "                           index=m_data_num.index)], axis=1)"
   ]
  },
  {
   "cell_type": "code",
   "execution_count": 208,
   "id": "46550d9a",
   "metadata": {},
   "outputs": [],
   "source": [
    "wall21_cat = pd.cut(marathon_all['Wall21'], \n",
    "                    bins=[0., 1.4, 1.6, 1.8, np.inf], \n",
    "                    labels=[1, 2, 3, 4])"
   ]
  },
  {
   "cell_type": "code",
   "execution_count": 209,
   "id": "9488e263",
   "metadata": {},
   "outputs": [],
   "source": [
    "from sklearn.model_selection import train_test_split\n",
    "\n",
    "# Split into testing and training sets\n",
    "train_set, test_set, income_cat_train, income_cat_test = train_test_split(marathon_all, wall21_cat,\n",
    "                                                                          test_size=0.2,\n",
    "                                                                          shuffle=True,\n",
    "                                                                          random_state=42,\n",
    "                                                                          stratify=wall21_cat)"
   ]
  },
  {
   "cell_type": "code",
   "execution_count": 210,
   "id": "75a61f9a",
   "metadata": {},
   "outputs": [
    {
     "data": {
      "text/html": [
       "<div>\n",
       "<style scoped>\n",
       "    .dataframe tbody tr th:only-of-type {\n",
       "        vertical-align: middle;\n",
       "    }\n",
       "\n",
       "    .dataframe tbody tr th {\n",
       "        vertical-align: top;\n",
       "    }\n",
       "\n",
       "    .dataframe thead th {\n",
       "        text-align: right;\n",
       "    }\n",
       "</style>\n",
       "<table border=\"1\" class=\"dataframe\">\n",
       "  <thead>\n",
       "    <tr style=\"text-align: right;\">\n",
       "      <th></th>\n",
       "      <th>km4week</th>\n",
       "      <th>sp4week</th>\n",
       "      <th>Wall21</th>\n",
       "      <th>MarathonTime</th>\n",
       "      <th>ratio</th>\n",
       "      <th>estimate</th>\n",
       "      <th>Cat1</th>\n",
       "      <th>Cat2</th>\n",
       "      <th>Cat3</th>\n",
       "      <th>Cat4</th>\n",
       "      <th>Cat5</th>\n",
       "      <th>Cat6</th>\n",
       "    </tr>\n",
       "  </thead>\n",
       "  <tbody>\n",
       "    <tr>\n",
       "      <th>69</th>\n",
       "      <td>-0.781538</td>\n",
       "      <td>-0.125938</td>\n",
       "      <td>0.795044</td>\n",
       "      <td>0.956411</td>\n",
       "      <td>-0.737816</td>\n",
       "      <td>-0.119785</td>\n",
       "      <td>0.0</td>\n",
       "      <td>0.0</td>\n",
       "      <td>0.0</td>\n",
       "      <td>0.0</td>\n",
       "      <td>1.0</td>\n",
       "      <td>0.0</td>\n",
       "    </tr>\n",
       "    <tr>\n",
       "      <th>49</th>\n",
       "      <td>0.645110</td>\n",
       "      <td>-0.126108</td>\n",
       "      <td>0.045389</td>\n",
       "      <td>0.220521</td>\n",
       "      <td>0.667326</td>\n",
       "      <td>-0.127303</td>\n",
       "      <td>0.0</td>\n",
       "      <td>0.0</td>\n",
       "      <td>0.0</td>\n",
       "      <td>0.0</td>\n",
       "      <td>1.0</td>\n",
       "      <td>0.0</td>\n",
       "    </tr>\n",
       "    <tr>\n",
       "      <th>7</th>\n",
       "      <td>1.728739</td>\n",
       "      <td>-0.125604</td>\n",
       "      <td>-1.032240</td>\n",
       "      <td>-1.224978</td>\n",
       "      <td>1.493881</td>\n",
       "      <td>-0.134130</td>\n",
       "      <td>0.0</td>\n",
       "      <td>1.0</td>\n",
       "      <td>0.0</td>\n",
       "      <td>0.0</td>\n",
       "      <td>0.0</td>\n",
       "      <td>0.0</td>\n",
       "    </tr>\n",
       "    <tr>\n",
       "      <th>86</th>\n",
       "      <td>-1.705351</td>\n",
       "      <td>-0.126944</td>\n",
       "      <td>1.966380</td>\n",
       "      <td>1.771147</td>\n",
       "      <td>-1.526800</td>\n",
       "      <td>-0.104529</td>\n",
       "      <td>1.0</td>\n",
       "      <td>0.0</td>\n",
       "      <td>0.0</td>\n",
       "      <td>0.0</td>\n",
       "      <td>0.0</td>\n",
       "      <td>0.0</td>\n",
       "    </tr>\n",
       "    <tr>\n",
       "      <th>78</th>\n",
       "      <td>-1.311659</td>\n",
       "      <td>-0.126689</td>\n",
       "      <td>1.591552</td>\n",
       "      <td>1.534610</td>\n",
       "      <td>-1.143580</td>\n",
       "      <td>-0.112256</td>\n",
       "      <td>0.0</td>\n",
       "      <td>0.0</td>\n",
       "      <td>0.0</td>\n",
       "      <td>0.0</td>\n",
       "      <td>1.0</td>\n",
       "      <td>0.0</td>\n",
       "    </tr>\n",
       "    <tr>\n",
       "      <th>...</th>\n",
       "      <td>...</td>\n",
       "      <td>...</td>\n",
       "      <td>...</td>\n",
       "      <td>...</td>\n",
       "      <td>...</td>\n",
       "      <td>...</td>\n",
       "      <td>...</td>\n",
       "      <td>...</td>\n",
       "      <td>...</td>\n",
       "      <td>...</td>\n",
       "      <td>...</td>\n",
       "      <td>...</td>\n",
       "    </tr>\n",
       "    <tr>\n",
       "      <th>43</th>\n",
       "      <td>-1.147945</td>\n",
       "      <td>-0.125593</td>\n",
       "      <td>-0.048318</td>\n",
       "      <td>0.036548</td>\n",
       "      <td>-1.128551</td>\n",
       "      <td>-0.122928</td>\n",
       "      <td>0.0</td>\n",
       "      <td>0.0</td>\n",
       "      <td>0.0</td>\n",
       "      <td>0.0</td>\n",
       "      <td>1.0</td>\n",
       "      <td>0.0</td>\n",
       "    </tr>\n",
       "    <tr>\n",
       "      <th>68</th>\n",
       "      <td>-0.099398</td>\n",
       "      <td>-0.126899</td>\n",
       "      <td>0.560777</td>\n",
       "      <td>0.903847</td>\n",
       "      <td>0.171394</td>\n",
       "      <td>-0.123638</td>\n",
       "      <td>0.0</td>\n",
       "      <td>0.0</td>\n",
       "      <td>0.0</td>\n",
       "      <td>0.0</td>\n",
       "      <td>1.0</td>\n",
       "      <td>0.0</td>\n",
       "    </tr>\n",
       "    <tr>\n",
       "      <th>32</th>\n",
       "      <td>0.153969</td>\n",
       "      <td>-0.126187</td>\n",
       "      <td>-0.563705</td>\n",
       "      <td>-0.252552</td>\n",
       "      <td>0.216478</td>\n",
       "      <td>-0.130295</td>\n",
       "      <td>0.0</td>\n",
       "      <td>1.0</td>\n",
       "      <td>0.0</td>\n",
       "      <td>0.0</td>\n",
       "      <td>0.0</td>\n",
       "      <td>0.0</td>\n",
       "    </tr>\n",
       "    <tr>\n",
       "      <th>19</th>\n",
       "      <td>0.586641</td>\n",
       "      <td>-0.128988</td>\n",
       "      <td>-1.032240</td>\n",
       "      <td>-0.962160</td>\n",
       "      <td>2.034899</td>\n",
       "      <td>-0.134397</td>\n",
       "      <td>0.0</td>\n",
       "      <td>0.0</td>\n",
       "      <td>0.0</td>\n",
       "      <td>0.0</td>\n",
       "      <td>1.0</td>\n",
       "      <td>0.0</td>\n",
       "    </tr>\n",
       "    <tr>\n",
       "      <th>72</th>\n",
       "      <td>-0.364458</td>\n",
       "      <td>-0.126319</td>\n",
       "      <td>1.450992</td>\n",
       "      <td>1.008974</td>\n",
       "      <td>-0.256912</td>\n",
       "      <td>-0.117459</td>\n",
       "      <td>0.0</td>\n",
       "      <td>0.0</td>\n",
       "      <td>0.0</td>\n",
       "      <td>0.0</td>\n",
       "      <td>0.0</td>\n",
       "      <td>1.0</td>\n",
       "    </tr>\n",
       "  </tbody>\n",
       "</table>\n",
       "<p>64 rows × 12 columns</p>\n",
       "</div>"
      ],
      "text/plain": [
       "     km4week   sp4week    Wall21  MarathonTime     ratio  estimate  Cat1  \\\n",
       "69 -0.781538 -0.125938  0.795044      0.956411 -0.737816 -0.119785   0.0   \n",
       "49  0.645110 -0.126108  0.045389      0.220521  0.667326 -0.127303   0.0   \n",
       "7   1.728739 -0.125604 -1.032240     -1.224978  1.493881 -0.134130   0.0   \n",
       "86 -1.705351 -0.126944  1.966380      1.771147 -1.526800 -0.104529   1.0   \n",
       "78 -1.311659 -0.126689  1.591552      1.534610 -1.143580 -0.112256   0.0   \n",
       "..       ...       ...       ...           ...       ...       ...   ...   \n",
       "43 -1.147945 -0.125593 -0.048318      0.036548 -1.128551 -0.122928   0.0   \n",
       "68 -0.099398 -0.126899  0.560777      0.903847  0.171394 -0.123638   0.0   \n",
       "32  0.153969 -0.126187 -0.563705     -0.252552  0.216478 -0.130295   0.0   \n",
       "19  0.586641 -0.128988 -1.032240     -0.962160  2.034899 -0.134397   0.0   \n",
       "72 -0.364458 -0.126319  1.450992      1.008974 -0.256912 -0.117459   0.0   \n",
       "\n",
       "    Cat2  Cat3  Cat4  Cat5  Cat6  \n",
       "69   0.0   0.0   0.0   1.0   0.0  \n",
       "49   0.0   0.0   0.0   1.0   0.0  \n",
       "7    1.0   0.0   0.0   0.0   0.0  \n",
       "86   0.0   0.0   0.0   0.0   0.0  \n",
       "78   0.0   0.0   0.0   1.0   0.0  \n",
       "..   ...   ...   ...   ...   ...  \n",
       "43   0.0   0.0   0.0   1.0   0.0  \n",
       "68   0.0   0.0   0.0   1.0   0.0  \n",
       "32   1.0   0.0   0.0   0.0   0.0  \n",
       "19   0.0   0.0   0.0   1.0   0.0  \n",
       "72   0.0   0.0   0.0   0.0   1.0  \n",
       "\n",
       "[64 rows x 12 columns]"
      ]
     },
     "execution_count": 210,
     "metadata": {},
     "output_type": "execute_result"
    }
   ],
   "source": [
    "from sklearn.compose import ColumnTransformer\n",
    "from sklearn.preprocessing import OneHotEncoder\n",
    "from sklearn.preprocessing import StandardScaler\n",
    "\n",
    "# Build transformation pipeline to encode categorical and numerical\n",
    "# attributes\n",
    "\n",
    "num_attribs = list(train_set.columns[1:])\n",
    "cat_attribs = ['Category']\n",
    "num_pipeline = Pipeline([('std_scaler', StandardScaler())]) \n",
    "# Pipeline\n",
    "full_pipeline = ColumnTransformer([('num', num_pipeline, num_attribs), \n",
    "                                   ('cat', OneHotEncoder(), cat_attribs)]) \n",
    "\n",
    "train_set_prepared = full_pipeline.fit_transform(train_set)\n",
    "test_set_prepared = full_pipeline.transform(test_set)\n",
    "training_set = pd.DataFrame(train_set_prepared, \n",
    "                           columns=np.hstack((train_set.columns[1:], \n",
    "                                              ['Cat1','Cat2','Cat3','Cat4','Cat5','Cat6'])), \n",
    "                           index=train_set.index)\n",
    "\n",
    "test_set = pd.DataFrame(test_set_prepared, \n",
    "                           columns=np.hstack((test_set.columns[1:], \n",
    "                                              ['Cat1','Cat2','Cat3','Cat4','Cat5','Cat6'])), \n",
    "                           index=test_set.index)\n",
    "# training/test labels\n",
    "t_train = training_set['MarathonTime'].copy()\n",
    "t_test = test_set['MarathonTime'].copy()\n",
    "training_set"
   ]
  },
  {
   "cell_type": "code",
   "execution_count": 211,
   "id": "7858fedd",
   "metadata": {
    "scrolled": true
   },
   "outputs": [
    {
     "data": {
      "text/html": [
       "<div>\n",
       "<style scoped>\n",
       "    .dataframe tbody tr th:only-of-type {\n",
       "        vertical-align: middle;\n",
       "    }\n",
       "\n",
       "    .dataframe tbody tr th {\n",
       "        vertical-align: top;\n",
       "    }\n",
       "\n",
       "    .dataframe thead th {\n",
       "        text-align: right;\n",
       "    }\n",
       "</style>\n",
       "<table border=\"1\" class=\"dataframe\">\n",
       "  <thead>\n",
       "    <tr style=\"text-align: right;\">\n",
       "      <th></th>\n",
       "      <th>km4week</th>\n",
       "      <th>sp4week</th>\n",
       "      <th>Wall21</th>\n",
       "      <th>MarathonTime</th>\n",
       "      <th>ratio</th>\n",
       "      <th>estimate</th>\n",
       "      <th>Cat1</th>\n",
       "      <th>Cat2</th>\n",
       "      <th>Cat3</th>\n",
       "      <th>Cat4</th>\n",
       "      <th>Cat5</th>\n",
       "      <th>Cat6</th>\n",
       "    </tr>\n",
       "  </thead>\n",
       "  <tbody>\n",
       "    <tr>\n",
       "      <th>59</th>\n",
       "      <td>-0.641212</td>\n",
       "      <td>-0.126816</td>\n",
       "      <td>0.654484</td>\n",
       "      <td>0.562184</td>\n",
       "      <td>-0.422223</td>\n",
       "      <td>-0.121768</td>\n",
       "      <td>1.0</td>\n",
       "      <td>0.0</td>\n",
       "      <td>0.0</td>\n",
       "      <td>0.0</td>\n",
       "      <td>0.0</td>\n",
       "      <td>0.0</td>\n",
       "    </tr>\n",
       "    <tr>\n",
       "      <th>85</th>\n",
       "      <td>-1.108966</td>\n",
       "      <td>-0.126785</td>\n",
       "      <td>1.966380</td>\n",
       "      <td>1.692301</td>\n",
       "      <td>-0.918156</td>\n",
       "      <td>-0.111560</td>\n",
       "      <td>0.0</td>\n",
       "      <td>1.0</td>\n",
       "      <td>0.0</td>\n",
       "      <td>0.0</td>\n",
       "      <td>0.0</td>\n",
       "      <td>0.0</td>\n",
       "    </tr>\n",
       "    <tr>\n",
       "      <th>70</th>\n",
       "      <td>0.988129</td>\n",
       "      <td>-0.126491</td>\n",
       "      <td>0.841898</td>\n",
       "      <td>0.982693</td>\n",
       "      <td>1.148231</td>\n",
       "      <td>-0.123190</td>\n",
       "      <td>0.0</td>\n",
       "      <td>1.0</td>\n",
       "      <td>0.0</td>\n",
       "      <td>0.0</td>\n",
       "      <td>0.0</td>\n",
       "      <td>0.0</td>\n",
       "    </tr>\n",
       "    <tr>\n",
       "      <th>13</th>\n",
       "      <td>0.886783</td>\n",
       "      <td>-0.124776</td>\n",
       "      <td>-1.032240</td>\n",
       "      <td>-1.119851</td>\n",
       "      <td>0.479473</td>\n",
       "      <td>-0.133346</td>\n",
       "      <td>1.0</td>\n",
       "      <td>0.0</td>\n",
       "      <td>0.0</td>\n",
       "      <td>0.0</td>\n",
       "      <td>0.0</td>\n",
       "      <td>0.0</td>\n",
       "    </tr>\n",
       "    <tr>\n",
       "      <th>14</th>\n",
       "      <td>0.590539</td>\n",
       "      <td>-0.125423</td>\n",
       "      <td>-0.891679</td>\n",
       "      <td>-1.093569</td>\n",
       "      <td>0.404332</td>\n",
       "      <td>-0.132446</td>\n",
       "      <td>0.0</td>\n",
       "      <td>0.0</td>\n",
       "      <td>0.0</td>\n",
       "      <td>0.0</td>\n",
       "      <td>1.0</td>\n",
       "      <td>0.0</td>\n",
       "    </tr>\n",
       "    <tr>\n",
       "      <th>6</th>\n",
       "      <td>1.066088</td>\n",
       "      <td>-0.125677</td>\n",
       "      <td>-1.172800</td>\n",
       "      <td>-1.303823</td>\n",
       "      <td>0.915293</td>\n",
       "      <td>-0.134552</td>\n",
       "      <td>1.0</td>\n",
       "      <td>0.0</td>\n",
       "      <td>0.0</td>\n",
       "      <td>0.0</td>\n",
       "      <td>0.0</td>\n",
       "      <td>0.0</td>\n",
       "    </tr>\n",
       "    <tr>\n",
       "      <th>39</th>\n",
       "      <td>0.294295</td>\n",
       "      <td>-0.127521</td>\n",
       "      <td>-0.142024</td>\n",
       "      <td>-0.147424</td>\n",
       "      <td>0.832637</td>\n",
       "      <td>-0.128551</td>\n",
       "      <td>0.0</td>\n",
       "      <td>0.0</td>\n",
       "      <td>0.0</td>\n",
       "      <td>0.0</td>\n",
       "      <td>0.0</td>\n",
       "      <td>1.0</td>\n",
       "    </tr>\n",
       "    <tr>\n",
       "      <th>50</th>\n",
       "      <td>-0.442417</td>\n",
       "      <td>-0.127442</td>\n",
       "      <td>0.185950</td>\n",
       "      <td>0.246802</td>\n",
       "      <td>-0.039002</td>\n",
       "      <td>-0.125470</td>\n",
       "      <td>0.0</td>\n",
       "      <td>0.0</td>\n",
       "      <td>0.0</td>\n",
       "      <td>0.0</td>\n",
       "      <td>1.0</td>\n",
       "      <td>0.0</td>\n",
       "    </tr>\n",
       "    <tr>\n",
       "      <th>37</th>\n",
       "      <td>-0.372254</td>\n",
       "      <td>-0.125990</td>\n",
       "      <td>-0.095171</td>\n",
       "      <td>-0.173706</td>\n",
       "      <td>-0.339567</td>\n",
       "      <td>-0.126495</td>\n",
       "      <td>0.0</td>\n",
       "      <td>1.0</td>\n",
       "      <td>0.0</td>\n",
       "      <td>0.0</td>\n",
       "      <td>0.0</td>\n",
       "      <td>0.0</td>\n",
       "    </tr>\n",
       "    <tr>\n",
       "      <th>63</th>\n",
       "      <td>-1.596209</td>\n",
       "      <td>-0.125803</td>\n",
       "      <td>0.279656</td>\n",
       "      <td>0.667311</td>\n",
       "      <td>-1.519286</td>\n",
       "      <td>-0.116457</td>\n",
       "      <td>0.0</td>\n",
       "      <td>0.0</td>\n",
       "      <td>0.0</td>\n",
       "      <td>0.0</td>\n",
       "      <td>1.0</td>\n",
       "      <td>0.0</td>\n",
       "    </tr>\n",
       "    <tr>\n",
       "      <th>33</th>\n",
       "      <td>1.978208</td>\n",
       "      <td>-0.125902</td>\n",
       "      <td>-0.235731</td>\n",
       "      <td>-0.252552</td>\n",
       "      <td>1.854559</td>\n",
       "      <td>-0.129805</td>\n",
       "      <td>0.0</td>\n",
       "      <td>0.0</td>\n",
       "      <td>1.0</td>\n",
       "      <td>0.0</td>\n",
       "      <td>0.0</td>\n",
       "      <td>0.0</td>\n",
       "    </tr>\n",
       "    <tr>\n",
       "      <th>60</th>\n",
       "      <td>-0.719171</td>\n",
       "      <td>-0.126880</td>\n",
       "      <td>0.607630</td>\n",
       "      <td>0.641029</td>\n",
       "      <td>-0.489850</td>\n",
       "      <td>-0.121846</td>\n",
       "      <td>1.0</td>\n",
       "      <td>0.0</td>\n",
       "      <td>0.0</td>\n",
       "      <td>0.0</td>\n",
       "      <td>0.0</td>\n",
       "      <td>0.0</td>\n",
       "    </tr>\n",
       "    <tr>\n",
       "      <th>18</th>\n",
       "      <td>0.890681</td>\n",
       "      <td>-0.125710</td>\n",
       "      <td>-0.844826</td>\n",
       "      <td>-0.988442</td>\n",
       "      <td>0.765010</td>\n",
       "      <td>-0.132539</td>\n",
       "      <td>0.0</td>\n",
       "      <td>0.0</td>\n",
       "      <td>0.0</td>\n",
       "      <td>0.0</td>\n",
       "      <td>1.0</td>\n",
       "      <td>0.0</td>\n",
       "    </tr>\n",
       "    <tr>\n",
       "      <th>3</th>\n",
       "      <td>2.956592</td>\n",
       "      <td>-0.125921</td>\n",
       "      <td>-1.453920</td>\n",
       "      <td>-1.645487</td>\n",
       "      <td>2.786312</td>\n",
       "      <td>-0.137037</td>\n",
       "      <td>0.0</td>\n",
       "      <td>1.0</td>\n",
       "      <td>0.0</td>\n",
       "      <td>0.0</td>\n",
       "      <td>0.0</td>\n",
       "      <td>0.0</td>\n",
       "    </tr>\n",
       "    <tr>\n",
       "      <th>40</th>\n",
       "      <td>-0.013643</td>\n",
       "      <td>-0.125830</td>\n",
       "      <td>-0.188878</td>\n",
       "      <td>-0.068579</td>\n",
       "      <td>-0.039002</td>\n",
       "      <td>-0.127686</td>\n",
       "      <td>0.0</td>\n",
       "      <td>1.0</td>\n",
       "      <td>0.0</td>\n",
       "      <td>0.0</td>\n",
       "      <td>0.0</td>\n",
       "      <td>0.0</td>\n",
       "    </tr>\n",
       "    <tr>\n",
       "      <th>55</th>\n",
       "      <td>-1.354536</td>\n",
       "      <td>-0.125294</td>\n",
       "      <td>0.185950</td>\n",
       "      <td>0.509620</td>\n",
       "      <td>-1.346461</td>\n",
       "      <td>-0.119468</td>\n",
       "      <td>0.0</td>\n",
       "      <td>0.0</td>\n",
       "      <td>0.0</td>\n",
       "      <td>0.0</td>\n",
       "      <td>1.0</td>\n",
       "      <td>0.0</td>\n",
       "    </tr>\n",
       "    <tr>\n",
       "      <th>84</th>\n",
       "      <td>-0.243622</td>\n",
       "      <td>-0.126802</td>\n",
       "      <td>1.450992</td>\n",
       "      <td>1.666019</td>\n",
       "      <td>-0.008946</td>\n",
       "      <td>-0.118058</td>\n",
       "      <td>1.0</td>\n",
       "      <td>0.0</td>\n",
       "      <td>0.0</td>\n",
       "      <td>0.0</td>\n",
       "      <td>0.0</td>\n",
       "      <td>0.0</td>\n",
       "    </tr>\n",
       "  </tbody>\n",
       "</table>\n",
       "</div>"
      ],
      "text/plain": [
       "     km4week   sp4week    Wall21  MarathonTime     ratio  estimate  Cat1  \\\n",
       "59 -0.641212 -0.126816  0.654484      0.562184 -0.422223 -0.121768   1.0   \n",
       "85 -1.108966 -0.126785  1.966380      1.692301 -0.918156 -0.111560   0.0   \n",
       "70  0.988129 -0.126491  0.841898      0.982693  1.148231 -0.123190   0.0   \n",
       "13  0.886783 -0.124776 -1.032240     -1.119851  0.479473 -0.133346   1.0   \n",
       "14  0.590539 -0.125423 -0.891679     -1.093569  0.404332 -0.132446   0.0   \n",
       "6   1.066088 -0.125677 -1.172800     -1.303823  0.915293 -0.134552   1.0   \n",
       "39  0.294295 -0.127521 -0.142024     -0.147424  0.832637 -0.128551   0.0   \n",
       "50 -0.442417 -0.127442  0.185950      0.246802 -0.039002 -0.125470   0.0   \n",
       "37 -0.372254 -0.125990 -0.095171     -0.173706 -0.339567 -0.126495   0.0   \n",
       "63 -1.596209 -0.125803  0.279656      0.667311 -1.519286 -0.116457   0.0   \n",
       "33  1.978208 -0.125902 -0.235731     -0.252552  1.854559 -0.129805   0.0   \n",
       "60 -0.719171 -0.126880  0.607630      0.641029 -0.489850 -0.121846   1.0   \n",
       "18  0.890681 -0.125710 -0.844826     -0.988442  0.765010 -0.132539   0.0   \n",
       "3   2.956592 -0.125921 -1.453920     -1.645487  2.786312 -0.137037   0.0   \n",
       "40 -0.013643 -0.125830 -0.188878     -0.068579 -0.039002 -0.127686   0.0   \n",
       "55 -1.354536 -0.125294  0.185950      0.509620 -1.346461 -0.119468   0.0   \n",
       "84 -0.243622 -0.126802  1.450992      1.666019 -0.008946 -0.118058   1.0   \n",
       "\n",
       "    Cat2  Cat3  Cat4  Cat5  Cat6  \n",
       "59   0.0   0.0   0.0   0.0   0.0  \n",
       "85   1.0   0.0   0.0   0.0   0.0  \n",
       "70   1.0   0.0   0.0   0.0   0.0  \n",
       "13   0.0   0.0   0.0   0.0   0.0  \n",
       "14   0.0   0.0   0.0   1.0   0.0  \n",
       "6    0.0   0.0   0.0   0.0   0.0  \n",
       "39   0.0   0.0   0.0   0.0   1.0  \n",
       "50   0.0   0.0   0.0   1.0   0.0  \n",
       "37   1.0   0.0   0.0   0.0   0.0  \n",
       "63   0.0   0.0   0.0   1.0   0.0  \n",
       "33   0.0   1.0   0.0   0.0   0.0  \n",
       "60   0.0   0.0   0.0   0.0   0.0  \n",
       "18   0.0   0.0   0.0   1.0   0.0  \n",
       "3    1.0   0.0   0.0   0.0   0.0  \n",
       "40   1.0   0.0   0.0   0.0   0.0  \n",
       "55   0.0   0.0   0.0   1.0   0.0  \n",
       "84   0.0   0.0   0.0   0.0   0.0  "
      ]
     },
     "execution_count": 211,
     "metadata": {},
     "output_type": "execute_result"
    }
   ],
   "source": [
    "test_set"
   ]
  },
  {
   "cell_type": "markdown",
   "id": "fe9178c0",
   "metadata": {},
   "source": [
    "##  Model 1: (multiple) linear regression with Lasso regularizer"
   ]
  },
  {
   "cell_type": "code",
   "execution_count": 212,
   "id": "87227fdf",
   "metadata": {},
   "outputs": [],
   "source": [
    "# Use lasso regularization and experiment only with the lamda\n",
    "# value. For model 1 experiment with the regularizer term"
   ]
  },
  {
   "cell_type": "code",
   "execution_count": 213,
   "id": "037505d5",
   "metadata": {},
   "outputs": [],
   "source": [
    "from sklearn.linear_model import LinearRegression\n",
    "# Train the Linear Regression Model\n",
    "lin_reg = LinearRegression()\n",
    "lin_reg.fit(training_set, t_train)\n",
    "\n",
    "# Parameters w\n",
    "w = np.hstack((lin_reg.intercept_,lin_reg.coef_)).reshape(-1,1)"
   ]
  },
  {
   "cell_type": "code",
   "execution_count": 214,
   "id": "70b4e4e5",
   "metadata": {},
   "outputs": [
    {
     "data": {
      "text/plain": [
       "array([ 0.95641091,  0.22052068, -1.22497799,  1.77114653,  1.53461038,\n",
       "       -0.06857906, -1.88202284, -1.11985082,  0.66731118,  0.03654812,\n",
       "       -0.67306032,  0.1416753 , -0.22626982, -0.3051152 , -2.46022231,\n",
       "       -0.69934211, -1.04100544, -0.83075108,  0.03654812,  1.24551065,\n",
       "        0.40449324,  1.61345576, -1.69805029,  1.63973756,  1.48204679,\n",
       "       -1.14613261,  0.87756553, -0.56793314, -0.38396058, -0.54165135,\n",
       "        1.56089217,  0.562184  ,  1.63973756,  1.0089745 ,  0.74615656,\n",
       "       -1.25125979, -1.17241441,  0.43077503, -1.38266876,  1.19294706,\n",
       "       -1.14613261,  0.1153935 , -0.43652417,  0.87756553, -0.3051152 ,\n",
       "        0.82500194,  0.64102938, -0.19998803, -0.48908776,  0.50962041,\n",
       "       -1.06728723,  1.29807423, -1.48779593, -1.04100544,  0.06282991,\n",
       "        0.06282991, -0.41024238,  0.53590221, -0.17370623,  0.03654812,\n",
       "        0.90384732, -0.25255161, -0.96216005,  1.0089745 ])"
      ]
     },
     "execution_count": 214,
     "metadata": {},
     "output_type": "execute_result"
    }
   ],
   "source": [
    "# Make predictions for linear regression model\n",
    "y_train_lr = lin_reg.predict(training_set)\n",
    "y_train_lr"
   ]
  },
  {
   "cell_type": "markdown",
   "id": "17fdfca9",
   "metadata": {},
   "source": [
    "### Using Lasso Regularization to experiment with different lambda values:"
   ]
  },
  {
   "cell_type": "code",
   "execution_count": 215,
   "id": "a650b831",
   "metadata": {},
   "outputs": [
    {
     "data": {
      "text/plain": [
       "array([-1.2490009e-16, -1.2490009e-16, -1.2490009e-16, -1.2490009e-16,\n",
       "       -1.2490009e-16, -1.2490009e-16, -1.2490009e-16, -1.2490009e-16,\n",
       "       -1.2490009e-16, -1.2490009e-16, -1.2490009e-16, -1.2490009e-16,\n",
       "       -1.2490009e-16, -1.2490009e-16, -1.2490009e-16, -1.2490009e-16,\n",
       "       -1.2490009e-16, -1.2490009e-16, -1.2490009e-16, -1.2490009e-16,\n",
       "       -1.2490009e-16, -1.2490009e-16, -1.2490009e-16, -1.2490009e-16,\n",
       "       -1.2490009e-16, -1.2490009e-16, -1.2490009e-16, -1.2490009e-16,\n",
       "       -1.2490009e-16, -1.2490009e-16, -1.2490009e-16, -1.2490009e-16,\n",
       "       -1.2490009e-16, -1.2490009e-16, -1.2490009e-16, -1.2490009e-16,\n",
       "       -1.2490009e-16, -1.2490009e-16, -1.2490009e-16, -1.2490009e-16,\n",
       "       -1.2490009e-16, -1.2490009e-16, -1.2490009e-16, -1.2490009e-16,\n",
       "       -1.2490009e-16, -1.2490009e-16, -1.2490009e-16, -1.2490009e-16,\n",
       "       -1.2490009e-16, -1.2490009e-16, -1.2490009e-16, -1.2490009e-16,\n",
       "       -1.2490009e-16, -1.2490009e-16, -1.2490009e-16, -1.2490009e-16,\n",
       "       -1.2490009e-16, -1.2490009e-16, -1.2490009e-16, -1.2490009e-16,\n",
       "       -1.2490009e-16, -1.2490009e-16, -1.2490009e-16, -1.2490009e-16])"
      ]
     },
     "execution_count": 215,
     "metadata": {},
     "output_type": "execute_result"
    }
   ],
   "source": [
    "from sklearn.linear_model import LinearRegression\n",
    "from sklearn.linear_model import Lasso\n",
    "from sklearn.pipeline import Pipeline\n",
    "\n",
    "# lambda = 1 (default regularization parameter)\n",
    "lasso = Lasso()\n",
    "lasso.fit(training_set, t_train)\n",
    "# Making predictions\n",
    "y_train_reg = lasso.predict(training_set)\n",
    "y_train_reg"
   ]
  },
  {
   "cell_type": "code",
   "execution_count": 216,
   "id": "d48bae4e",
   "metadata": {},
   "outputs": [
    {
     "data": {
      "text/plain": [
       "array([ 0.9468468 ,  0.21831547, -1.21272821,  1.75343506,  1.51926428,\n",
       "       -0.06789327, -1.86320262, -1.10865231,  0.66063806,  0.03618264,\n",
       "       -0.66632972,  0.14025854, -0.22400712, -0.30206405, -2.43562009,\n",
       "       -0.69234869, -1.03059538, -0.82244357,  0.03618264,  1.23305554,\n",
       "        0.4004483 ,  1.5973212 , -1.68106978,  1.62334018,  1.46722632,\n",
       "       -1.13467129,  0.86878987, -0.56225381, -0.38012098, -0.53623484,\n",
       "        1.54528325,  0.55656216,  1.62334018,  0.99888475,  0.73869499,\n",
       "       -1.23874719, -1.16069026,  0.42646728, -1.36884207,  1.18101759,\n",
       "       -1.13467129,  0.11423957, -0.43215893,  0.86878987, -0.30206405,\n",
       "        0.81675192,  0.63461909, -0.19798815, -0.48419688,  0.50452421,\n",
       "       -1.05661436,  1.28509349, -1.47291797, -1.03059538,  0.06220161,\n",
       "        0.06220161, -0.40613995,  0.53054318, -0.17196917,  0.03618264,\n",
       "        0.89480885, -0.2500261 , -0.95253845,  0.99888475])"
      ]
     },
     "execution_count": 216,
     "metadata": {},
     "output_type": "execute_result"
    }
   ],
   "source": [
    "# lambda = 0.01 \n",
    "lasso1 = Lasso(alpha=0.01)\n",
    "lasso1.fit(training_set, t_train)\n",
    "# Making predictions\n",
    "y_train_reg1 = lasso1.predict(training_set)\n",
    "y_train_reg1"
   ]
  },
  {
   "cell_type": "code",
   "execution_count": 217,
   "id": "0dbb1555",
   "metadata": {},
   "outputs": [
    {
     "data": {
      "text/plain": [
       "array([ 0.95534661,  0.22015986, -1.2236265 ,  1.76958903,  1.53316698,\n",
       "       -0.06826022, -1.88018887, -1.11884627,  0.66622078,  0.03706893,\n",
       "       -0.67235406,  0.14110419, -0.22590106, -0.30460385, -2.45761715,\n",
       "       -0.69858832, -1.03986902, -0.82995569,  0.03663763,  1.24411957,\n",
       "        0.40383892,  1.61218344, -1.69627456,  1.63830008,  1.48069845,\n",
       "       -1.14496291,  0.87640856, -0.56749542, -0.38350269, -0.54110432,\n",
       "        1.55944045,  0.56132293,  1.63798641,  1.00765831,  0.7450412 ,\n",
       "       -1.24997839, -1.17139322,  0.43054369, -1.38138496,  1.19184708,\n",
       "       -1.14488449,  0.11534043, -0.43616726,  0.87715353, -0.30468227,\n",
       "        0.82448896,  0.63986889, -0.19990204, -0.48855737,  0.50901123,\n",
       "       -1.06606407,  1.29694097, -1.48616519, -1.03986902,  0.06283269,\n",
       "        0.0628719 , -0.41001141,  0.53528471, -0.17390303,  0.03644159,\n",
       "        0.90268204, -0.25256662, -0.96128385,  1.00836406])"
      ]
     },
     "execution_count": 217,
     "metadata": {},
     "output_type": "execute_result"
    }
   ],
   "source": [
    "# lambda = 0.001\n",
    "lasso2 = Lasso(alpha=0.001)\n",
    "lasso2.fit(training_set, t_train)\n",
    "# Making predictions\n",
    "y_train_reg2 = lasso2.predict(training_set)\n",
    "y_train_reg2"
   ]
  },
  {
   "cell_type": "code",
   "execution_count": 218,
   "id": "30280f3e",
   "metadata": {},
   "outputs": [
    {
     "data": {
      "text/plain": [
       "array([ 0.95632258,  0.22050606, -1.22488904,  1.77092363,  1.5344529 ,\n",
       "       -0.06858118, -1.88189641, -1.11978153,  0.66724984,  0.03654612,\n",
       "       -0.67302241,  0.14165848, -0.22627068, -0.30510701, -2.46004165,\n",
       "       -0.69929607, -1.04092778, -0.83069374,  0.03649507,  1.24535947,\n",
       "        0.40446625,  1.614254  , -1.69793198,  1.6396098 ,  1.4819001 ,\n",
       "       -1.14605734,  0.87747055, -0.56790057, -0.38393048, -0.54161702,\n",
       "        1.56077539,  0.56207799,  1.63958786,  1.008844  ,  0.74609457,\n",
       "       -1.251174  , -1.17233073,  0.43074309, -1.38259325,  1.19286261,\n",
       "       -1.14604885,  0.11535921, -0.43649579,  0.87748704, -0.30508954,\n",
       "        0.82493824,  0.64097242, -0.19998937, -0.48904508,  0.50957618,\n",
       "       -1.06720604,  1.29795546, -1.48768882, -1.04094427,  0.06280952,\n",
       "        0.06282077, -0.41022573,  0.53583371, -0.17369568,  0.03650763,\n",
       "        0.90377545, -0.25254084, -0.9621155 ,  1.0088924 ])"
      ]
     },
     "execution_count": 218,
     "metadata": {},
     "output_type": "execute_result"
    }
   ],
   "source": [
    "# lambda = 0.0001 \n",
    "lasso3 = Lasso(alpha=0.0001)\n",
    "lasso3.fit(training_set, t_train)\n",
    "# Making predictions\n",
    "y_train_reg3 = lasso3.predict(training_set)\n",
    "y_train_reg3"
   ]
  },
  {
   "cell_type": "markdown",
   "id": "0a046117",
   "metadata": {},
   "source": [
    "#### 1. Build a ```GridSearchCV``` for each model using ```scikit-learn``` pipelines. "
   ]
  },
  {
   "cell_type": "code",
   "execution_count": 219,
   "id": "45a07a47",
   "metadata": {},
   "outputs": [
    {
     "data": {
      "text/plain": [
       "{'lasso_reg__alpha': [1e-05,\n",
       "  0.0001,\n",
       "  0.00011,\n",
       "  0.001,\n",
       "  0.002,\n",
       "  0.003,\n",
       "  0.01,\n",
       "  0.1,\n",
       "  0.5,\n",
       "  1]}"
      ]
     },
     "execution_count": 219,
     "metadata": {},
     "output_type": "execute_result"
    }
   ],
   "source": [
    "from sklearn.model_selection import GridSearchCV\n",
    "\n",
    "pipe = Pipeline([('lasso_reg', Lasso())]);\n",
    "\n",
    "# Grid of paramater values for the hyperparameters\n",
    "\n",
    "param_grid_l_lasso = {'lasso_reg__alpha':[0.00001,0.0001,0.00011, \n",
    "                                          0.001,0.002,0.003, \n",
    "                                          0.01, 0.1, 0.5, 1]}\n",
    "param_grid_l_lasso"
   ]
  },
  {
   "cell_type": "code",
   "execution_count": 220,
   "id": "a474661d",
   "metadata": {},
   "outputs": [
    {
     "data": {
      "text/plain": [
       "GridSearchCV(cv=10, estimator=Pipeline(steps=[('lasso_reg', Lasso())]),\n",
       "             param_grid={'lasso_reg__alpha': [1e-05, 0.0001, 0.00011, 0.001,\n",
       "                                              0.002, 0.003, 0.01, 0.1, 0.5,\n",
       "                                              1]})"
      ]
     },
     "execution_count": 220,
     "metadata": {},
     "output_type": "execute_result"
    }
   ],
   "source": [
    "grid_search_l_lasso = GridSearchCV(pipe, \n",
    "                                   param_grid=param_grid_l_lasso,\n",
    "                                  cv=10,\n",
    "                                  refit=True);\n",
    "grid_search_l_lasso"
   ]
  },
  {
   "cell_type": "code",
   "execution_count": 221,
   "id": "26054ca3",
   "metadata": {},
   "outputs": [],
   "source": [
    "grid_search_l_lasso.fit(training_set, t_train);"
   ]
  },
  {
   "cell_type": "code",
   "execution_count": 222,
   "id": "723ef526",
   "metadata": {},
   "outputs": [
    {
     "data": {
      "text/plain": [
       "{'lasso_reg__alpha': 0.00011}"
      ]
     },
     "execution_count": 222,
     "metadata": {},
     "output_type": "execute_result"
    }
   ],
   "source": [
    "# Check best set of hyperparameters based on training data\n",
    "grid_search_l_lasso.best_params_"
   ]
  },
  {
   "cell_type": "code",
   "execution_count": 223,
   "id": "31db6f9d",
   "metadata": {},
   "outputs": [
    {
     "data": {
      "text/plain": [
       "0.9999999870492134"
      ]
     },
     "execution_count": 223,
     "metadata": {},
     "output_type": "execute_result"
    }
   ],
   "source": [
    "# Access final estimator to automatically fill alpha parameter\n",
    "# with the best value found during hyperparamter tuning \n",
    "# (lambda=0.00011)\n",
    "final_model_lin_lasso = grid_search_l_lasso.best_estimator_\n",
    "grid_search_l_lasso.best_score_"
   ]
  },
  {
   "cell_type": "markdown",
   "id": "194af488",
   "metadata": {},
   "source": [
    "\n",
    "\n",
    "#### 2. Build a ```RandomizedSearchCV``` for each model using ```scikit-learn``` pipelines. \n",
    "\n",
    "    * Consider an exponential distribution for the regularizer term $\\lambda$.\n",
    "    * Consider a uniform distribution for the number of trees.\n",
    "    \n",
    "    "
   ]
  },
  {
   "cell_type": "code",
   "execution_count": 224,
   "id": "968cbaa8",
   "metadata": {},
   "outputs": [
    {
     "data": {
      "text/plain": [
       "RandomizedSearchCV(cv=10, estimator=Pipeline(steps=[('lasso_reg', Lasso())]),\n",
       "                   n_iter=100,\n",
       "                   param_distributions={'lasso_reg__alpha': <scipy.stats._distn_infrastructure.rv_frozen object at 0x7fc1659a7fa0>})"
      ]
     },
     "execution_count": 224,
     "metadata": {},
     "output_type": "execute_result"
    }
   ],
   "source": [
    "from sklearn.model_selection import RandomizedSearchCV\n",
    "from scipy.stats import expon\n",
    "\n",
    "# model\n",
    "pipe = Pipeline([('lasso_reg', Lasso())]);\n",
    "\n",
    "param_grid_r = {'lasso_reg__alpha': expon()}\n",
    "rand_search_l_lasso = RandomizedSearchCV(pipe, \n",
    "                                         param_distributions=param_grid_r,\n",
    "                                        n_iter=100,\n",
    "                                        cv=10,\n",
    "                                        refit=True);\n",
    "rand_search_l_lasso"
   ]
  },
  {
   "cell_type": "code",
   "execution_count": 225,
   "id": "61959a2e",
   "metadata": {},
   "outputs": [],
   "source": [
    "rand_search_l_lasso.fit(training_set, t_train);"
   ]
  },
  {
   "cell_type": "code",
   "execution_count": 226,
   "id": "bcfafc19",
   "metadata": {},
   "outputs": [
    {
     "data": {
      "text/plain": [
       "{'lasso_reg__alpha': 0.007052810874333136}"
      ]
     },
     "execution_count": 226,
     "metadata": {},
     "output_type": "execute_result"
    }
   ],
   "source": [
    "# Check best set of hyperparameters based on training data\n",
    "rand_search_l_lasso.best_params_"
   ]
  },
  {
   "cell_type": "code",
   "execution_count": 227,
   "id": "76912450",
   "metadata": {},
   "outputs": [
    {
     "data": {
      "text/plain": [
       "Pipeline(steps=[('lasso_reg', Lasso(alpha=0.007052810874333136))])"
      ]
     },
     "execution_count": 227,
     "metadata": {},
     "output_type": "execute_result"
    }
   ],
   "source": [
    "rand_search_l_lasso.best_estimator_"
   ]
  },
  {
   "cell_type": "code",
   "execution_count": 228,
   "id": "76424e65",
   "metadata": {},
   "outputs": [
    {
     "data": {
      "text/plain": [
       "0.9999410339126735"
      ]
     },
     "execution_count": 228,
     "metadata": {},
     "output_type": "execute_result"
    }
   ],
   "source": [
    "rand_search_l_lasso.best_score_"
   ]
  },
  {
   "cell_type": "markdown",
   "id": "35c6562d",
   "metadata": {},
   "source": [
    "## Model 2: polynomial regression with Lasso regularizer."
   ]
  },
  {
   "cell_type": "markdown",
   "id": "d23f7113",
   "metadata": {},
   "source": [
    "For model 2, experiment with polynomial degree, the interaction_only argument and the regularizer term  𝜆 ."
   ]
  },
  {
   "cell_type": "markdown",
   "id": "72dc9f74",
   "metadata": {},
   "source": [
    "#### 1. Build a ```GridSearchCV``` for each model using ```scikit-learn``` pipelines. "
   ]
  },
  {
   "cell_type": "code",
   "execution_count": 229,
   "id": "68b8f8bd",
   "metadata": {},
   "outputs": [
    {
     "data": {
      "text/plain": [
       "{'poly_feat__degree': [1, 2, 3, 4, 5, 6, 7, 8, 9, 10, 11],\n",
       " 'lasso_reg__alpha': [0.0001,\n",
       "  0.001,\n",
       "  0.01,\n",
       "  0.02,\n",
       "  0.03,\n",
       "  0.1,\n",
       "  0.2,\n",
       "  0.3,\n",
       "  0.4,\n",
       "  0.5,\n",
       "  1],\n",
       " 'lasso_reg__tol': [0.5]}"
      ]
     },
     "execution_count": 229,
     "metadata": {},
     "output_type": "execute_result"
    }
   ],
   "source": [
    "from sklearn.preprocessing import PolynomialFeatures\n",
    "\n",
    "# Pipeline to implement polynomial features and then find the \n",
    "# solution for lasso regression (interaction set to False)            \n",
    "lasso_poly_pipe = Pipeline([('poly_feat',PolynomialFeatures()),\n",
    "                           ('lasso_reg',Lasso())])\n",
    "\n",
    "param_grid_poly = {'poly_feat__degree': list(range(1,12)),\n",
    "              'lasso_reg__alpha': [0.0001,0.001,0.01,0.02,\n",
    "                                   0.03,0.1,0.2,\n",
    "                                   0.3,0.4,0.5,1],\n",
    "                  'lasso_reg__tol':[0.5]}\n",
    "\n",
    "param_grid_poly"
   ]
  },
  {
   "cell_type": "code",
   "execution_count": 230,
   "id": "5cc52835",
   "metadata": {},
   "outputs": [
    {
     "data": {
      "text/plain": [
       "GridSearchCV(cv=10,\n",
       "             estimator=Pipeline(steps=[('poly_feat', PolynomialFeatures()),\n",
       "                                       ('lasso_reg', Lasso())]),\n",
       "             param_grid={'lasso_reg__alpha': [0.0001, 0.001, 0.01, 0.02, 0.03,\n",
       "                                              0.1, 0.2, 0.3, 0.4, 0.5, 1],\n",
       "                         'lasso_reg__tol': [0.5],\n",
       "                         'poly_feat__degree': [1, 2, 3, 4, 5, 6, 7, 8, 9, 10,\n",
       "                                               11]})"
      ]
     },
     "execution_count": 230,
     "metadata": {},
     "output_type": "execute_result"
    }
   ],
   "source": [
    "grid_search_poly = GridSearchCV(lasso_poly_pipe,\n",
    "                               param_grid=param_grid_poly,\n",
    "                               cv=10,\n",
    "                               refit=True)\n",
    "\n",
    "grid_search_poly"
   ]
  },
  {
   "cell_type": "code",
   "execution_count": 231,
   "id": "386c4036",
   "metadata": {},
   "outputs": [
    {
     "data": {
      "text/plain": [
       "GridSearchCV(cv=10,\n",
       "             estimator=Pipeline(steps=[('poly_feat', PolynomialFeatures()),\n",
       "                                       ('lasso_reg', Lasso())]),\n",
       "             param_grid={'lasso_reg__alpha': [0.0001, 0.001, 0.01, 0.02, 0.03,\n",
       "                                              0.1, 0.2, 0.3, 0.4, 0.5, 1],\n",
       "                         'lasso_reg__tol': [0.5],\n",
       "                         'poly_feat__degree': [1, 2, 3, 4, 5, 6, 7, 8, 9, 10,\n",
       "                                               11]})"
      ]
     },
     "execution_count": 231,
     "metadata": {},
     "output_type": "execute_result"
    }
   ],
   "source": [
    "# Training the parameters\n",
    "grid_search_poly.fit(training_set, t_train)"
   ]
  },
  {
   "cell_type": "code",
   "execution_count": 232,
   "id": "9592fa45",
   "metadata": {},
   "outputs": [
    {
     "data": {
      "text/plain": [
       "{'lasso_reg__alpha': 0.02, 'lasso_reg__tol': 0.5, 'poly_feat__degree': 3}"
      ]
     },
     "execution_count": 232,
     "metadata": {},
     "output_type": "execute_result"
    }
   ],
   "source": [
    "grid_search_poly.best_params_"
   ]
  },
  {
   "cell_type": "code",
   "execution_count": 233,
   "id": "eb620f07",
   "metadata": {},
   "outputs": [
    {
     "data": {
      "text/plain": [
       "Pipeline(steps=[('poly_feat', PolynomialFeatures(degree=3)),\n",
       "                ('lasso_reg', Lasso(alpha=0.02, tol=0.5))])"
      ]
     },
     "execution_count": 233,
     "metadata": {},
     "output_type": "execute_result"
    }
   ],
   "source": [
    "grid_search_poly.best_estimator_"
   ]
  },
  {
   "cell_type": "code",
   "execution_count": 234,
   "id": "b7e17567",
   "metadata": {},
   "outputs": [],
   "source": [
    "grid_search_poly.best_score_\n",
    "\n",
    "# Save the GridSearchCV as the final model for polynomial lasso regularization\n",
    "final_model_poly = grid_search_poly.best_estimator_;"
   ]
  },
  {
   "cell_type": "code",
   "execution_count": 235,
   "id": "f197e51d",
   "metadata": {},
   "outputs": [
    {
     "data": {
      "text/plain": [
       "{'poly_feat__degree': [1, 2, 3, 4, 5, 6, 7, 8, 9, 10, 11],\n",
       " 'lasso_reg__alpha': [0.0001,\n",
       "  0.001,\n",
       "  0.01,\n",
       "  0.02,\n",
       "  0.03,\n",
       "  0.1,\n",
       "  0.2,\n",
       "  0.3,\n",
       "  0.4,\n",
       "  0.5,\n",
       "  1],\n",
       " 'lasso_reg__tol': [0.5],\n",
       " 'poly_feat__interaction_only': [True]}"
      ]
     },
     "execution_count": 235,
     "metadata": {},
     "output_type": "execute_result"
    }
   ],
   "source": [
    "# Pipeline to implement polynomial features and then find the \n",
    "# solution for lasso regression (interaction set to True)            \n",
    "lasso_poly_pipe = Pipeline([('poly_feat',PolynomialFeatures()),\n",
    "                           ('lasso_reg',Lasso())]);\n",
    "\n",
    "param_grid_poly2 = {'poly_feat__degree': list(range(1,12)),\n",
    "              'lasso_reg__alpha': [0.0001,0.001,0.01,0.02,\n",
    "                                   0.03,0.1,0.2,\n",
    "                                   0.3,0.4,0.5,1],\n",
    "                  'lasso_reg__tol':[0.5],\n",
    "                  'poly_feat__interaction_only':[True]}\n",
    "\n",
    "param_grid_poly2"
   ]
  },
  {
   "cell_type": "code",
   "execution_count": 236,
   "id": "ea9daa1b",
   "metadata": {},
   "outputs": [
    {
     "data": {
      "text/plain": [
       "GridSearchCV(cv=10,\n",
       "             estimator=Pipeline(steps=[('poly_feat', PolynomialFeatures()),\n",
       "                                       ('lasso_reg', Lasso())]),\n",
       "             param_grid={'lasso_reg__alpha': [0.0001, 0.001, 0.01, 0.02, 0.03,\n",
       "                                              0.1, 0.2, 0.3, 0.4, 0.5, 1],\n",
       "                         'lasso_reg__tol': [0.5],\n",
       "                         'poly_feat__degree': [1, 2, 3, 4, 5, 6, 7, 8, 9, 10,\n",
       "                                               11],\n",
       "                         'poly_feat__interaction_only': [True]})"
      ]
     },
     "execution_count": 236,
     "metadata": {},
     "output_type": "execute_result"
    }
   ],
   "source": [
    "grid_search_poly2 = GridSearchCV(lasso_poly_pipe,\n",
    "                               param_grid=param_grid_poly2,\n",
    "                               cv=10,\n",
    "                               refit=True)\n",
    "\n",
    "grid_search_poly2"
   ]
  },
  {
   "cell_type": "code",
   "execution_count": 237,
   "id": "4c63ac0f",
   "metadata": {},
   "outputs": [],
   "source": [
    "# Training the parameters\n",
    "grid_search_poly2.fit(training_set, t_train);"
   ]
  },
  {
   "cell_type": "code",
   "execution_count": 238,
   "id": "a7ddda39",
   "metadata": {},
   "outputs": [
    {
     "data": {
      "text/plain": [
       "{'lasso_reg__alpha': 0.02,\n",
       " 'lasso_reg__tol': 0.5,\n",
       " 'poly_feat__degree': 2,\n",
       " 'poly_feat__interaction_only': True}"
      ]
     },
     "execution_count": 238,
     "metadata": {},
     "output_type": "execute_result"
    }
   ],
   "source": [
    "grid_search_poly2.best_params_"
   ]
  },
  {
   "cell_type": "code",
   "execution_count": 239,
   "id": "553e0422",
   "metadata": {},
   "outputs": [
    {
     "data": {
      "text/plain": [
       "Pipeline(steps=[('poly_feat', PolynomialFeatures(interaction_only=True)),\n",
       "                ('lasso_reg', Lasso(alpha=0.02, tol=0.5))])"
      ]
     },
     "execution_count": 239,
     "metadata": {},
     "output_type": "execute_result"
    }
   ],
   "source": [
    "grid_search_poly2.best_estimator_"
   ]
  },
  {
   "cell_type": "code",
   "execution_count": 240,
   "id": "632b57a7",
   "metadata": {},
   "outputs": [
    {
     "data": {
      "text/plain": [
       "0.8973647939100733"
      ]
     },
     "execution_count": 240,
     "metadata": {},
     "output_type": "execute_result"
    }
   ],
   "source": [
    "grid_search_poly2.best_score_"
   ]
  },
  {
   "cell_type": "code",
   "execution_count": 241,
   "id": "edd3b2ba",
   "metadata": {},
   "outputs": [],
   "source": [
    "# Access final estimator to automatically fill alpha parameter\n",
    "# with the best value found during hyperparamter tuning \n",
    "final_model_gs_poly = grid_search_poly.best_estimator_"
   ]
  },
  {
   "cell_type": "markdown",
   "id": "6bbba532",
   "metadata": {},
   "source": [
    "   "
   ]
  },
  {
   "cell_type": "markdown",
   "id": "efe993a2",
   "metadata": {},
   "source": [
    "\n",
    "\n",
    "#### 2. Build a ```RandomizedSearchCV``` for each model using ```scikit-learn``` pipelines. \n",
    "\n",
    "    * Consider an exponential distribution for the regularizer term $\\lambda$.\n",
    "    * Consider a uniform distribution for the number of trees.\n",
    "    \n",
    "    "
   ]
  },
  {
   "cell_type": "code",
   "execution_count": 242,
   "id": "e6d52e10",
   "metadata": {},
   "outputs": [
    {
     "data": {
      "text/plain": [
       "RandomizedSearchCV(cv=10,\n",
       "                   estimator=Pipeline(steps=[('poly_feat',\n",
       "                                              PolynomialFeatures()),\n",
       "                                             ('lasso_reg', Lasso())]),\n",
       "                   n_iter=100,\n",
       "                   param_distributions={'lasso_reg__alpha': [0.0001, 0.001,\n",
       "                                                             0.01, 0.02, 0.03,\n",
       "                                                             0.1, 0.2, 0.3, 0.4,\n",
       "                                                             0.5, 1],\n",
       "                                        'lasso_reg__tol': [0.5],\n",
       "                                        'poly_feat__degree': [1, 2, 3, 4, 5, 6,\n",
       "                                                              7, 8, 9, 10,\n",
       "                                                              11]})"
      ]
     },
     "execution_count": 242,
     "metadata": {},
     "output_type": "execute_result"
    }
   ],
   "source": [
    "from sklearn.model_selection import RandomizedSearchCV\n",
    "from scipy.stats import expon\n",
    "\n",
    "# model\n",
    "pipe = Pipeline([('poly_feat',PolynomialFeatures()),\n",
    "                           ('lasso_reg',Lasso())])\n",
    "\n",
    "param_grid_r = {\n",
    "              'lasso_reg__alpha': [0.0001,0.001,0.01,0.02,\n",
    "                                   0.03,0.1,0.2,\n",
    "                                   0.3,0.4,0.5,1],\n",
    "                  'lasso_reg__tol':[0.5],\n",
    "               'poly_feat__degree': list(range(1,12))}\n",
    "rand_search_poly_lasso = RandomizedSearchCV(pipe, \n",
    "                                         param_distributions=param_grid_r,\n",
    "                                        n_iter=100,\n",
    "                                        cv=10,\n",
    "                                        refit=True);\n",
    "rand_search_poly_lasso\n"
   ]
  },
  {
   "cell_type": "code",
   "execution_count": 243,
   "id": "6dd9d3e1",
   "metadata": {},
   "outputs": [],
   "source": [
    "rand_search_poly_lasso.fit(training_set, t_train);"
   ]
  },
  {
   "cell_type": "code",
   "execution_count": 244,
   "id": "6bdb743d",
   "metadata": {},
   "outputs": [
    {
     "data": {
      "text/plain": [
       "{'poly_feat__degree': 3, 'lasso_reg__tol': 0.5, 'lasso_reg__alpha': 0.02}"
      ]
     },
     "execution_count": 244,
     "metadata": {},
     "output_type": "execute_result"
    }
   ],
   "source": [
    "rand_search_poly_lasso.best_params_"
   ]
  },
  {
   "cell_type": "code",
   "execution_count": 245,
   "id": "eb39b521",
   "metadata": {},
   "outputs": [
    {
     "data": {
      "text/plain": [
       "Pipeline(steps=[('poly_feat', PolynomialFeatures(degree=3)),\n",
       "                ('lasso_reg', Lasso(alpha=0.02, tol=0.5))])"
      ]
     },
     "execution_count": 245,
     "metadata": {},
     "output_type": "execute_result"
    }
   ],
   "source": [
    "rand_search_poly_lasso.best_estimator_"
   ]
  },
  {
   "cell_type": "code",
   "execution_count": 246,
   "id": "e6717f72",
   "metadata": {},
   "outputs": [
    {
     "data": {
      "text/plain": [
       "0.9023738686642325"
      ]
     },
     "execution_count": 246,
     "metadata": {},
     "output_type": "execute_result"
    }
   ],
   "source": [
    "rand_search_poly_lasso.best_score_"
   ]
  },
  {
   "cell_type": "markdown",
   "id": "adb79b77",
   "metadata": {},
   "source": [
    "* Results GridSearchCV: When iteraction_only is false, the best polynomial degree M was 3 and \n",
    "the best regularizer term  𝜆 was 0.02\n",
    "When the iteraction_only was set to True, the best polynomial degree\n",
    "M was 2 and the best regularizer term 𝜆 was 0.02\n",
    "* Results RandomizedSeachCV: best degree M = 3 and the best polynomial degree 𝜆=0.02"
   ]
  },
  {
   "cell_type": "markdown",
   "id": "222ede80",
   "metadata": {},
   "source": [
    "## Model 3: random forest."
   ]
  },
  {
   "cell_type": "markdown",
   "id": "5bac0437",
   "metadata": {},
   "source": [
    "For model 3, experiment with the number of trees and the criterion."
   ]
  },
  {
   "cell_type": "markdown",
   "id": "c24edc9f",
   "metadata": {},
   "source": [
    "#### 1. Build a ```GridSearchCV``` for each model using ```scikit-learn``` pipelines. "
   ]
  },
  {
   "cell_type": "code",
   "execution_count": 247,
   "id": "57f01088",
   "metadata": {},
   "outputs": [
    {
     "data": {
      "text/plain": [
       "{'rand_forest__criterion': ['squared_error', 'absolute_error'],\n",
       " 'rand_forest__n_estimators': [50,\n",
       "  75,\n",
       "  100,\n",
       "  125,\n",
       "  150,\n",
       "  175,\n",
       "  200,\n",
       "  225,\n",
       "  250,\n",
       "  275,\n",
       "  300,\n",
       "  325,\n",
       "  350,\n",
       "  400]}"
      ]
     },
     "execution_count": 247,
     "metadata": {},
     "output_type": "execute_result"
    }
   ],
   "source": [
    "from sklearn.ensemble import RandomForestRegressor\n",
    "\n",
    "pipe = Pipeline([('rand_forest',RandomForestRegressor())])\n",
    "\n",
    "param_grid_rf = {'rand_forest__criterion':[\"squared_error\", \"absolute_error\"],\n",
    "                'rand_forest__n_estimators':[50, 75, 100, 125, 150,\n",
    "                                            175, 200, 225, 250, 275,\n",
    "                                            300,325,350,400]}\n",
    "\n",
    "param_grid_rf"
   ]
  },
  {
   "cell_type": "code",
   "execution_count": 248,
   "id": "6a39265e",
   "metadata": {},
   "outputs": [
    {
     "data": {
      "text/plain": [
       "GridSearchCV(cv=5,\n",
       "             estimator=Pipeline(steps=[('rand_forest',\n",
       "                                        RandomForestRegressor())]),\n",
       "             param_grid={'rand_forest__criterion': ['squared_error',\n",
       "                                                    'absolute_error'],\n",
       "                         'rand_forest__n_estimators': [50, 75, 100, 125, 150,\n",
       "                                                       175, 200, 225, 250, 275,\n",
       "                                                       300, 325, 350, 400]})"
      ]
     },
     "execution_count": 248,
     "metadata": {},
     "output_type": "execute_result"
    }
   ],
   "source": [
    "grid_search_forest = GridSearchCV(pipe,\n",
    "                               param_grid=param_grid_rf,\n",
    "                               cv=5,\n",
    "                               refit=True);\n",
    "grid_search_forest"
   ]
  },
  {
   "cell_type": "code",
   "execution_count": 249,
   "id": "a0deffc5",
   "metadata": {},
   "outputs": [],
   "source": [
    "grid_search_forest.fit(training_set,t_train);"
   ]
  },
  {
   "cell_type": "code",
   "execution_count": 250,
   "id": "d41fb0e0",
   "metadata": {},
   "outputs": [
    {
     "data": {
      "text/plain": [
       "{'rand_forest__criterion': 'absolute_error', 'rand_forest__n_estimators': 300}"
      ]
     },
     "execution_count": 250,
     "metadata": {},
     "output_type": "execute_result"
    }
   ],
   "source": [
    "grid_search_forest.best_params_"
   ]
  },
  {
   "cell_type": "code",
   "execution_count": 301,
   "id": "5fde560a",
   "metadata": {},
   "outputs": [],
   "source": [
    "grid_search_forest.best_estimator_\n",
    "\n",
    "# Save GridSearchCV as the final model for forest regression\n",
    "final_model_forest_reg = grid_search_forest.best_estimator_;"
   ]
  },
  {
   "cell_type": "code",
   "execution_count": 252,
   "id": "346e9acd",
   "metadata": {},
   "outputs": [
    {
     "data": {
      "text/plain": [
       "0.9832896989050128"
      ]
     },
     "execution_count": 252,
     "metadata": {},
     "output_type": "execute_result"
    }
   ],
   "source": [
    "grid_search_forest.best_score_"
   ]
  },
  {
   "cell_type": "markdown",
   "id": "be8dd78e",
   "metadata": {},
   "source": [
    " "
   ]
  },
  {
   "cell_type": "markdown",
   "id": "5cd43229",
   "metadata": {},
   "source": [
    "  "
   ]
  },
  {
   "cell_type": "markdown",
   "id": "85c2a11b",
   "metadata": {},
   "source": [
    "\n",
    "\n",
    "#### 2. Build a ```RandomizedSearchCV``` for each model using ```scikit-learn``` pipelines. \n",
    "\n",
    "    * Consider an exponential distribution for the regularizer term $\\lambda$.\n",
    "    * Consider a uniform distribution for the number of trees.\n",
    "    \n",
    "    "
   ]
  },
  {
   "cell_type": "code",
   "execution_count": 197,
   "id": "4b34dc12",
   "metadata": {},
   "outputs": [],
   "source": [
    "from scipy.stats import uniform\n",
    "# model\n",
    "pipe_rf = Pipeline([('rand_forest',RandomForestRegressor())]);\n",
    "\n",
    "param_grid_rf = {'rand_forest__criterion':[\"squared_error\", \"absolute_error\"],\n",
    "                'rand_forest__n_estimators':[(int)(uniform.rvs(10,350))]}\n"
   ]
  },
  {
   "cell_type": "code",
   "execution_count": 198,
   "id": "c30bd414",
   "metadata": {},
   "outputs": [
    {
     "data": {
      "text/plain": [
       "RandomizedSearchCV(cv=5,\n",
       "                   estimator=Pipeline(steps=[('rand_forest',\n",
       "                                              RandomForestRegressor())]),\n",
       "                   n_iter=1,\n",
       "                   param_distributions={'rand_forest__criterion': ['squared_error',\n",
       "                                                                   'absolute_error'],\n",
       "                                        'rand_forest__n_estimators': [88]})"
      ]
     },
     "execution_count": 198,
     "metadata": {},
     "output_type": "execute_result"
    }
   ],
   "source": [
    "rand_search_rf = RandomizedSearchCV(pipe_rf, \n",
    "                                    param_distributions=param_grid_rf,\n",
    "                                    cv=5,\n",
    "                                    n_iter=1,\n",
    "                                    refit=True);\n",
    "rand_search_rf"
   ]
  },
  {
   "cell_type": "code",
   "execution_count": 199,
   "id": "4c8ca8a3",
   "metadata": {},
   "outputs": [
    {
     "data": {
      "text/plain": [
       "RandomizedSearchCV(cv=5,\n",
       "                   estimator=Pipeline(steps=[('rand_forest',\n",
       "                                              RandomForestRegressor())]),\n",
       "                   n_iter=1,\n",
       "                   param_distributions={'rand_forest__criterion': ['squared_error',\n",
       "                                                                   'absolute_error'],\n",
       "                                        'rand_forest__n_estimators': [88]})"
      ]
     },
     "execution_count": 199,
     "metadata": {},
     "output_type": "execute_result"
    }
   ],
   "source": [
    "rand_search_rf.fit(training_set, t_train)"
   ]
  },
  {
   "cell_type": "code",
   "execution_count": 200,
   "id": "e69155b4",
   "metadata": {},
   "outputs": [
    {
     "data": {
      "text/plain": [
       "{'rand_forest__n_estimators': 88, 'rand_forest__criterion': 'absolute_error'}"
      ]
     },
     "execution_count": 200,
     "metadata": {},
     "output_type": "execute_result"
    }
   ],
   "source": [
    "rand_search_rf.best_params_"
   ]
  },
  {
   "cell_type": "code",
   "execution_count": 201,
   "id": "5b788826",
   "metadata": {},
   "outputs": [
    {
     "data": {
      "text/plain": [
       "Pipeline(steps=[('rand_forest',\n",
       "                 RandomForestRegressor(criterion='absolute_error',\n",
       "                                       n_estimators=88))])"
      ]
     },
     "execution_count": 201,
     "metadata": {},
     "output_type": "execute_result"
    }
   ],
   "source": [
    "rand_search_rf.best_estimator_"
   ]
  },
  {
   "cell_type": "code",
   "execution_count": 254,
   "id": "cd740334",
   "metadata": {},
   "outputs": [
    {
     "data": {
      "text/plain": [
       "0.9818136615212172"
      ]
     },
     "execution_count": 254,
     "metadata": {},
     "output_type": "execute_result"
    }
   ],
   "source": [
    "rand_search_rf.best_score_"
   ]
  },
  {
   "cell_type": "markdown",
   "id": "a870a635",
   "metadata": {},
   "source": [
    "* Results GridSearchCV: best criteron= 'absolute_error', best number of trees=300\n",
    "* Results RandomSearchCV: best criterion = 'absolute_error', best number of trees=88"
   ]
  },
  {
   "cell_type": "markdown",
   "id": "7423c43e",
   "metadata": {},
   "source": [
    "#### Which set of hyperparmeters worked best for each model? "
   ]
  },
  {
   "cell_type": "markdown",
   "id": "cc88327e",
   "metadata": {},
   "source": [
    "* Model 1:\n",
    "    - 𝜆 = 0.00011\n",
    "* Model 2:\n",
    "   - 𝜆 = 0.02\n",
    "   - M = 3\n",
    "   - Iteraction_only = False\n",
    "* Model 3:\n",
    "   - number of trees = 150\n",
    "   - criterion = 'absolute error'"
   ]
  },
  {
   "cell_type": "markdown",
   "id": "e572b569",
   "metadata": {},
   "source": [
    " "
   ]
  },
  {
   "cell_type": "markdown",
   "id": "a082bdd1",
   "metadata": {},
   "source": [
    "#### 4. Train the final models and save them as ```pickle``` files. (See bottom of lecture 5 part 1 for an example.)"
   ]
  },
  {
   "cell_type": "code",
   "execution_count": 268,
   "id": "680e3e06",
   "metadata": {},
   "outputs": [
    {
     "data": {
      "text/plain": [
       "['final_model_lin_lasso.pkl']"
      ]
     },
     "execution_count": 268,
     "metadata": {},
     "output_type": "execute_result"
    }
   ],
   "source": [
    "import joblib\n",
    "\n",
    "# Train final model for linear regression with lasso regularization\n",
    "\n",
    "final_model_lin_lasso\n",
    "joblib.dump(final_model_lin_lasso,'final_model_lin_lasso.pkl')"
   ]
  },
  {
   "cell_type": "code",
   "execution_count": 269,
   "id": "429cfd7f",
   "metadata": {},
   "outputs": [
    {
     "data": {
      "text/plain": [
       "['final_model_poly.pkl']"
      ]
     },
     "execution_count": 269,
     "metadata": {},
     "output_type": "execute_result"
    }
   ],
   "source": [
    "# Train final model for polynomial regression with lasso regularization\n",
    "\n",
    "final_model_poly\n",
    "joblib.dump(final_model_poly,'final_model_poly.pkl')"
   ]
  },
  {
   "cell_type": "code",
   "execution_count": 270,
   "id": "67ef906f",
   "metadata": {},
   "outputs": [
    {
     "data": {
      "text/plain": [
       "['final_model_forest_reg.pkl']"
      ]
     },
     "execution_count": 270,
     "metadata": {},
     "output_type": "execute_result"
    }
   ],
   "source": [
    "# Train final model for random forest regression\n",
    "\n",
    "final_model_forest_reg\n",
    "joblib.dump(final_model_forest_reg,'final_model_forest_reg.pkl')"
   ]
  },
  {
   "cell_type": "markdown",
   "id": "8c066db3",
   "metadata": {},
   "source": [
    "# Question 2 (17.5 points)"
   ]
  },
  {
   "cell_type": "markdown",
   "id": "93c447b2",
   "metadata": {},
   "source": [
    "1. Load your trained models and evaluate the performance in the test set.\n",
    "\n",
    "2. Report the RMSE performance and the 95% CI.\n",
    "\n",
    "3. Based on these results, which model would you select?"
   ]
  },
  {
   "cell_type": "code",
   "execution_count": 302,
   "id": "a04f3ecb",
   "metadata": {},
   "outputs": [
    {
     "name": "stdout",
     "output_type": "stream",
     "text": [
      "RMSE Train:  0.00011000000000006289\n",
      "RMSE Test:  0.00010689240386261003\n"
     ]
    }
   ],
   "source": [
    "from sklearn.metrics import mean_squared_error\n",
    "import matplotlib.pyplot as plt\n",
    "from scipy import stats\n",
    "\n",
    "# Load model for linear regression with lasso regularization\n",
    "lin_lasso_loaded = joblib.load('final_model_lin_lasso.pkl')\n",
    "\n",
    "#Predictions\n",
    "y_train_lin = lin_lasso_loaded.predict(training_set)\n",
    "y_test_lin = lin_lasso_loaded.predict(test_set)\n",
    "\n",
    "final_rmse_train_lin = np.sqrt(mean_squared_error(t_train,y_train_lin))\n",
    "print('RMSE Train: ', final_rmse_train_lin)\n",
    "\n",
    "final_rmse_test_lin = np.sqrt(mean_squared_error(t_test, y_test_lin))\n",
    "print('RMSE Test: ', final_rmse_test_lin)"
   ]
  },
  {
   "cell_type": "code",
   "execution_count": 303,
   "id": "cf8b088d",
   "metadata": {},
   "outputs": [
    {
     "data": {
      "text/plain": [
       "(7.160385460773568e-05, 0.0001331347438213215)"
      ]
     },
     "execution_count": 303,
     "metadata": {},
     "output_type": "execute_result"
    }
   ],
   "source": [
    "confidence = 0.95 \n",
    "squared_errors = (t_test - y_test_lin) ** 2 \n",
    "T = stats.t(df=len(squared_errors)-1,\n",
    "           loc = squared_errors.mean(),\n",
    "           scale=squared_errors.std(ddof=1)/np.sqrt(len(squared_errors)))\n",
    "np.sqrt(T.ppf(0.025)), np.sqrt(T.ppf(0.975))\n",
    "# 95% CI"
   ]
  },
  {
   "cell_type": "code",
   "execution_count": 304,
   "id": "6798e435",
   "metadata": {},
   "outputs": [
    {
     "name": "stdout",
     "output_type": "stream",
     "text": [
      "RMSE Train:  0.19624057311681423\n",
      "RMSE Test:  0.1990815158421269\n"
     ]
    }
   ],
   "source": [
    "# Load model for polynomial regression with lasso regularization\n",
    "poly_lasso_loaded = joblib.load('final_model_poly.pkl')\n",
    "\n",
    "#Predictions\n",
    "y_train_poly = poly_lasso_loaded.predict(training_set)\n",
    "y_test_poly = poly_lasso_loaded.predict(test_set)\n",
    "\n",
    "final_rmse_train_poly = np.sqrt(mean_squared_error(t_train,y_train_poly))\n",
    "print('RMSE Train: ', final_rmse_train_poly)\n",
    "\n",
    "final_rmse_test_poly = np.sqrt(mean_squared_error(t_test, y_test_poly))\n",
    "print('RMSE Test: ', final_rmse_test_poly)"
   ]
  },
  {
   "cell_type": "code",
   "execution_count": 305,
   "id": "5f8de46b",
   "metadata": {},
   "outputs": [
    {
     "data": {
      "text/plain": [
       "(0.07546779380266869, 0.2712406901601527)"
      ]
     },
     "execution_count": 305,
     "metadata": {},
     "output_type": "execute_result"
    }
   ],
   "source": [
    "confidence = 0.95 \n",
    "squared_errors = (t_test - y_test_poly) ** 2 \n",
    "T = stats.t(df=len(squared_errors)-1,\n",
    "           loc = squared_errors.mean(),\n",
    "           scale=squared_errors.std(ddof=1)/np.sqrt(len(squared_errors)))\n",
    "np.sqrt(T.ppf(0.025)), np.sqrt(T.ppf(0.975))\n",
    "# 95% CI"
   ]
  },
  {
   "cell_type": "code",
   "execution_count": 306,
   "id": "4b6325b2",
   "metadata": {},
   "outputs": [
    {
     "name": "stdout",
     "output_type": "stream",
     "text": [
      "RMSE Train:  0.04872297941457989\n",
      "RMSE Test:  0.06292372323367616\n"
     ]
    }
   ],
   "source": [
    "# Load model for random forest regression \n",
    "forest_reg_loaded = joblib.load('final_model_forest_reg.pkl')\n",
    "\n",
    "#Predictions\n",
    "y_train_fr = forest_reg_loaded.predict(training_set)\n",
    "y_test_fr = forest_reg_loaded.predict(test_set)\n",
    "\n",
    "final_rmse_train_fr = np.sqrt(mean_squared_error(t_train,y_train_fr))\n",
    "print('RMSE Train: ', final_rmse_train_fr)\n",
    "\n",
    "final_rmse_test_fr = np.sqrt(mean_squared_error(t_test, y_test_fr))\n",
    "print('RMSE Test: ', final_rmse_test_fr)"
   ]
  },
  {
   "cell_type": "code",
   "execution_count": 307,
   "id": "fa04e561",
   "metadata": {},
   "outputs": [
    {
     "name": "stderr",
     "output_type": "stream",
     "text": [
      "/var/folders/1_/2tjx84411dl0n9rvnrjdns8c0000gn/T/ipykernel_1132/1697473024.py:6: RuntimeWarning: invalid value encountered in sqrt\n",
      "  np.sqrt(T.ppf(0.025)), np.sqrt(T.ppf(0.975))\n"
     ]
    },
    {
     "data": {
      "text/plain": [
       "(nan, 0.0919004147236293)"
      ]
     },
     "execution_count": 307,
     "metadata": {},
     "output_type": "execute_result"
    }
   ],
   "source": [
    "confidence = 0.95 \n",
    "squared_errors = (t_test - y_test_fr) ** 2 \n",
    "T = stats.t(df=len(squared_errors)-1,\n",
    "           loc = squared_errors.mean(),\n",
    "           scale=squared_errors.std(ddof=1)/np.sqrt(len(squared_errors)))\n",
    "np.sqrt(T.ppf(0.025)), np.sqrt(T.ppf(0.975))\n",
    "\n",
    "# 95% CI"
   ]
  },
  {
   "cell_type": "markdown",
   "id": "455411ef",
   "metadata": {},
   "source": [
    "Based on these results, I would choose the Linear regression with Lasso regularizer\n",
    "based on the RMSE score and CI."
   ]
  },
  {
   "cell_type": "markdown",
   "id": "7ba94cfe",
   "metadata": {},
   "source": [
    "___\n",
    "\n",
    "# Submit Your Solution\n",
    "\n",
    "Confirm that you've successfully completed the assignment.\n",
    "\n",
    "Along with the Notebook, include a PDF of the notebook with your solutions.\n",
    "\n",
    "```add``` and ```commit``` the final version of your work, and ```push``` your code to your GitHub repository.\n",
    "\n",
    "Submit the URL of your GitHub Repository as your assignment submission on Canvas.\n",
    "\n",
    "___"
   ]
  }
 ],
 "metadata": {
  "kernelspec": {
   "display_name": "Python 3 (ipykernel)",
   "language": "python",
   "name": "python3"
  },
  "language_info": {
   "codemirror_mode": {
    "name": "ipython",
    "version": 3
   },
   "file_extension": ".py",
   "mimetype": "text/x-python",
   "name": "python",
   "nbconvert_exporter": "python",
   "pygments_lexer": "ipython3",
   "version": "3.9.12"
  },
  "latex_envs": {
   "LaTeX_envs_menu_present": true,
   "autoclose": false,
   "autocomplete": true,
   "bibliofile": "biblio.bib",
   "cite_by": "apalike",
   "current_citInitial": 1,
   "eqLabelWithNumbers": true,
   "eqNumInitial": 1,
   "hotkeys": {
    "equation": "Ctrl-E",
    "itemize": "Ctrl-I"
   },
   "labels_anchors": false,
   "latex_user_defs": false,
   "report_style_numbering": false,
   "user_envs_cfg": false
  },
  "varInspector": {
   "cols": {
    "lenName": 16,
    "lenType": 16,
    "lenVar": 40
   },
   "kernels_config": {
    "python": {
     "delete_cmd_postfix": "",
     "delete_cmd_prefix": "del ",
     "library": "var_list.py",
     "varRefreshCmd": "print(var_dic_list())"
    },
    "r": {
     "delete_cmd_postfix": ") ",
     "delete_cmd_prefix": "rm(",
     "library": "var_list.r",
     "varRefreshCmd": "cat(var_dic_list()) "
    }
   },
   "types_to_exclude": [
    "module",
    "function",
    "builtin_function_or_method",
    "instance",
    "_Feature"
   ],
   "window_display": false
  }
 },
 "nbformat": 4,
 "nbformat_minor": 5
}
