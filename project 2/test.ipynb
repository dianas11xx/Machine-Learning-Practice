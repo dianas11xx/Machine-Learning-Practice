{
 "cells": [
  {
   "cell_type": "markdown",
   "id": "49679e72",
   "metadata": {},
   "source": [
    "# Testing models trained"
   ]
  },
  {
   "cell_type": "code",
   "execution_count": 4,
   "id": "43d9afa1",
   "metadata": {},
   "outputs": [
    {
     "name": "stdout",
     "output_type": "stream",
     "text": [
      "(2880, 90000) (2880,)\n"
     ]
    }
   ],
   "source": [
    "import numpy as np\n",
    "# Loading Test Data\n",
    "X_test = np.load('data_test.npy').T\n",
    "t_test = np.load('labels_test.npy')\n",
    "\n",
    "print(X_test.shape, t_test.shape)"
   ]
  },
  {
   "cell_type": "markdown",
   "id": "1fb9568a",
   "metadata": {},
   "source": [
    "## Downsample X_test from (300x300) to (50x50). Please note that this downsample will be used for the rest of the project"
   ]
  },
  {
   "cell_type": "code",
   "execution_count": 5,
   "id": "d2bcab8b",
   "metadata": {},
   "outputs": [
    {
     "data": {
      "text/plain": [
       "(2880, 2500)"
      ]
     },
     "execution_count": 5,
     "metadata": {},
     "output_type": "execute_result"
    }
   ],
   "source": [
    "import cv2\n",
    "# reshape data \n",
    "X = []\n",
    "for i in range(X_test.shape[0]):\n",
    "    # reshape training set\n",
    "    im1 = X_test[i,:].reshape(300,300)\n",
    "    res = cv2.resize(im1, dsize=(50,50), interpolation=cv2.INTER_CUBIC)\n",
    "    X.append(res.reshape(2500))\n",
    "\n",
    "X_test = X\n",
    "np.shape(X_test)"
   ]
  },
  {
   "cell_type": "markdown",
   "id": "0ae3abc2",
   "metadata": {},
   "source": [
    "## Problem 1"
   ]
  },
  {
   "cell_type": "markdown",
   "id": "0358b951",
   "metadata": {},
   "source": [
    "### Part 1: Evaluate performance for RFE with logistic regression as the estimator"
   ]
  },
  {
   "cell_type": "code",
   "execution_count": 4,
   "id": "eca2a760",
   "metadata": {},
   "outputs": [
    {
     "data": {
      "text/plain": [
       "Pipeline(steps=[('scaler', StandardScaler()),\n",
       "                ('RFE',\n",
       "                 RFE(estimator=LogisticRegression(max_iter=20), step=10)),\n",
       "                ('classifier', LogisticRegression(max_iter=20))])"
      ]
     },
     "execution_count": 4,
     "metadata": {},
     "output_type": "execute_result"
    }
   ],
   "source": [
    "import joblib\n",
    "#import trained model\n",
    "pipe_M1_p1 = joblib.load('pipelines/pipe_Q1_M1');\n",
    "pipe_M1_p1"
   ]
  },
  {
   "cell_type": "code",
   "execution_count": 11,
   "id": "ab036176",
   "metadata": {},
   "outputs": [
    {
     "data": {
      "text/plain": [
       "array([False, False, False, ..., False, False, False])"
      ]
     },
     "execution_count": 11,
     "metadata": {},
     "output_type": "execute_result"
    }
   ],
   "source": [
    "#import list of pixels that are selected from RFE(binary mask)\n",
    "binary_mask = joblib.load('lists/binary_mask_Q1_M1');\n",
    "binary_mask"
   ]
  },
  {
   "cell_type": "code",
   "execution_count": 24,
   "id": "0f3ff8fe",
   "metadata": {},
   "outputs": [
    {
     "data": {
      "text/plain": [
       "array([118, 116, 126, ...,  85,  82,  49])"
      ]
     },
     "execution_count": 24,
     "metadata": {},
     "output_type": "execute_result"
    }
   ],
   "source": [
    "# import the list of pixels ranked from RFE\n",
    "ranking1 = joblib.load('lists/ranking_Q1_M1');\n",
    "ranking1"
   ]
  },
  {
   "cell_type": "markdown",
   "id": "b042933e",
   "metadata": {},
   "source": [
    "#### Display which pixels are selected"
   ]
  },
  {
   "cell_type": "code",
   "execution_count": 25,
   "id": "7194ab0f",
   "metadata": {},
   "outputs": [
    {
     "data": {
      "image/png": "[encoded data removed]",
      "text/plain": [
       "<Figure size 1440x720 with 2 Axes>"
      ]
     },
     "metadata": {
      "needs_background": "light"
     },
     "output_type": "display_data"
    }
   ],
   "source": [
    "import matplotlib.pyplot as plt\n",
    "plt.figure(figsize=(20,10))\n",
    "img = binary_mask.reshape(50,50);\n",
    "plt.imshow(img, cmap='gray')\n",
    "plt.colorbar();"
   ]
  },
  {
   "cell_type": "code",
   "execution_count": 26,
   "id": "56c42c47",
   "metadata": {},
   "outputs": [
    {
     "data": {
      "image/png": "[encoded data removed]",
      "text/plain": [
       "<Figure size 1440x720 with 1 Axes>"
      ]
     },
     "metadata": {
      "needs_background": "light"
     },
     "output_type": "display_data"
    }
   ],
   "source": [
    "plt.figure(figsize=(20,10))\n",
    "img = ranking1.reshape(50,50);\n",
    "orig_map = plt.cm.get_cmap(plt.cm.rainbow);\n",
    "reversed_map = orig_map.reversed();\n",
    "plt.imshow(img, cmap=reversed_map);"
   ]
  },
  {
   "cell_type": "code",
   "execution_count": 7,
   "id": "bda7ba81",
   "metadata": {},
   "outputs": [],
   "source": [
    "# Apply transformations to test set\n",
    "y_test_M1 = pipe_M1_p1.predict(X_test)"
   ]
  },
  {
   "cell_type": "code",
   "execution_count": 8,
   "id": "0d32b75a",
   "metadata": {},
   "outputs": [
    {
     "name": "stdout",
     "output_type": "stream",
     "text": [
      "\n",
      "\n",
      "Test Set Performance\n",
      "Accuracy Score: 40.763888888888886 %\n",
      "Performance Report: \n",
      "              precision    recall  f1-score   support\n",
      "\n",
      "         0.0       0.41      0.44      0.42       275\n",
      "         1.0       0.34      0.39      0.36       270\n",
      "         2.0       0.41      0.49      0.45       287\n",
      "         3.0       0.43      0.43      0.43       295\n",
      "         4.0       0.37      0.35      0.36       309\n",
      "         5.0       0.41      0.37      0.39       297\n",
      "         6.0       0.45      0.45      0.45       291\n",
      "         7.0       0.33      0.47      0.38       278\n",
      "         8.0       0.49      0.33      0.39       292\n",
      "         9.0       0.52      0.37      0.44       286\n",
      "\n",
      "    accuracy                           0.41      2880\n",
      "   macro avg       0.42      0.41      0.41      2880\n",
      "weighted avg       0.42      0.41      0.41      2880\n",
      "\n",
      "\n",
      "\n",
      "\n"
     ]
    }
   ],
   "source": [
    "# Evaluate performance\n",
    "from sklearn.metrics import classification_report\n",
    "\n",
    "print('\\n\\nTest Set Performance')\n",
    "print('Accuracy Score:', pipe_M1_p1.score(X_test,t_test)*100,'%') \n",
    "print('Performance Report: ')\n",
    "print(classification_report(t_test,y_test_M1))\n",
    "print('\\n\\n')"
   ]
  },
  {
   "cell_type": "markdown",
   "id": "f378afaf",
   "metadata": {},
   "source": [
    "### Part 2: Evaluate performance for RFE with decison tree as the estimator"
   ]
  },
  {
   "cell_type": "code",
   "execution_count": 15,
   "id": "c9de715e",
   "metadata": {},
   "outputs": [
    {
     "data": {
      "text/plain": [
       "Pipeline(steps=[('scaler', StandardScaler()),\n",
       "                ('RFE',\n",
       "                 RFE(estimator=DecisionTreeClassifier(max_depth=40,\n",
       "                                                      min_samples_leaf=10),\n",
       "                     step=20)),\n",
       "                ('classifier',\n",
       "                 DecisionTreeClassifier(max_depth=40, min_samples_leaf=10))])"
      ]
     },
     "execution_count": 15,
     "metadata": {},
     "output_type": "execute_result"
    }
   ],
   "source": [
    "#import trained model\n",
    "pipe_M2_p1 = joblib.load('pipelines/pipe_Q1_M2');\n",
    "pipe_M2_p1"
   ]
  },
  {
   "cell_type": "code",
   "execution_count": 16,
   "id": "c83089bc",
   "metadata": {},
   "outputs": [
    {
     "data": {
      "text/plain": [
       "array([ True,  True,  True, ..., False, False, False])"
      ]
     },
     "execution_count": 16,
     "metadata": {},
     "output_type": "execute_result"
    }
   ],
   "source": [
    "#import list of pixels that are selected from RFE(binary mask)\n",
    "binary_mask2 = joblib.load('lists/binary_mask_Q1_M2');\n",
    "binary_mask2"
   ]
  },
  {
   "cell_type": "code",
   "execution_count": 27,
   "id": "0cd4b5e2",
   "metadata": {},
   "outputs": [
    {
     "data": {
      "text/plain": [
       "array([ 1,  1,  1, ..., 52, 57, 62])"
      ]
     },
     "execution_count": 27,
     "metadata": {},
     "output_type": "execute_result"
    }
   ],
   "source": [
    "# import the list of pixels ranked from RFE\n",
    "ranking2 = joblib.load('lists/ranking_Q1_M2');\n",
    "ranking2"
   ]
  },
  {
   "cell_type": "markdown",
   "id": "1fa552d2",
   "metadata": {},
   "source": [
    "#### Display which pixels are selected"
   ]
  },
  {
   "cell_type": "code",
   "execution_count": 28,
   "id": "b088ddf4",
   "metadata": {},
   "outputs": [
    {
     "data": {
      "image/png": "[encoded data removed]",
      "text/plain": [
       "<Figure size 1440x720 with 2 Axes>"
      ]
     },
     "metadata": {
      "needs_background": "light"
     },
     "output_type": "display_data"
    }
   ],
   "source": [
    "import matplotlib.pyplot as plt\n",
    "plt.figure(figsize=(20,10))\n",
    "img = binary_mask2.reshape(50,50);\n",
    "plt.imshow(img, cmap='gray')\n",
    "plt.colorbar();"
   ]
  },
  {
   "cell_type": "code",
   "execution_count": 29,
   "id": "01f91326",
   "metadata": {},
   "outputs": [
    {
     "data": {
      "image/png": "[encoded data removed]",
      "text/plain": [
       "<Figure size 1440x720 with 1 Axes>"
      ]
     },
     "metadata": {
      "needs_background": "light"
     },
     "output_type": "display_data"
    }
   ],
   "source": [
    "plt.figure(figsize=(20,10))\n",
    "img = ranking2.reshape(50,50);\n",
    "orig_map = plt.cm.get_cmap(plt.cm.rainbow);\n",
    "reversed_map = orig_map.reversed();\n",
    "plt.imshow(img, cmap=reversed_map);"
   ]
  },
  {
   "cell_type": "code",
   "execution_count": 17,
   "id": "4a28d1e9",
   "metadata": {},
   "outputs": [],
   "source": [
    "# Apply transformations to test set\n",
    "y_test_M2 = pipe_M2_p1.predict(X_test)"
   ]
  },
  {
   "cell_type": "code",
   "execution_count": 30,
   "id": "24b2aede",
   "metadata": {},
   "outputs": [
    {
     "name": "stdout",
     "output_type": "stream",
     "text": [
      "\n",
      "\n",
      "Test Set Performance\n",
      "Accuracy Score: 22.67361111111111 %\n",
      "Performance Report: \n",
      "              precision    recall  f1-score   support\n",
      "\n",
      "         0.0       0.24      0.24      0.24       275\n",
      "         1.0       0.16      0.21      0.19       270\n",
      "         2.0       0.31      0.36      0.33       287\n",
      "         3.0       0.17      0.18      0.18       295\n",
      "         4.0       0.28      0.27      0.28       309\n",
      "         5.0       0.22      0.20      0.21       297\n",
      "         6.0       0.20      0.17      0.18       291\n",
      "         7.0       0.19      0.21      0.20       278\n",
      "         8.0       0.25      0.18      0.21       292\n",
      "         9.0       0.26      0.22      0.24       286\n",
      "\n",
      "    accuracy                           0.23      2880\n",
      "   macro avg       0.23      0.23      0.23      2880\n",
      "weighted avg       0.23      0.23      0.23      2880\n",
      "\n",
      "\n",
      "\n",
      "\n"
     ]
    }
   ],
   "source": [
    "# Evaluate performance\n",
    "\n",
    "print('\\n\\nTest Set Performance')\n",
    "print('Accuracy Score:', pipe_M2_p1.score(X_test,t_test)*100,'%') \n",
    "print('Performance Report: ')\n",
    "print(classification_report(t_test,y_test_M2))\n",
    "print('\\n\\n')"
   ]
  },
  {
   "cell_type": "markdown",
   "id": "b6ae6292",
   "metadata": {},
   "source": [
    "## Problem 2"
   ]
  },
  {
   "cell_type": "markdown",
   "id": "0e3f1f19",
   "metadata": {},
   "source": [
    "### Part 1: Evaluate performance on original dataset (SVM with no PCA)"
   ]
  },
  {
   "cell_type": "code",
   "execution_count": 1,
   "id": "0979afc3",
   "metadata": {},
   "outputs": [
    {
     "data": {
      "text/plain": [
       "Pipeline(steps=[('scaler', StandardScaler()),\n",
       "                ('SVM', SVC(class_weight='balanced'))])"
      ]
     },
     "execution_count": 1,
     "metadata": {},
     "output_type": "execute_result"
    }
   ],
   "source": [
    "import joblib\n",
    "#import trained model\n",
    "pipe_M1_p2 = joblib.load('pipelines/pipe_Q2_nPCA');\n",
    "pipe_M1_p2"
   ]
  },
  {
   "cell_type": "code",
   "execution_count": 7,
   "id": "62486603",
   "metadata": {},
   "outputs": [],
   "source": [
    "from time import time\n",
    "# Predict the labels for the test set and measure the time for\n",
    "# classifier on original dataset (no PCA)\n",
    "t0 = time()\n",
    "y_test1 = pipe_M1_p2.predict(X_test)\n",
    "t1 = time()"
   ]
  },
  {
   "cell_type": "code",
   "execution_count": 8,
   "id": "7859763d",
   "metadata": {},
   "outputs": [
    {
     "name": "stdout",
     "output_type": "stream",
     "text": [
      "Test prediction time with no PCA: 19 sec \n",
      "Accuracy in Test: 42.46527777777778 %\n",
      "\n",
      "Performance Report: \n",
      "              precision    recall  f1-score   support\n",
      "\n",
      "         0.0       0.35      0.48      0.41       275\n",
      "         1.0       0.37      0.39      0.38       270\n",
      "         2.0       0.33      0.66      0.44       287\n",
      "         3.0       0.52      0.44      0.48       295\n",
      "         4.0       0.53      0.31      0.39       309\n",
      "         5.0       0.39      0.38      0.38       297\n",
      "         6.0       0.55      0.45      0.50       291\n",
      "         7.0       0.39      0.39      0.39       278\n",
      "         8.0       0.55      0.35      0.43       292\n",
      "         9.0       0.51      0.41      0.45       286\n",
      "\n",
      "    accuracy                           0.42      2880\n",
      "   macro avg       0.45      0.43      0.42      2880\n",
      "weighted avg       0.45      0.42      0.42      2880\n",
      "\n",
      "\n",
      "\n",
      "\n"
     ]
    }
   ],
   "source": [
    "from sklearn.metrics import accuracy_score\n",
    "from sklearn.metrics import classification_report\n",
    "print(\"Test prediction time with no PCA: %.2g sec \" % (t1-t0))\n",
    "print('Accuracy in Test:', accuracy_score(t_test, y_test1)*100,'%\\n')\n",
    "print('Performance Report: ')\n",
    "print(classification_report(t_test,y_test1))\n",
    "print('\\n\\n')"
   ]
  },
  {
   "cell_type": "markdown",
   "id": "bf3b96e6",
   "metadata": {},
   "source": [
    "### Part 2: Evaluate performance on reduced dataset (SVM with PCA)"
   ]
  },
  {
   "cell_type": "code",
   "execution_count": 9,
   "id": "2e6fbfa0",
   "metadata": {},
   "outputs": [
    {
     "data": {
      "text/plain": [
       "Pipeline(steps=[('scaler', StandardScaler()), ('PCA', PCA(n_components=185)),\n",
       "                ('SVM', SVC(class_weight='balanced'))])"
      ]
     },
     "execution_count": 9,
     "metadata": {},
     "output_type": "execute_result"
    }
   ],
   "source": [
    "#import trained model\n",
    "pipe_M2_p2 = joblib.load('pipelines/pipe_Q2_PCA');\n",
    "pipe_M2_p2"
   ]
  },
  {
   "cell_type": "code",
   "execution_count": 10,
   "id": "fea58de8",
   "metadata": {},
   "outputs": [],
   "source": [
    "# Predict the labels for the test set and measure the time for\n",
    "# classifier on reduced dataset\n",
    "t0 = time()\n",
    "y_test2 = pipe_M2_p2.predict(X_test)\n",
    "t1 = time()"
   ]
  },
  {
   "cell_type": "code",
   "execution_count": 11,
   "id": "f874f267",
   "metadata": {},
   "outputs": [
    {
     "name": "stdout",
     "output_type": "stream",
     "text": [
      "Test prediction time with PCA: 3.5 sec \n",
      "Accuracy in Test: 43.854166666666664 %\n",
      "\n",
      "Performance Report: \n",
      "              precision    recall  f1-score   support\n",
      "\n",
      "         0.0       0.37      0.49      0.42       275\n",
      "         1.0       0.40      0.41      0.40       270\n",
      "         2.0       0.35      0.66      0.45       287\n",
      "         3.0       0.53      0.45      0.49       295\n",
      "         4.0       0.56      0.34      0.42       309\n",
      "         5.0       0.41      0.40      0.40       297\n",
      "         6.0       0.53      0.46      0.49       291\n",
      "         7.0       0.38      0.38      0.38       278\n",
      "         8.0       0.56      0.38      0.45       292\n",
      "         9.0       0.53      0.42      0.47       286\n",
      "\n",
      "    accuracy                           0.44      2880\n",
      "   macro avg       0.46      0.44      0.44      2880\n",
      "weighted avg       0.46      0.44      0.44      2880\n",
      "\n",
      "\n",
      "\n",
      "\n"
     ]
    }
   ],
   "source": [
    "print(\"Test prediction time with PCA: %.2g sec \" % (t1-t0))\n",
    "print('Accuracy in Test:', accuracy_score(t_test, y_test2)*100,'%\\n')\n",
    "print('Performance Report: ')\n",
    "print(classification_report(t_test,y_test2))\n",
    "print('\\n\\n')"
   ]
  },
  {
   "cell_type": "markdown",
   "id": "a99656c0",
   "metadata": {},
   "source": [
    "#### Discussion"
   ]
  },
  {
   "cell_type": "markdown",
   "id": "003052d2",
   "metadata": {},
   "source": [
    "The results from the testing dataset differ a lot from the training set evaluations. In the training set, the accuracy for the original dataset with no PCA was higher than the reduced dataset, but in the test set, the accuracy score is higher for the reduced dataset. The prediction time is still longer for the original dataset than with the reduced dataset. Based on these results, training a classifier on a reduced dataset using PCA with SVM seems to result in better performance during testing in terms of computational time and accuracy."
   ]
  },
  {
   "cell_type": "markdown",
   "id": "a86d2665",
   "metadata": {},
   "source": [
    "## Problem 4"
   ]
  },
  {
   "cell_type": "markdown",
   "id": "6e47f19a",
   "metadata": {},
   "source": [
    "### Part 1: Evaluate performance of ISOMAP with logisitic regression"
   ]
  },
  {
   "cell_type": "code",
   "execution_count": 20,
   "id": "ae1379d8",
   "metadata": {},
   "outputs": [],
   "source": [
    "import joblib\n",
    "# Load reduced dimensional test set with isomap n_components=1250\n",
    "proj_1250_iso = joblib.load('lists/proj_1250_test_Q4');\n",
    "# Load preprocessing pipeline for Part 4 ISOMAP(with logistic regession classifier)\n",
    "pipe_p4_iso = joblib.load('pipelines/pipe_Q4_iso');"
   ]
  },
  {
   "cell_type": "code",
   "execution_count": 21,
   "id": "94e5ae48",
   "metadata": {},
   "outputs": [],
   "source": [
    "# Apply transformations to test set\n",
    "y_test_iso = pipe_p4_iso.predict(proj_1250_iso)"
   ]
  },
  {
   "cell_type": "code",
   "execution_count": 22,
   "id": "55820de6",
   "metadata": {},
   "outputs": [
    {
     "name": "stdout",
     "output_type": "stream",
     "text": [
      "\n",
      "\n",
      "Test Set Performance\n",
      "Accuracy Score: 9.583333333333334 %\n",
      "Performance Report: \n",
      "              precision    recall  f1-score   support\n",
      "\n",
      "         0.0       0.09      0.09      0.09       275\n",
      "         1.0       0.12      0.13      0.13       270\n",
      "         2.0       0.13      0.14      0.14       287\n",
      "         3.0       0.09      0.09      0.09       295\n",
      "         4.0       0.06      0.05      0.05       309\n",
      "         5.0       0.11      0.10      0.10       297\n",
      "         6.0       0.05      0.05      0.05       291\n",
      "         7.0       0.09      0.09      0.09       278\n",
      "         8.0       0.09      0.10      0.10       292\n",
      "         9.0       0.12      0.13      0.12       286\n",
      "\n",
      "    accuracy                           0.10      2880\n",
      "   macro avg       0.10      0.10      0.10      2880\n",
      "weighted avg       0.09      0.10      0.10      2880\n",
      "\n",
      "\n",
      "\n",
      "\n"
     ]
    }
   ],
   "source": [
    "# Evaluate performance\n",
    "from sklearn.metrics import classification_report\n",
    "\n",
    "print('\\n\\nTest Set Performance')\n",
    "print('Accuracy Score:', pipe_p4_iso.score(proj_1250_iso,t_test)*100,'%') \n",
    "print('Performance Report: ')\n",
    "print(classification_report(t_test,y_test_iso))\n",
    "print('\\n\\n')"
   ]
  },
  {
   "cell_type": "code",
   "execution_count": 28,
   "id": "11c4df1b",
   "metadata": {},
   "outputs": [
    {
     "name": "stdout",
     "output_type": "stream",
     "text": [
      "Accuracy score for Classifier on 1250 dimensions: \n",
      "50.763888888888886\n"
     ]
    },
    {
     "name": "stderr",
     "output_type": "stream",
     "text": [
      "/Users/diana/opt/anaconda3/lib/python3.9/site-packages/sklearn/linear_model/_logistic.py:814: ConvergenceWarning: lbfgs failed to converge (status=1):\n",
      "STOP: TOTAL NO. of ITERATIONS REACHED LIMIT.\n",
      "\n",
      "Increase the number of iterations (max_iter) or scale the data as shown in:\n",
      "    https://scikit-learn.org/stable/modules/preprocessing.html\n",
      "Please also refer to the documentation for alternative solver options:\n",
      "    https://scikit-learn.org/stable/modules/linear_model.html#logistic-regression\n",
      "  n_iter_i = _check_optimize_result(\n"
     ]
    }
   ],
   "source": [
    "print(\"Accuracy score for Classifier on 1250 dimensions: \")\n",
    "pipe_p4_iso.fit(proj_1250_iso, t_test)\n",
    "print((pipe_p4_iso.named_steps['classifier'].score(proj_1250_iso,t_test)*100))"
   ]
  },
  {
   "cell_type": "markdown",
   "id": "0d0d7932",
   "metadata": {},
   "source": [
    "### Part 2: Evaluate performance of LLE with logisitic regression"
   ]
  },
  {
   "cell_type": "code",
   "execution_count": 24,
   "id": "5ef7218f",
   "metadata": {},
   "outputs": [],
   "source": [
    "# Load reduced dimensional test set with lle n_components=1250\n",
    "proj_1250_lle = joblib.load('lists/proj_1250_lle_test_Q4');\n",
    "# Load preprocessing pipeline for Part 4 LLE(with logistic regession classifier)\n",
    "pipe_p4_lle = joblib.load('pipelines/pipe_Q4_lle');\n"
   ]
  },
  {
   "cell_type": "code",
   "execution_count": 25,
   "id": "36c8839b",
   "metadata": {},
   "outputs": [],
   "source": [
    "# Apply transformations to test set\n",
    "y_test_lle = pipe_p4_lle.predict(proj_1250_lle)"
   ]
  },
  {
   "cell_type": "code",
   "execution_count": 26,
   "id": "71921bf1",
   "metadata": {},
   "outputs": [
    {
     "name": "stdout",
     "output_type": "stream",
     "text": [
      "\n",
      "\n",
      "Test Set Performance\n",
      "Accuracy Score: 10.833333333333334 %\n",
      "Performance Report: \n",
      "              precision    recall  f1-score   support\n",
      "\n",
      "         0.0       0.11      0.10      0.11       275\n",
      "         1.0       0.10      0.13      0.11       270\n",
      "         2.0       0.09      0.09      0.09       287\n",
      "         3.0       0.14      0.15      0.15       295\n",
      "         4.0       0.10      0.09      0.09       309\n",
      "         5.0       0.13      0.13      0.13       297\n",
      "         6.0       0.13      0.12      0.12       291\n",
      "         7.0       0.08      0.08      0.08       278\n",
      "         8.0       0.09      0.09      0.09       292\n",
      "         9.0       0.10      0.10      0.10       286\n",
      "\n",
      "    accuracy                           0.11      2880\n",
      "   macro avg       0.11      0.11      0.11      2880\n",
      "weighted avg       0.11      0.11      0.11      2880\n",
      "\n",
      "\n",
      "\n",
      "\n"
     ]
    }
   ],
   "source": [
    "# Evaluate performance\n",
    "from sklearn.metrics import classification_report\n",
    "\n",
    "print('\\n\\nTest Set Performance')\n",
    "print('Accuracy Score:', pipe_p4_lle.score(proj_1250_lle,t_test)*100,'%') \n",
    "print('Performance Report: ')\n",
    "print(classification_report(t_test,y_test_lle))\n",
    "print('\\n\\n')"
   ]
  },
  {
   "cell_type": "code",
   "execution_count": 29,
   "id": "2bd50eca",
   "metadata": {},
   "outputs": [
    {
     "name": "stdout",
     "output_type": "stream",
     "text": [
      "Accuracy score for Classifier on 1250 dimensions: \n",
      "21.666666666666668\n"
     ]
    },
    {
     "name": "stderr",
     "output_type": "stream",
     "text": [
      "/Users/diana/opt/anaconda3/lib/python3.9/site-packages/sklearn/linear_model/_logistic.py:814: ConvergenceWarning: lbfgs failed to converge (status=1):\n",
      "STOP: TOTAL NO. of ITERATIONS REACHED LIMIT.\n",
      "\n",
      "Increase the number of iterations (max_iter) or scale the data as shown in:\n",
      "    https://scikit-learn.org/stable/modules/preprocessing.html\n",
      "Please also refer to the documentation for alternative solver options:\n",
      "    https://scikit-learn.org/stable/modules/linear_model.html#logistic-regression\n",
      "  n_iter_i = _check_optimize_result(\n"
     ]
    }
   ],
   "source": [
    "print(\"Accuracy score for Classifier on 1250 dimensions: \")\n",
    "pipe_p4_lle.fit(proj_1250_lle, t_test)\n",
    "print((pipe_p4_lle.named_steps['classifier'].score(proj_1250_lle,t_test)*100))"
   ]
  },
  {
   "cell_type": "markdown",
   "id": "9045bd1d",
   "metadata": {},
   "source": [
    "### Part 3: Evaluate performance of MDS with logisitic regression"
   ]
  },
  {
   "cell_type": "code",
   "execution_count": 37,
   "id": "c8208728",
   "metadata": {},
   "outputs": [],
   "source": [
    "# Load reduced dimensional test set with mds n_components=2\n",
    "proj_2_mds = joblib.load('lists/proj_2_mds_test_Q4');\n",
    "# Load preprocessing pipeline for Part 4 (with logistic regession classifier)\n",
    "pipe_p4_mds = joblib.load('pipelines/pipe_Q4_mds');"
   ]
  },
  {
   "cell_type": "code",
   "execution_count": 38,
   "id": "0a7f7e66",
   "metadata": {},
   "outputs": [],
   "source": [
    "# Apply transformations to test set\n",
    "y_test_mds = pipe_p4_mds.predict(proj_2_mds)"
   ]
  },
  {
   "cell_type": "code",
   "execution_count": 39,
   "id": "da046715",
   "metadata": {},
   "outputs": [
    {
     "name": "stdout",
     "output_type": "stream",
     "text": [
      "\n",
      "\n",
      "Test Set Performance\n",
      "Accuracy Score: 9.756944444444445 %\n",
      "Performance Report: \n",
      "              precision    recall  f1-score   support\n",
      "\n",
      "         0.0       0.09      0.18      0.12       275\n",
      "         1.0       0.10      0.19      0.13       270\n",
      "         2.0       0.00      0.00      0.00       287\n",
      "         3.0       0.00      0.00      0.00       295\n",
      "         4.0       0.00      0.00      0.00       309\n",
      "         5.0       0.13      0.02      0.03       297\n",
      "         6.0       0.08      0.02      0.03       291\n",
      "         7.0       0.10      0.20      0.13       278\n",
      "         8.0       0.09      0.07      0.08       292\n",
      "         9.0       0.11      0.34      0.16       286\n",
      "\n",
      "    accuracy                           0.10      2880\n",
      "   macro avg       0.07      0.10      0.07      2880\n",
      "weighted avg       0.07      0.10      0.07      2880\n",
      "\n",
      "\n",
      "\n",
      "\n"
     ]
    },
    {
     "name": "stderr",
     "output_type": "stream",
     "text": [
      "/Users/diana/opt/anaconda3/lib/python3.9/site-packages/sklearn/metrics/_classification.py:1318: UndefinedMetricWarning: Precision and F-score are ill-defined and being set to 0.0 in labels with no predicted samples. Use `zero_division` parameter to control this behavior.\n",
      "  _warn_prf(average, modifier, msg_start, len(result))\n",
      "/Users/diana/opt/anaconda3/lib/python3.9/site-packages/sklearn/metrics/_classification.py:1318: UndefinedMetricWarning: Precision and F-score are ill-defined and being set to 0.0 in labels with no predicted samples. Use `zero_division` parameter to control this behavior.\n",
      "  _warn_prf(average, modifier, msg_start, len(result))\n",
      "/Users/diana/opt/anaconda3/lib/python3.9/site-packages/sklearn/metrics/_classification.py:1318: UndefinedMetricWarning: Precision and F-score are ill-defined and being set to 0.0 in labels with no predicted samples. Use `zero_division` parameter to control this behavior.\n",
      "  _warn_prf(average, modifier, msg_start, len(result))\n"
     ]
    }
   ],
   "source": [
    "print('\\n\\nTest Set Performance')\n",
    "print('Accuracy Score:', pipe_p4_mds.score(proj_2_mds,t_test)*100,'%') \n",
    "print('Performance Report: ')\n",
    "print(classification_report(t_test,y_test_mds))\n",
    "print('\\n\\n')"
   ]
  },
  {
   "cell_type": "code",
   "execution_count": 41,
   "id": "55257622",
   "metadata": {},
   "outputs": [
    {
     "name": "stdout",
     "output_type": "stream",
     "text": [
      "Accuracy score for Classifier on 2 dimensions: \n",
      "11.11111111111111\n"
     ]
    }
   ],
   "source": [
    "print(\"Accuracy score for Classifier on 2 dimensions: \")\n",
    "pipe_p4_mds.fit(proj_2_mds, t_test)\n",
    "print((pipe_p4_mds.named_steps['classifier'].score(proj_2_mds,t_test)*100))"
   ]
  },
  {
   "cell_type": "markdown",
   "id": "42cc93c9",
   "metadata": {},
   "source": [
    "Looking at the results, ISOMAP performed best in making predictions, but the accuracy score when the classifier is applied is the lowest out of the three. ISOMAP performed the best when the test data is transformed, having the highest accuracy score out of the three and also performed faster than MDS."
   ]
  },
  {
   "cell_type": "code",
   "execution_count": null,
   "id": "682d7908",
   "metadata": {},
   "outputs": [],
   "source": []
  }
 ],
 "metadata": {
  "kernelspec": {
   "display_name": "Python 3 (ipykernel)",
   "language": "python",
   "name": "python3"
  },
  "language_info": {
   "codemirror_mode": {
    "name": "ipython",
    "version": 3
   },
   "file_extension": ".py",
   "mimetype": "text/x-python",
   "name": "python",
   "nbconvert_exporter": "python",
   "pygments_lexer": "ipython3",
   "version": "3.9.12"
  }
 },
 "nbformat": 4,
 "nbformat_minor": 5
}
